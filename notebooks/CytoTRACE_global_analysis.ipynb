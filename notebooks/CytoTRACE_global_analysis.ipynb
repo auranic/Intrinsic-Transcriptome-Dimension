{
 "cells": [
  {
   "cell_type": "code",
   "execution_count": 3,
   "metadata": {},
   "outputs": [
    {
     "name": "stdout",
     "output_type": "stream",
     "text": [
      "['/mnt/c/Datas/SingleCellTranscriptomics/RNAVelocity', '/usr/lib/python37.zip', '/usr/lib/python3.7', '/usr/lib/python3.7/lib-dynload', '', '/home/zinovyev/.local/lib/python3.7/site-packages', '/usr/local/lib/python3.7/dist-packages', '/usr/lib/python3/dist-packages', '/home/zinovyev/.local/lib/python3.7/site-packages/IPython/extensions', '/home/zinovyev/.ipython', '/home/zinovyev/anaconda3/lib/python3.7/site-packages']\n",
      "['/mnt/c/Datas/SingleCellTranscriptomics/RNAVelocity', '/usr/lib/python37.zip', '/usr/lib/python3.7', '/usr/lib/python3.7/lib-dynload', '', '/home/zinovyev/.local/lib/python3.7/site-packages', '/usr/local/lib/python3.7/dist-packages', '/usr/lib/python3/dist-packages', '/home/zinovyev/.local/lib/python3.7/site-packages/IPython/extensions', '/home/zinovyev/.ipython', '/home/zinovyev/anaconda3/lib/python3.7/site-packages', '/home/zinovyev/anaconda3/lib/python3.7/site-packages', '/home/zinovyev/anaconda3/lib/python3.7/site-packages/skdim/']\n"
     ]
    }
   ],
   "source": [
    "import sys\n",
    "print(sys.path)\n",
    "sys.path.append('/home/zinovyev/anaconda3/lib/python3.7/site-packages')\n",
    "sys.path.append('/home/zinovyev/anaconda3/lib/python3.7/site-packages/skdim/')\n",
    "print(sys.path)"
   ]
  },
  {
   "cell_type": "code",
   "execution_count": 4,
   "metadata": {},
   "outputs": [],
   "source": [
    "######################################################\n",
    "######################################################\n",
    "##########       GLOBAL ANALYSIS           ###########\n",
    "######################################################\n",
    "######################################################"
   ]
  },
  {
   "cell_type": "code",
   "execution_count": 4,
   "metadata": {
    "scrolled": true
   },
   "outputs": [],
   "source": [
    "import numpy as np\n",
    "import pandas as pd\n",
    "import scvelo as sv\n",
    "import anndata\n",
    "import scanpy as sc\n",
    "import time\n",
    "import skdim\n",
    "import matplotlib as mpl\n",
    "import matplotlib.pyplot as plt\n",
    "from scipy.stats.mstats import winsorize\n",
    "from scipy import stats\n",
    "import elpigraph_ps_tools\n",
    "import importlib\n",
    "importlib.reload(elpigraph_ps_tools)\n",
    "from sklearn.neighbors import NearestNeighbors\n",
    "from sklearn.decomposition import PCA\n",
    "from collections import Counter\n",
    "\n",
    "import seaborn as sns\n",
    "\n",
    "def get_surrogate_signature(adata,score,n_top_genes=200,negative_side=False,producePlot=False):\n",
    "    X = adata.X.T\n",
    "    gene_corrs = np.zeros(len(X))\n",
    "    for i in range(len(X)):\n",
    "        gene_corrs[i] = stats.spearmanr(X[i,:],score)[0]\n",
    "    #mn_corr = np.mean(np.abs(gene_corrs))\n",
    "    if not negative_side:\n",
    "        inds = np.flip(np.argsort(gene_corrs))\n",
    "    else:\n",
    "        inds = np.argsort(gene_corrs)\n",
    "    #print(gene_corrs[inds])\n",
    "    inds_top = inds[0:n_top_genes]\n",
    "    signature_gene_names = adata.var_names[inds_top]\n",
    "    signature_scores = np.mean(X[inds_top,:],axis=0)\n",
    "    #print(*signature_gene_names)\n",
    "    if producePlot:\n",
    "        plt.scatter(score,signature_scores,c='k')\n",
    "        plt.xlabel('Initial score')\n",
    "        plt.ylabel('Surrogate score')\n",
    "        plt.title('Corr = '+str(stats.spearmanr(signature_scores,score)[0]))\n",
    "        plt.show()\n",
    "    return signature_gene_names,signature_scores,gene_corrs,inds_top\n",
    "\n",
    "def smooth_adata_by_pooling(adata,X_embed,n_neighbours=10):\n",
    "    adata_pooled = adata.copy()\n",
    "    nbrs = NearestNeighbors(n_neighbors=n_neighbours).fit(X_embed)\n",
    "    distances, indices = nbrs.kneighbors(X_embed)    \n",
    "    adata_pooled.X = smooth_matrix_by_pooling(get_nd_array(adata.X),indices)\n",
    "    if 'matrix' in adata.layers:\n",
    "        adata_pooled.layers['matrix'] = smooth_matrix_by_pooling(get_nd_array(adata.layers['matrix']),indices)\n",
    "    if 'spliced' in adata.layers:\n",
    "        adata_pooled.layers['spliced'] = smooth_matrix_by_pooling(get_nd_array(adata.layers['spliced']),indices)\n",
    "    if 'unspliced' in adata.layers:\n",
    "        adata_pooled.layers['unspliced'] = smooth_matrix_by_pooling(get_nd_array(adata.layers['unspliced']),indices)\n",
    "    return adata_pooled\n",
    "\n",
    "def smooth_matrix_by_pooling(matrix,indices):\n",
    "    matrix_pooled = matrix.copy()\n",
    "    for i in range(len(indices)):\n",
    "        matrix_pooled[i,:] = np.mean(matrix[indices[i],:],axis=0)\n",
    "    return matrix_pooled\n",
    "\n",
    "def get_nd_array(arr):\n",
    "    x = None\n",
    "    if str(type(arr)):\n",
    "        x = arr\n",
    "    else:\n",
    "        x = arr.toarray()\n",
    "    return x\n",
    "\n",
    "def weighted_mean(x, w):\n",
    "    \"\"\"Weighted Mean\"\"\"\n",
    "    return np.average(x,weights=w)\n",
    "def weighterd_covariance(x, y, w):\n",
    "    \"\"\"Weighted Covariance\"\"\"\n",
    "    return np.sum(w * (x - weighted_mean(x, w)) * (y - weighted_mean(y, w))) / np.sum(w)\n",
    "def weighted_pearson_corr(x, y, w):\n",
    "    \"\"\"Weighted Correlation\"\"\"\n",
    "    return weighterd_covariance(x, y, w) / np.sqrt(weighterd_covariance(x, x, w) * weighterd_covariance(y, y, w))\n",
    "def pearson_inversely_weighted_by_classes(x,y,classes):\n",
    "    weights = np.ones(len(x))\n",
    "    counter = Counter(classes)\n",
    "    for key in counter.keys():\n",
    "        nk = counter[key]\n",
    "        wk = len(x)/nk\n",
    "        #print(classes)\n",
    "        #print(key)\n",
    "        #print(np.argwhere(classes==key))\n",
    "        weights[np.argwhere(classes==key)] = wk\n",
    "    return weighted_pearson_corr(x,y,weights)\n",
    "def spearman_inversely_weighted_by_classes(x,y,classes,resolve_ties=None):\n",
    "    xr = stats.rankdata(x)\n",
    "    yr = stats.rankdata(y)\n",
    "    #if resolve_ties is not None:\n",
    "    return pearson_inversely_weighted_by_classes(xr,yr,classes)\n",
    "def pearson_weighted_by_classes(x,y,classes):\n",
    "    weights = np.ones(len(x))\n",
    "    counter = Counter(classes)\n",
    "    for key in counter.keys():\n",
    "        nk = counter[key]\n",
    "        wk = nk/len(x)\n",
    "        weights[np.argwhere(classes==key)] = wk\n",
    "    return weighted_pearson_corr(x,y,weights)\n",
    "def spearman_weighted_by_classes(x,y,classes,resolve_ties=None):\n",
    "    xr = stats.rankdata(x)\n",
    "    yr = stats.rankdata(y)\n",
    "    #if resolve_ties is not None:\n",
    "    return pearson_weighted_by_classes(xr,yr,classes)\n",
    "\n",
    "\n",
    "def estimating_global_ID(X,id_methods=['ESS','FisherS','FisherS_GPW','TwoNN','PCA_FO_0_1','PCA_FO_0_05','PCA_BS','PCA_KS']):\n",
    "    if 'ESS' in id_methods:\n",
    "        s=time.time()\n",
    "        ESS_dim = skdim.lid.ESS().fit(X).dimension_\n",
    "        print('ESS=',ESS_dim,',',round(time.time()-s,2),'sec')\n",
    "    if 'FisherS' in id_methods:\n",
    "        s=time.time()\n",
    "        FisherS_dim = skdim.lid.FisherS(conditional_number=conditional_number).fit(X).dimension_\n",
    "        print('FisherS=',FisherS_dim,',',round(time.time()-s,2),'sec')\n",
    "    if 'FisherS_GPW' in id_methods:\n",
    "        s=time.time()\n",
    "        FisherS_GPW_dim = np.mean(skdim.lid.FisherS(conditional_number=conditional_number).fit(X).point_inseparability_to_pointID(idx='selected')[0])\n",
    "        print('FisherS_GPW=',FisherS_GPW_dim,',',round(time.time()-s,2),'sec')\n",
    "    if 'TwoNN' in id_methods:\n",
    "        s=time.time()\n",
    "        TwoNN_dim = skdim.gid.TwoNN().fit(X).dimension_\n",
    "        print('TwoNN=',TwoNN_dim,',',round(time.time()-s,2),'sec')\n",
    "    if 'PCA_FO_0_1' in id_methods:\n",
    "        s=time.time()\n",
    "        PCA_FO_01_dim = skdim.lid.lPCA(alphaFO=.1).fit(X).dimension_\n",
    "        print('PCA_FO_0_1=',PCA_FO_01_dim,',',round(time.time()-s,2),'sec')\n",
    "    if 'PCA_FO_0_05' in id_methods:\n",
    "        s=time.time()\n",
    "        PCA_FO_005_dim = skdim.lid.lPCA(alphaFO=.05).fit(X).dimension_\n",
    "        print('PCA_FO_0_05=',PCA_FO_005_dim,',',round(time.time()-s,2),'sec')\n",
    "    if 'PCA_BS' in id_methods:        \n",
    "        s=time.time()\n",
    "        PCA_BS_dim = skdim.lid.lPCA(ver='broken_stick').fit(X).dimension_\n",
    "        print('PCA_BS=',PCA_BS_dim,',',round(time.time()-s,2),'sec')\n",
    "    if 'PCA_KS' in id_methods:        \n",
    "        s=time.time()\n",
    "        PCA_KS_dim = skdim.lid.lPCA(ver='Kaiser').fit(X).dimension_\n",
    "        print('PCA_KS=',PCA_KS_dim,',',round(time.time()-s,2),'sec')\n",
    "    \n",
    "def boxplot_dim_vs_order(adata,method,order,cytotrace_score,calc_surrogate=False):\n",
    "    if method=='CytoTRACE':\n",
    "        DIM = cytotrace_score\n",
    "        if calc_surrogate:\n",
    "            score = DIM\n",
    "            signature_gene_names,signature_scores,gene_corrs,inds_top = get_surrogate_signature(adata[ind_samples,:],score,n_top_genes=200,negative_side=False,producePlot=False)\n",
    "            DIM = signature_scores\n",
    "        DIM_reduced = DIM\n",
    "    elif method=='PC1':\n",
    "        DIM = np.array(adata.obsm['X_pca'][:,0])\n",
    "        if calc_surrogate:\n",
    "            score = DIM\n",
    "            signature_gene_names,signature_scores,gene_corrs,inds_top = get_surrogate_signature(adata,score,n_top_genes=200,negative_side=False,producePlot=False)\n",
    "            DIM = signature_scores\n",
    "        DIM_reduced = DIM[ind_samples]\n",
    "    else:\n",
    "        DIM = np.array(adata.uns[f'lid{n_neighbors}'][method])\n",
    "        if calc_surrogate:\n",
    "            score = DIM\n",
    "            signature_gene_names,signature_scores,gene_corrs,inds_top = get_surrogate_signature(adata,score,n_top_genes=200,negative_side=False,producePlot=False)\n",
    "            DIM = signature_scores        \n",
    "        DIM_reduced = DIM[ind_samples]\n",
    "    DIM = winsorize(DIM, limits=(0.01,0.01), inclusive=(True, True))\n",
    "    corr_DIM = stats.spearmanr(order,DIM_reduced).correlation\n",
    "    weighted_corr_DIM = spearman_weighted_by_classes(order,DIM_reduced,order)\n",
    "    inverse_weighted_corr_DIM = spearman_inversely_weighted_by_classes(order,DIM_reduced,order)\n",
    "    uval = np.sort(np.unique(order))\n",
    "    series = []\n",
    "    for val in uval:\n",
    "        ser = DIM_reduced[np.argwhere(order==val).flatten()]\n",
    "        series.append(ser)\n",
    "    plt.scatter(order,DIM_reduced,s=50)\n",
    "    plt.boxplot(series)\n",
    "    plt.xlabel('Order')\n",
    "    plt.xticks(np.arange(1,len(uval)+1),labels=uval)\n",
    "    plt.title(method)\n",
    "    return corr_DIM, weighted_corr_DIM, inverse_weighted_corr_DIM, DIM\n",
    "\n",
    "def load_dataset(irx):\n",
    "    dataset = datasets[irx]\n",
    "    print('Dataset = ',dataset)\n",
    "    adata_orig = sc.read_h5ad(folder+dataset+'.h5ad')\n",
    "    cellnames = adata_orig.uns['cellnames']\n",
    "    allcellnames = adata_orig.uns['allcellnames']\n",
    "    #ind_samples = np.where(np.isin(allcellnames,cellnames))[0]\n",
    "    print('N cells=',len(adata_orig),', N cellnames=',len(cellnames),', N allcellnames=',len(allcellnames))\n",
    "    print('Len Order=',len(adata_orig.uns['Order']),', Len CytoTRACE=',len(adata_orig.uns['CytoTRACE']),', Len Counts=',len(adata_orig.uns['Counts']))    \n",
    "    indices = np.where(np.isin(adata_orig.uns['allcellnames'],adata_orig.uns['cellnames']))[0] if irx not in [0,29,32] else np.array([int(i) for i in range(len(adata_orig.X))]).astype('int32') \n",
    "    #print(len(ind_samples))\n",
    "    #adata_orig = adata_orig[ind_samples,:]\n",
    "    #display(adata_orig)\n",
    "    return adata_orig, indices\n",
    "    \n",
    "def preprocessing_without_pooling(adata):\n",
    "    if not Already_Log_Transformed:\n",
    "        sc.pp.log1p(adata)\n",
    "    if top_variable_genes>0:\n",
    "        #sc.pp.highly_variable_genes(adata,n_top_genes=top_variable_genes,n_bins=20)\n",
    "        #ind_genes = np.where(adata.var['highly_variable'])[0]\n",
    "        vars = np.var(adata.X,axis=0)\n",
    "        inds = np.flip(np.argsort(vars))\n",
    "        ind_genes = inds[0:top_variable_genes]\n",
    "        if 0 in vars[ind_genes]:\n",
    "            ind_first_zero = np.argwhere(vars[ind_genes]==0)[0][0]\n",
    "            ind_genes = ind_genes[0:ind_first_zero]\n",
    "        #print(vars[ind_genes])\n",
    "        adata = adata[:,ind_genes]\n",
    "    sc.tl.pca(adata,n_comps=number_of_pcs)\n",
    "    return adata\n",
    "\n",
    "# pooling procedure\n",
    "def pooling_procedure(adata):\n",
    "    if n_neighbours_for_pooling>0:    \n",
    "        adata_work = adata_orig.copy()\n",
    "        preprocessing_without_pooling(adata)\n",
    "        sc.tl.pca(adata,n_comps=number_of_pcs)\n",
    "        X_pca = adata.obsm['X_pca']\n",
    "        adata = smooth_adata_by_pooling(adata_work,X_pca,n_neighbours=n_neighbours_for_pooling)\n",
    "    return adata\n",
    "\n",
    "def preprocessing_dataset(adata):\n",
    "    #adata.obsm['umap'] = adata.uns['X_umap']\n",
    "    #adata.obsm['fa'] = adata.uns['X_fa']\n",
    "    #adata.obs['Order'] = np.array(adata.uns['Order'])\n",
    "    #adata.obs['CytoTRACE'] = np.array(adata.uns['CytoTRACE'])\n",
    "    #adata.obs['Counts'] = np.array(adata.uns['Counts'][ind_samples])\n",
    "    \n",
    "    adata = preprocessing_without_pooling(adata)\n",
    "    \n",
    "    sc.tl.pca(adata,n_comps=number_of_pcs)\n",
    "    display(adata)\n",
    "    return adata\n",
    "\n",
    "def consensus_dimension_PCA(adata,methods,useSurrogate=False):\n",
    "    scores = np.zeros((len(adata),len(methods)))\n",
    "    prefix = ''\n",
    "    if useSurrogate:\n",
    "        prefix = 'surrogate_'\n",
    "    for i,meth in enumerate(methods):\n",
    "        scores[:,i] = adata.uns[f'lid{n_neighbors}'][prefix+meth]\n",
    "    pca = PCA(n_components=1)\n",
    "    u = pca.fit_transform(scores)\n",
    "    s = pca.explained_variance_\n",
    "    return u,s\n",
    "\n",
    "def consensus_score_PCA(score_array):\n",
    "    pca = PCA(n_components=1)\n",
    "    u = pca.fit_transform(score_array)\n",
    "    s = pca.explained_variance_\n",
    "    return u,s\n",
    "\n",
    "def consensus_dimension_PCA_combined_CytoTRACE_PC1(adata,adata_reduced,methods,useSurrogate=False):\n",
    "    methods1 = methods.copy()\n",
    "    methods1.append('CytoTRACE')\n",
    "    methods1.append('PC1')\n",
    "    adata_reduced.uns[f'lid{n_neighbors}']={}\n",
    "    for meth in methods1:\n",
    "        if not meth=='CytoTRACE':\n",
    "            adata_reduced.uns[f'lid{n_neighbors}']['surrogate_'+meth] = np.array(adata.uns[f'lid{n_neighbors}']['surrogate_'+meth])[ind_samples]\n",
    "            if not meth=='PC1':\n",
    "                adata_reduced.uns[f'lid{n_neighbors}'][meth] = np.array(adata.uns[f'lid{n_neighbors}'][meth])[ind_samples]\n",
    "        else:\n",
    "            adata_reduced.uns[f'lid{n_neighbors}']['surrogate_'+meth] = np.array(adata.uns[f'lid{n_neighbors}']['surrogate_'+meth])\n",
    "    cons_dim,s = consensus_dimension_PCA(adata_reduced,methods1,useSurrogate=useSurrogate)\n",
    "    return cons_dim,s\n",
    "\n",
    "#folder = '/mnt/c/Datas/ExpressionIDim/singlecell-id-paper/data/Cytotrace_datasets/anndata/'\n",
    "folder= '/mnt/c/Datas/ExpressionIDim/singlecell-id-paper/data/Cytotrace_datasets/anndata/anndata_id_computed'\n",
    "folder_out = '/mnt/c/Datas/ExpressionIDim/singlecell-id-paper/data/Cytotrace_datasets/anndata_id_computed/'\n",
    "\n",
    "datasets = ['GSE59114_0', \n",
    "            'GSE74767_1', \n",
    "            'GSE74767_2',\n",
    "            'GSE90860_3',\n",
    "            'GSE95753_4',\n",
    "            'GSE95753_5',\n",
    "            'GSE67123_6',\n",
    "            'GSE98451_7',\n",
    "            'GSE99933_8',\n",
    "            'GSE94641_9',\n",
    "            'GSE60783_10',\n",
    "            'GSE67602_11',\n",
    "            'GSE70245_12',\n",
    "            'GSE90047_13',\n",
    "            'GSE75748_14',\n",
    "            'GSE52529_15',\n",
    "            'GSE85066_16',\n",
    "            'GSE93421_17',\n",
    "            'GSE36552_18',\n",
    "            'GSE86146_19',\n",
    "            'GSE98664_20',\n",
    "            'GSE52583_21',\n",
    "            'GSE97391_22',\n",
    "            'GSE76408_23',\n",
    "            'GSE109774_24',\n",
    "            'GSE109774_25',\n",
    "            'GSE92332_26', \n",
    "            'GSE97391_27', \n",
    "            'GSE45719_28',\n",
    "            'GSE52583_29',\n",
    "            'GSE69761_30',\n",
    "            'GSE92332_31', \n",
    "            'GSE107122_32',\n",
    "            'GSE64447_33', \n",
    "            'GSE102066_34', \n",
    "            'GSE75330_35', \n",
    "            'GSE75330_36',\n",
    "            'GSE87375_37',\n",
    "            'GSE87375_38', \n",
    "            'GSE103633_39',\n",
    "            'GSE107910_40',\n",
    "            'GSE106587_41']"
   ]
  },
  {
   "cell_type": "code",
   "execution_count": 8,
   "metadata": {},
   "outputs": [
    {
     "name": "stdout",
     "output_type": "stream",
     "text": [
      "Loading GSE59114_0\n",
      "Dataset =  GSE59114_0\n",
      "N cells= 1618 , N cellnames= 1618 , N allcellnames= 1622\n",
      "Len Order= 1618 , Len CytoTRACE= 1618 , Len Counts= 1618\n",
      "PREPROCESSING PARAMETERS:\n",
      "Already_Log_Transformed= True\n",
      "Normalize_Totals= False\n",
      "number_of_pcs= 30\n",
      "n_neighbours_for_pooling= 10\n",
      "top_variable_genes= 10000\n"
     ]
    },
    {
     "data": {
      "text/plain": [
       "AnnData object with n_obs × n_vars = 1618 × 7539\n",
       "    uns: 'Already_Log_Transformed', 'Counts', 'CytoTRACE', 'GCS', 'Global_FisherS_GPW', 'Normalize_Totals', 'Order', 'PC1', 'Phenotype', 'X_fa', 'X_tsne', 'X_umap', 'allcellnames', 'allgenenames', 'cellnames', 'conditional_number', 'cytoGenes', 'gcsGenes', 'gcsGenesNames', 'ind_samples', 'info', 'lid100', 'n_neighbours_for_pooling', 'number_of_pcs', 'pca', 'surrogate_CytoTRACE', 'surrogate_PC1', 'top_variable_genes'\n",
       "    obsm: 'PC1', 'X_pca'\n",
       "    varm: 'PCs'"
      ]
     },
     "metadata": {},
     "output_type": "display_data"
    },
    {
     "name": "stdout",
     "output_type": "stream",
     "text": [
      "COMPUTATIONAL PARAMETERS:\n",
      "conditional_number= 10\n",
      "n_neighbors= 100\n",
      "Computing DANCo\n",
      "Warning: your data might contain duplicate rows, which can affect results\n",
      "Computed in  24.94 sec\n",
      "==========================================================\n",
      "\n",
      "\n",
      "Loading GSE74767_1\n",
      "Dataset =  GSE74767_1\n",
      "N cells= 421 , N cellnames= 212 , N allcellnames= 421\n",
      "Len Order= 212 , Len CytoTRACE= 212 , Len Counts= 421\n",
      "PREPROCESSING PARAMETERS:\n",
      "Already_Log_Transformed= True\n",
      "Normalize_Totals= False\n",
      "number_of_pcs= 30\n",
      "n_neighbours_for_pooling= 5\n",
      "top_variable_genes= 10000\n"
     ]
    },
    {
     "data": {
      "text/plain": [
       "AnnData object with n_obs × n_vars = 421 × 10000\n",
       "    uns: 'Already_Log_Transformed', 'Counts', 'CytoTRACE', 'GCS', 'Global_FisherS_GPW', 'Normalize_Totals', 'Order', 'PC1', 'Phenotype', 'X_fa', 'X_tsne', 'X_umap', 'allcellnames', 'allgenenames', 'cellnames', 'conditional_number', 'cytoGenes', 'gcsGenes', 'gcsGenesNames', 'ind_samples', 'info', 'lid84', 'n_neighbours_for_pooling', 'number_of_pcs', 'pca', 'surrogate_CytoTRACE', 'surrogate_PC1', 'top_variable_genes'\n",
       "    obsm: 'PC1', 'X_pca'\n",
       "    varm: 'PCs'"
      ]
     },
     "metadata": {},
     "output_type": "display_data"
    },
    {
     "name": "stdout",
     "output_type": "stream",
     "text": [
      "COMPUTATIONAL PARAMETERS:\n",
      "conditional_number= 10\n",
      "n_neighbors= 84\n",
      "Computing DANCo\n",
      "Warning: your data might contain duplicate rows, which can affect results\n",
      "Computed in  12.68 sec\n",
      "==========================================================\n",
      "\n",
      "\n",
      "Loading GSE74767_2\n",
      "Dataset =  GSE74767_2\n",
      "N cells= 421 , N cellnames= 421 , N allcellnames= 421\n",
      "Len Order= 421 , Len CytoTRACE= 421 , Len Counts= 421\n",
      "PREPROCESSING PARAMETERS:\n",
      "Already_Log_Transformed= True\n",
      "Normalize_Totals= False\n",
      "number_of_pcs= 30\n",
      "n_neighbours_for_pooling= 5\n",
      "top_variable_genes= 10000\n"
     ]
    },
    {
     "data": {
      "text/plain": [
       "AnnData object with n_obs × n_vars = 421 × 10000\n",
       "    uns: 'Already_Log_Transformed', 'Counts', 'CytoTRACE', 'GCS', 'Global_FisherS_GPW', 'Normalize_Totals', 'Order', 'PC1', 'Phenotype', 'X_fa', 'X_tsne', 'X_umap', 'allcellnames', 'allgenenames', 'cellnames', 'conditional_number', 'cytoGenes', 'gcsGenes', 'gcsGenesNames', 'ind_samples', 'info', 'lid84', 'n_neighbours_for_pooling', 'number_of_pcs', 'pca', 'surrogate_CytoTRACE', 'surrogate_PC1', 'top_variable_genes'\n",
       "    obsm: 'PC1', 'X_pca'\n",
       "    varm: 'PCs'"
      ]
     },
     "metadata": {},
     "output_type": "display_data"
    },
    {
     "name": "stdout",
     "output_type": "stream",
     "text": [
      "COMPUTATIONAL PARAMETERS:\n",
      "conditional_number= 10\n",
      "n_neighbors= 84\n",
      "Computing DANCo\n",
      "Warning: your data might contain duplicate rows, which can affect results\n",
      "Computed in  12.93 sec\n",
      "==========================================================\n",
      "\n",
      "\n",
      "Loading GSE90860_3\n",
      "Dataset =  GSE90860_3\n",
      "N cells= 223 , N cellnames= 223 , N allcellnames= 223\n",
      "Len Order= 223 , Len CytoTRACE= 223 , Len Counts= 223\n",
      "PREPROCESSING PARAMETERS:\n",
      "Already_Log_Transformed= True\n",
      "Normalize_Totals= False\n",
      "number_of_pcs= 30\n",
      "n_neighbours_for_pooling= 5\n",
      "top_variable_genes= 10000\n"
     ]
    },
    {
     "data": {
      "text/plain": [
       "AnnData object with n_obs × n_vars = 223 × 10000\n",
       "    uns: 'Already_Log_Transformed', 'Counts', 'CytoTRACE', 'GCS', 'Global_FisherS_GPW', 'Normalize_Totals', 'Order', 'PC1', 'Phenotype', 'X_fa', 'X_tsne', 'X_umap', 'allcellnames', 'allgenenames', 'cellnames', 'conditional_number', 'cytoGenes', 'gcsGenes', 'gcsGenesNames', 'ind_samples', 'info', 'lid44', 'n_neighbours_for_pooling', 'number_of_pcs', 'pca', 'surrogate_CytoTRACE', 'surrogate_PC1', 'top_variable_genes'\n",
       "    obsm: 'PC1', 'X_pca'\n",
       "    varm: 'PCs'"
      ]
     },
     "metadata": {},
     "output_type": "display_data"
    },
    {
     "name": "stdout",
     "output_type": "stream",
     "text": [
      "COMPUTATIONAL PARAMETERS:\n",
      "conditional_number= 10\n",
      "n_neighbors= 44\n",
      "Computing DANCo\n",
      "Warning: your data might contain duplicate rows, which can affect results\n",
      "Computed in  8.38 sec\n",
      "==========================================================\n",
      "\n",
      "\n",
      "Loading GSE95753_4\n",
      "Dataset =  GSE95753_4\n",
      "N cells= 6000 , N cellnames= 5344 , N allcellnames= 6000\n",
      "Len Order= 5344 , Len CytoTRACE= 5344 , Len Counts= 6000\n",
      "PREPROCESSING PARAMETERS:\n",
      "Already_Log_Transformed= True\n",
      "Normalize_Totals= False\n",
      "number_of_pcs= 30\n",
      "n_neighbours_for_pooling= 10\n",
      "top_variable_genes= 10000\n"
     ]
    },
    {
     "data": {
      "text/plain": [
       "AnnData object with n_obs × n_vars = 6000 × 10000\n",
       "    uns: 'Already_Log_Transformed', 'Counts', 'CytoTRACE', 'GCS', 'Global_FisherS_GPW', 'Normalize_Totals', 'Order', 'PC1', 'Phenotype', 'X_fa', 'X_tsne', 'X_umap', 'allcellnames', 'allgenenames', 'cellnames', 'conditional_number', 'cytoGenes', 'gcsGenes', 'gcsGenesNames', 'ind_samples', 'info', 'lid100', 'n_neighbours_for_pooling', 'number_of_pcs', 'pca', 'surrogate_CytoTRACE', 'surrogate_PC1', 'top_variable_genes'\n",
       "    obsm: 'PC1', 'X_pca'\n",
       "    varm: 'PCs'"
      ]
     },
     "metadata": {},
     "output_type": "display_data"
    },
    {
     "name": "stdout",
     "output_type": "stream",
     "text": [
      "COMPUTATIONAL PARAMETERS:\n",
      "conditional_number= 10\n",
      "n_neighbors= 100\n",
      "Computing DANCo\n",
      "Warning: your data might contain duplicate rows, which can affect results\n",
      "Computed in  91.83 sec\n",
      "==========================================================\n",
      "\n",
      "\n",
      "Loading GSE95753_5\n",
      "Dataset =  GSE95753_5\n",
      "N cells= 6000 , N cellnames= 6000 , N allcellnames= 6000\n",
      "Len Order= 6000 , Len CytoTRACE= 6000 , Len Counts= 6000\n",
      "PREPROCESSING PARAMETERS:\n",
      "Already_Log_Transformed= True\n",
      "Normalize_Totals= False\n",
      "number_of_pcs= 30\n",
      "n_neighbours_for_pooling= 10\n",
      "top_variable_genes= 10000\n"
     ]
    },
    {
     "data": {
      "text/plain": [
       "AnnData object with n_obs × n_vars = 6000 × 10000\n",
       "    uns: 'Already_Log_Transformed', 'Counts', 'CytoTRACE', 'GCS', 'Global_FisherS_GPW', 'Normalize_Totals', 'Order', 'PC1', 'Phenotype', 'X_fa', 'X_tsne', 'X_umap', 'allcellnames', 'allgenenames', 'cellnames', 'conditional_number', 'cytoGenes', 'gcsGenes', 'gcsGenesNames', 'ind_samples', 'info', 'lid100', 'n_neighbours_for_pooling', 'number_of_pcs', 'pca', 'surrogate_CytoTRACE', 'surrogate_PC1', 'top_variable_genes'\n",
       "    obsm: 'PC1', 'X_pca'\n",
       "    varm: 'PCs'"
      ]
     },
     "metadata": {},
     "output_type": "display_data"
    },
    {
     "name": "stdout",
     "output_type": "stream",
     "text": [
      "COMPUTATIONAL PARAMETERS:\n",
      "conditional_number= 10\n",
      "n_neighbors= 100\n",
      "Computing DANCo\n",
      "Warning: your data might contain duplicate rows, which can affect results\n",
      "Computed in  98.37 sec\n",
      "==========================================================\n",
      "\n",
      "\n",
      "Loading GSE67123_6\n",
      "Dataset =  GSE67123_6\n",
      "N cells= 143 , N cellnames= 143 , N allcellnames= 143\n",
      "Len Order= 143 , Len CytoTRACE= 143 , Len Counts= 143\n",
      "PREPROCESSING PARAMETERS:\n",
      "Already_Log_Transformed= True\n",
      "Normalize_Totals= False\n",
      "number_of_pcs= 30\n",
      "n_neighbours_for_pooling= 5\n",
      "top_variable_genes= 10000\n"
     ]
    },
    {
     "data": {
      "text/plain": [
       "AnnData object with n_obs × n_vars = 143 × 10000\n",
       "    uns: 'Already_Log_Transformed', 'Counts', 'CytoTRACE', 'GCS', 'Global_FisherS_GPW', 'Normalize_Totals', 'Order', 'PC1', 'Phenotype', 'X_fa', 'X_tsne', 'X_umap', 'allcellnames', 'allgenenames', 'cellnames', 'conditional_number', 'cytoGenes', 'gcsGenes', 'gcsGenesNames', 'ind_samples', 'info', 'lid28', 'n_neighbours_for_pooling', 'number_of_pcs', 'pca', 'surrogate_CytoTRACE', 'surrogate_PC1', 'top_variable_genes'\n",
       "    obsm: 'PC1', 'X_pca'\n",
       "    varm: 'PCs'"
      ]
     },
     "metadata": {},
     "output_type": "display_data"
    },
    {
     "name": "stdout",
     "output_type": "stream",
     "text": [
      "COMPUTATIONAL PARAMETERS:\n",
      "conditional_number= 10\n",
      "n_neighbors= 28\n",
      "Computing DANCo\n",
      "Warning: your data might contain duplicate rows, which can affect results\n",
      "Computed in  7.31 sec\n",
      "==========================================================\n",
      "\n",
      "\n",
      "Loading GSE98451_7\n",
      "Dataset =  GSE98451_7\n",
      "N cells= 714 , N cellnames= 714 , N allcellnames= 714\n",
      "Len Order= 714 , Len CytoTRACE= 714 , Len Counts= 714\n",
      "PREPROCESSING PARAMETERS:\n",
      "Already_Log_Transformed= True\n",
      "Normalize_Totals= False\n",
      "number_of_pcs= 30\n",
      "n_neighbours_for_pooling= 10\n",
      "top_variable_genes= 10000\n"
     ]
    },
    {
     "data": {
      "text/plain": [
       "AnnData object with n_obs × n_vars = 714 × 10000\n",
       "    uns: 'Already_Log_Transformed', 'Counts', 'CytoTRACE', 'GCS', 'Global_FisherS_GPW', 'Normalize_Totals', 'Order', 'PC1', 'Phenotype', 'X_fa', 'X_tsne', 'X_umap', 'allcellnames', 'allgenenames', 'cellnames', 'conditional_number', 'cytoGenes', 'gcsGenes', 'gcsGenesNames', 'ind_samples', 'info', 'lid100', 'n_neighbours_for_pooling', 'number_of_pcs', 'pca', 'surrogate_CytoTRACE', 'surrogate_PC1', 'top_variable_genes'\n",
       "    obsm: 'PC1', 'X_pca'\n",
       "    varm: 'PCs'"
      ]
     },
     "metadata": {},
     "output_type": "display_data"
    },
    {
     "name": "stdout",
     "output_type": "stream",
     "text": [
      "COMPUTATIONAL PARAMETERS:\n",
      "conditional_number= 10\n",
      "n_neighbors= 100\n",
      "Computing DANCo\n",
      "Warning: your data might contain duplicate rows, which can affect results\n",
      "Computed in  10.98 sec\n",
      "==========================================================\n",
      "\n",
      "\n",
      "Loading GSE99933_8\n",
      "Dataset =  GSE99933_8\n",
      "N cells= 369 , N cellnames= 337 , N allcellnames= 369\n",
      "Len Order= 337 , Len CytoTRACE= 337 , Len Counts= 369\n",
      "PREPROCESSING PARAMETERS:\n",
      "Already_Log_Transformed= True\n",
      "Normalize_Totals= False\n",
      "number_of_pcs= 30\n",
      "n_neighbours_for_pooling= 5\n",
      "top_variable_genes= 10000\n"
     ]
    },
    {
     "data": {
      "text/plain": [
       "AnnData object with n_obs × n_vars = 369 × 10000\n",
       "    uns: 'Already_Log_Transformed', 'Counts', 'CytoTRACE', 'GCS', 'Global_FisherS_GPW', 'Normalize_Totals', 'Order', 'PC1', 'Phenotype', 'X_fa', 'X_tsne', 'X_umap', 'allcellnames', 'allgenenames', 'cellnames', 'conditional_number', 'cytoGenes', 'gcsGenes', 'gcsGenesNames', 'ind_samples', 'info', 'lid73', 'n_neighbours_for_pooling', 'number_of_pcs', 'pca', 'surrogate_CytoTRACE', 'surrogate_PC1', 'top_variable_genes'\n",
       "    obsm: 'PC1', 'X_pca'\n",
       "    varm: 'PCs'"
      ]
     },
     "metadata": {},
     "output_type": "display_data"
    },
    {
     "name": "stdout",
     "output_type": "stream",
     "text": [
      "COMPUTATIONAL PARAMETERS:\n",
      "conditional_number= 10\n",
      "n_neighbors= 73\n",
      "Computing DANCo\n",
      "Warning: your data might contain duplicate rows, which can affect results\n",
      "Computed in  11.63 sec\n",
      "==========================================================\n",
      "\n",
      "\n",
      "Loading GSE94641_9\n",
      "Dataset =  GSE94641_9\n",
      "N cells= 225 , N cellnames= 225 , N allcellnames= 225\n",
      "Len Order= 225 , Len CytoTRACE= 225 , Len Counts= 225\n",
      "PREPROCESSING PARAMETERS:\n",
      "Already_Log_Transformed= True\n",
      "Normalize_Totals= False\n",
      "number_of_pcs= 30\n",
      "n_neighbours_for_pooling= 5\n",
      "top_variable_genes= 10000\n"
     ]
    },
    {
     "data": {
      "text/plain": [
       "AnnData object with n_obs × n_vars = 225 × 10000\n",
       "    uns: 'Already_Log_Transformed', 'Counts', 'CytoTRACE', 'GCS', 'Global_FisherS_GPW', 'Normalize_Totals', 'Order', 'PC1', 'Phenotype', 'X_fa', 'X_tsne', 'X_umap', 'allcellnames', 'allgenenames', 'cellnames', 'conditional_number', 'cytoGenes', 'gcsGenes', 'gcsGenesNames', 'ind_samples', 'info', 'lid45', 'n_neighbours_for_pooling', 'number_of_pcs', 'pca', 'surrogate_CytoTRACE', 'surrogate_PC1', 'top_variable_genes'\n",
       "    obsm: 'PC1', 'X_pca'\n",
       "    varm: 'PCs'"
      ]
     },
     "metadata": {},
     "output_type": "display_data"
    },
    {
     "name": "stdout",
     "output_type": "stream",
     "text": [
      "COMPUTATIONAL PARAMETERS:\n",
      "conditional_number= 10\n",
      "n_neighbors= 45\n",
      "Computing DANCo\n",
      "Warning: your data might contain duplicate rows, which can affect results\n",
      "Computed in  8.45 sec\n",
      "==========================================================\n",
      "\n",
      "\n",
      "Loading GSE60783_10\n",
      "Dataset =  GSE60783_10\n",
      "N cells= 248 , N cellnames= 248 , N allcellnames= 248\n",
      "Len Order= 248 , Len CytoTRACE= 248 , Len Counts= 248\n",
      "PREPROCESSING PARAMETERS:\n",
      "Already_Log_Transformed= True\n",
      "Normalize_Totals= False\n",
      "number_of_pcs= 30\n",
      "n_neighbours_for_pooling= 5\n",
      "top_variable_genes= 10000\n"
     ]
    },
    {
     "data": {
      "text/plain": [
       "AnnData object with n_obs × n_vars = 248 × 10000\n",
       "    uns: 'Already_Log_Transformed', 'Counts', 'CytoTRACE', 'GCS', 'Global_FisherS_GPW', 'Normalize_Totals', 'Order', 'PC1', 'Phenotype', 'X_fa', 'X_tsne', 'X_umap', 'allcellnames', 'allgenenames', 'cellnames', 'conditional_number', 'cytoGenes', 'gcsGenes', 'gcsGenesNames', 'ind_samples', 'info', 'lid49', 'n_neighbours_for_pooling', 'number_of_pcs', 'pca', 'surrogate_CytoTRACE', 'surrogate_PC1', 'top_variable_genes'\n",
       "    obsm: 'PC1', 'X_pca'\n",
       "    varm: 'PCs'"
      ]
     },
     "metadata": {},
     "output_type": "display_data"
    },
    {
     "name": "stdout",
     "output_type": "stream",
     "text": [
      "COMPUTATIONAL PARAMETERS:\n",
      "conditional_number= 10\n",
      "n_neighbors= 49\n",
      "Computing DANCo\n",
      "Warning: your data might contain duplicate rows, which can affect results\n",
      "Computed in  8.95 sec\n",
      "==========================================================\n",
      "\n",
      "\n",
      "Loading GSE67602_11\n",
      "Dataset =  GSE67602_11\n",
      "N cells= 1422 , N cellnames= 720 , N allcellnames= 1422\n",
      "Len Order= 720 , Len CytoTRACE= 720 , Len Counts= 1422\n",
      "PREPROCESSING PARAMETERS:\n",
      "Already_Log_Transformed= True\n",
      "Normalize_Totals= False\n",
      "number_of_pcs= 30\n",
      "n_neighbours_for_pooling= 10\n",
      "top_variable_genes= 10000\n"
     ]
    },
    {
     "data": {
      "text/plain": [
       "AnnData object with n_obs × n_vars = 1422 × 10000\n",
       "    uns: 'Already_Log_Transformed', 'Counts', 'CytoTRACE', 'GCS', 'Global_FisherS_GPW', 'Normalize_Totals', 'Order', 'PC1', 'Phenotype', 'X_fa', 'X_tsne', 'X_umap', 'allcellnames', 'allgenenames', 'cellnames', 'conditional_number', 'cytoGenes', 'gcsGenes', 'gcsGenesNames', 'ind_samples', 'info', 'lid100', 'n_neighbours_for_pooling', 'number_of_pcs', 'pca', 'surrogate_CytoTRACE', 'surrogate_PC1', 'top_variable_genes'\n",
       "    obsm: 'PC1', 'X_pca'\n",
       "    varm: 'PCs'"
      ]
     },
     "metadata": {},
     "output_type": "display_data"
    },
    {
     "name": "stdout",
     "output_type": "stream",
     "text": [
      "COMPUTATIONAL PARAMETERS:\n",
      "conditional_number= 10\n",
      "n_neighbors= 100\n",
      "Computing DANCo\n",
      "Warning: your data might contain duplicate rows, which can affect results\n",
      "Computed in  22.09 sec\n",
      "==========================================================\n",
      "\n",
      "\n",
      "Loading GSE70245_12\n",
      "Dataset =  GSE70245_12\n",
      "N cells= 394 , N cellnames= 376 , N allcellnames= 394\n",
      "Len Order= 376 , Len CytoTRACE= 376 , Len Counts= 394\n",
      "PREPROCESSING PARAMETERS:\n",
      "Already_Log_Transformed= True\n",
      "Normalize_Totals= False\n",
      "number_of_pcs= 30\n",
      "n_neighbours_for_pooling= 5\n",
      "top_variable_genes= 10000\n"
     ]
    },
    {
     "data": {
      "text/plain": [
       "AnnData object with n_obs × n_vars = 394 × 10000\n",
       "    uns: 'Already_Log_Transformed', 'Counts', 'CytoTRACE', 'GCS', 'Global_FisherS_GPW', 'Normalize_Totals', 'Order', 'PC1', 'Phenotype', 'X_fa', 'X_tsne', 'X_umap', 'allcellnames', 'allgenenames', 'cellnames', 'conditional_number', 'cytoGenes', 'gcsGenes', 'gcsGenesNames', 'ind_samples', 'info', 'lid78', 'n_neighbours_for_pooling', 'number_of_pcs', 'pca', 'surrogate_CytoTRACE', 'surrogate_PC1', 'top_variable_genes'\n",
       "    obsm: 'PC1', 'X_pca'\n",
       "    varm: 'PCs'"
      ]
     },
     "metadata": {},
     "output_type": "display_data"
    },
    {
     "name": "stdout",
     "output_type": "stream",
     "text": [
      "COMPUTATIONAL PARAMETERS:\n",
      "conditional_number= 10\n",
      "n_neighbors= 78\n",
      "Computing DANCo\n",
      "Warning: your data might contain duplicate rows, which can affect results\n",
      "Computed in  12.0 sec\n",
      "==========================================================\n",
      "\n",
      "\n",
      "Loading GSE90047_13\n",
      "Dataset =  GSE90047_13\n",
      "N cells= 447 , N cellnames= 447 , N allcellnames= 447\n",
      "Len Order= 447 , Len CytoTRACE= 447 , Len Counts= 447\n",
      "PREPROCESSING PARAMETERS:\n",
      "Already_Log_Transformed= True\n",
      "Normalize_Totals= False\n",
      "number_of_pcs= 30\n",
      "n_neighbours_for_pooling= 5\n",
      "top_variable_genes= 10000\n"
     ]
    },
    {
     "data": {
      "text/plain": [
       "AnnData object with n_obs × n_vars = 447 × 10000\n",
       "    uns: 'Already_Log_Transformed', 'Counts', 'CytoTRACE', 'GCS', 'Global_FisherS_GPW', 'Normalize_Totals', 'Order', 'PC1', 'Phenotype', 'X_fa', 'X_tsne', 'X_umap', 'allcellnames', 'allgenenames', 'cellnames', 'conditional_number', 'cytoGenes', 'gcsGenes', 'gcsGenesNames', 'ind_samples', 'info', 'lid89', 'n_neighbours_for_pooling', 'number_of_pcs', 'pca', 'surrogate_CytoTRACE', 'surrogate_PC1', 'top_variable_genes'\n",
       "    obsm: 'PC1', 'X_pca'\n",
       "    varm: 'PCs'"
      ]
     },
     "metadata": {},
     "output_type": "display_data"
    },
    {
     "name": "stdout",
     "output_type": "stream",
     "text": [
      "COMPUTATIONAL PARAMETERS:\n",
      "conditional_number= 10\n",
      "n_neighbors= 89\n",
      "Computing DANCo\n",
      "Warning: your data might contain duplicate rows, which can affect results\n",
      "Computed in  13.28 sec\n",
      "==========================================================\n",
      "\n",
      "\n",
      "Loading GSE75748_14\n",
      "Dataset =  GSE75748_14\n",
      "N cells= 1018 , N cellnames= 1018 , N allcellnames= 1018\n",
      "Len Order= 1018 , Len CytoTRACE= 1018 , Len Counts= 1018\n",
      "PREPROCESSING PARAMETERS:\n",
      "Already_Log_Transformed= True\n",
      "Normalize_Totals= False\n",
      "number_of_pcs= 30\n",
      "n_neighbours_for_pooling= 10\n",
      "top_variable_genes= 10000\n"
     ]
    },
    {
     "data": {
      "text/plain": [
       "AnnData object with n_obs × n_vars = 1018 × 10000\n",
       "    uns: 'Already_Log_Transformed', 'Counts', 'CytoTRACE', 'GCS', 'Global_FisherS_GPW', 'Normalize_Totals', 'Order', 'PC1', 'Phenotype', 'X_fa', 'X_tsne', 'X_umap', 'allcellnames', 'allgenenames', 'cellnames', 'conditional_number', 'cytoGenes', 'gcsGenes', 'gcsGenesNames', 'ind_samples', 'info', 'lid100', 'n_neighbours_for_pooling', 'number_of_pcs', 'pca', 'surrogate_CytoTRACE', 'surrogate_PC1', 'top_variable_genes'\n",
       "    obsm: 'PC1', 'X_pca'\n",
       "    varm: 'PCs'"
      ]
     },
     "metadata": {},
     "output_type": "display_data"
    },
    {
     "name": "stdout",
     "output_type": "stream",
     "text": [
      "COMPUTATIONAL PARAMETERS:\n",
      "conditional_number= 10\n",
      "n_neighbors= 100\n",
      "Computing DANCo\n",
      "Warning: your data might contain duplicate rows, which can affect results\n",
      "Computed in  15.76 sec\n",
      "==========================================================\n",
      "\n",
      "\n",
      "Loading GSE52529_15\n",
      "Dataset =  GSE52529_15\n",
      "N cells= 170 , N cellnames= 170 , N allcellnames= 170\n",
      "Len Order= 170 , Len CytoTRACE= 170 , Len Counts= 170\n",
      "PREPROCESSING PARAMETERS:\n",
      "Already_Log_Transformed= True\n",
      "Normalize_Totals= False\n",
      "number_of_pcs= 30\n",
      "n_neighbours_for_pooling= 5\n",
      "top_variable_genes= 10000\n"
     ]
    },
    {
     "data": {
      "text/plain": [
       "AnnData object with n_obs × n_vars = 170 × 10000\n",
       "    uns: 'Already_Log_Transformed', 'Counts', 'CytoTRACE', 'GCS', 'Global_FisherS_GPW', 'Normalize_Totals', 'Order', 'PC1', 'Phenotype', 'X_fa', 'X_tsne', 'X_umap', 'allcellnames', 'allgenenames', 'cellnames', 'conditional_number', 'cytoGenes', 'gcsGenes', 'gcsGenesNames', 'ind_samples', 'info', 'lid34', 'n_neighbours_for_pooling', 'number_of_pcs', 'pca', 'surrogate_CytoTRACE', 'surrogate_PC1', 'top_variable_genes'\n",
       "    obsm: 'PC1', 'X_pca'\n",
       "    varm: 'PCs'"
      ]
     },
     "metadata": {},
     "output_type": "display_data"
    },
    {
     "name": "stdout",
     "output_type": "stream",
     "text": [
      "COMPUTATIONAL PARAMETERS:\n",
      "conditional_number= 10\n",
      "n_neighbors= 34\n",
      "Computing DANCo\n",
      "Warning: your data might contain duplicate rows, which can affect results\n",
      "Computed in  7.27 sec\n",
      "==========================================================\n",
      "\n",
      "\n",
      "Loading GSE85066_16\n",
      "Dataset =  GSE85066_16\n",
      "N cells= 498 , N cellnames= 498 , N allcellnames= 498\n",
      "Len Order= 498 , Len CytoTRACE= 498 , Len Counts= 498\n",
      "PREPROCESSING PARAMETERS:\n",
      "Already_Log_Transformed= True\n",
      "Normalize_Totals= False\n",
      "number_of_pcs= 30\n",
      "n_neighbours_for_pooling= 5\n",
      "top_variable_genes= 10000\n"
     ]
    },
    {
     "data": {
      "text/plain": [
       "AnnData object with n_obs × n_vars = 498 × 10000\n",
       "    uns: 'Already_Log_Transformed', 'Counts', 'CytoTRACE', 'GCS', 'Global_FisherS_GPW', 'Normalize_Totals', 'Order', 'PC1', 'Phenotype', 'X_fa', 'X_tsne', 'X_umap', 'allcellnames', 'allgenenames', 'cellnames', 'conditional_number', 'cytoGenes', 'gcsGenes', 'gcsGenesNames', 'ind_samples', 'info', 'lid99', 'n_neighbours_for_pooling', 'number_of_pcs', 'pca', 'surrogate_CytoTRACE', 'surrogate_PC1', 'top_variable_genes'\n",
       "    obsm: 'PC1', 'X_pca'\n",
       "    varm: 'PCs'"
      ]
     },
     "metadata": {},
     "output_type": "display_data"
    },
    {
     "name": "stdout",
     "output_type": "stream",
     "text": [
      "COMPUTATIONAL PARAMETERS:\n",
      "conditional_number= 10\n",
      "n_neighbors= 99\n",
      "Computing DANCo\n",
      "Warning: your data might contain duplicate rows, which can affect results\n",
      "Computed in  14.27 sec\n",
      "==========================================================\n",
      "\n",
      "\n",
      "Loading GSE93421_17\n",
      "Dataset =  GSE93421_17\n",
      "N cells= 5000 , N cellnames= 5000 , N allcellnames= 5000\n",
      "Len Order= 5000 , Len CytoTRACE= 5000 , Len Counts= 5000\n",
      "PREPROCESSING PARAMETERS:\n",
      "Already_Log_Transformed= True\n",
      "Normalize_Totals= False\n",
      "number_of_pcs= 30\n",
      "n_neighbours_for_pooling= 10\n",
      "top_variable_genes= 10000\n"
     ]
    },
    {
     "data": {
      "text/plain": [
       "AnnData object with n_obs × n_vars = 5000 × 10000\n",
       "    uns: 'Already_Log_Transformed', 'Counts', 'CytoTRACE', 'GCS', 'Global_FisherS_GPW', 'Normalize_Totals', 'Order', 'PC1', 'Phenotype', 'X_fa', 'X_tsne', 'X_umap', 'allcellnames', 'allgenenames', 'cellnames', 'conditional_number', 'cytoGenes', 'gcsGenes', 'gcsGenesNames', 'ind_samples', 'info', 'lid100', 'n_neighbours_for_pooling', 'number_of_pcs', 'pca', 'surrogate_CytoTRACE', 'surrogate_PC1', 'top_variable_genes'\n",
       "    obsm: 'PC1', 'X_pca'\n",
       "    varm: 'PCs'"
      ]
     },
     "metadata": {},
     "output_type": "display_data"
    },
    {
     "name": "stdout",
     "output_type": "stream",
     "text": [
      "COMPUTATIONAL PARAMETERS:\n",
      "conditional_number= 10\n",
      "n_neighbors= 100\n",
      "Computing DANCo\n",
      "Warning: your data might contain duplicate rows, which can affect results\n",
      "Computed in  78.88 sec\n",
      "==========================================================\n",
      "\n",
      "\n",
      "Loading GSE36552_18\n",
      "Dataset =  GSE36552_18\n",
      "N cells= 85 , N cellnames= 85 , N allcellnames= 85\n",
      "Len Order= 85 , Len CytoTRACE= 85 , Len Counts= 85\n",
      "PREPROCESSING PARAMETERS:\n",
      "Already_Log_Transformed= True\n",
      "Normalize_Totals= False\n",
      "number_of_pcs= 10\n",
      "n_neighbours_for_pooling= -1\n",
      "top_variable_genes= 10000\n"
     ]
    },
    {
     "data": {
      "text/plain": [
       "AnnData object with n_obs × n_vars = 85 × 10000\n",
       "    uns: 'Already_Log_Transformed', 'Counts', 'CytoTRACE', 'GCS', 'Global_FisherS_GPW', 'Normalize_Totals', 'Order', 'PC1', 'Phenotype', 'X_fa', 'X_tsne', 'X_umap', 'allcellnames', 'allgenenames', 'cellnames', 'conditional_number', 'cytoGenes', 'gcsGenes', 'gcsGenesNames', 'ind_samples', 'info', 'lid17', 'n_neighbours_for_pooling', 'number_of_pcs', 'pca', 'surrogate_CytoTRACE', 'surrogate_PC1', 'top_variable_genes'\n",
       "    obsm: 'PC1', 'X_pca'\n",
       "    varm: 'PCs'"
      ]
     },
     "metadata": {},
     "output_type": "display_data"
    },
    {
     "name": "stdout",
     "output_type": "stream",
     "text": [
      "COMPUTATIONAL PARAMETERS:\n",
      "conditional_number= 10\n",
      "n_neighbors= 17\n",
      "Computing DANCo\n",
      "Computed in  6.6 sec\n",
      "==========================================================\n",
      "\n",
      "\n",
      "Loading GSE86146_19\n",
      "Dataset =  GSE86146_19\n",
      "N cells= 1844 , N cellnames= 1844 , N allcellnames= 1844\n",
      "Len Order= 1844 , Len CytoTRACE= 1844 , Len Counts= 1844\n",
      "PREPROCESSING PARAMETERS:\n",
      "Already_Log_Transformed= True\n",
      "Normalize_Totals= False\n",
      "number_of_pcs= 30\n",
      "n_neighbours_for_pooling= 10\n",
      "top_variable_genes= 10000\n"
     ]
    },
    {
     "data": {
      "text/plain": [
       "AnnData object with n_obs × n_vars = 1844 × 10000\n",
       "    uns: 'Already_Log_Transformed', 'Counts', 'CytoTRACE', 'GCS', 'Global_FisherS_GPW', 'Normalize_Totals', 'Order', 'PC1', 'Phenotype', 'X_fa', 'X_tsne', 'X_umap', 'allcellnames', 'allgenenames', 'cellnames', 'conditional_number', 'cytoGenes', 'gcsGenes', 'gcsGenesNames', 'ind_samples', 'info', 'lid100', 'n_neighbours_for_pooling', 'number_of_pcs', 'pca', 'surrogate_CytoTRACE', 'surrogate_PC1', 'top_variable_genes'\n",
       "    obsm: 'PC1', 'X_pca'\n",
       "    varm: 'PCs'"
      ]
     },
     "metadata": {},
     "output_type": "display_data"
    },
    {
     "name": "stdout",
     "output_type": "stream",
     "text": [
      "COMPUTATIONAL PARAMETERS:\n",
      "conditional_number= 10\n",
      "n_neighbors= 100\n",
      "Computing DANCo\n",
      "Warning: your data might contain duplicate rows, which can affect results\n",
      "Computed in  29.11 sec\n",
      "==========================================================\n",
      "\n",
      "\n",
      "Loading GSE98664_20\n",
      "Dataset =  GSE98664_20\n",
      "N cells= 456 , N cellnames= 456 , N allcellnames= 456\n",
      "Len Order= 456 , Len CytoTRACE= 456 , Len Counts= 456\n",
      "PREPROCESSING PARAMETERS:\n",
      "Already_Log_Transformed= True\n",
      "Normalize_Totals= False\n",
      "number_of_pcs= 30\n",
      "n_neighbours_for_pooling= 5\n",
      "top_variable_genes= 10000\n"
     ]
    },
    {
     "data": {
      "text/plain": [
       "AnnData object with n_obs × n_vars = 456 × 10000\n",
       "    uns: 'Already_Log_Transformed', 'Counts', 'CytoTRACE', 'GCS', 'Global_FisherS_GPW', 'Normalize_Totals', 'Order', 'PC1', 'Phenotype', 'X_fa', 'X_tsne', 'X_umap', 'allcellnames', 'allgenenames', 'cellnames', 'conditional_number', 'cytoGenes', 'gcsGenes', 'gcsGenesNames', 'ind_samples', 'info', 'lid91', 'n_neighbours_for_pooling', 'number_of_pcs', 'pca', 'surrogate_CytoTRACE', 'surrogate_PC1', 'top_variable_genes'\n",
       "    obsm: 'PC1', 'X_pca'\n",
       "    varm: 'PCs'"
      ]
     },
     "metadata": {},
     "output_type": "display_data"
    },
    {
     "name": "stdout",
     "output_type": "stream",
     "text": [
      "COMPUTATIONAL PARAMETERS:\n",
      "conditional_number= 10\n",
      "n_neighbors= 91\n",
      "Computing DANCo\n",
      "Warning: your data might contain duplicate rows, which can affect results\n",
      "Computed in  13.47 sec\n",
      "==========================================================\n",
      "\n",
      "\n",
      "Loading GSE52583_21\n",
      "Dataset =  GSE52583_21\n",
      "N cells= 101 , N cellnames= 101 , N allcellnames= 101\n",
      "Len Order= 101 , Len CytoTRACE= 101 , Len Counts= 101\n",
      "PREPROCESSING PARAMETERS:\n",
      "Already_Log_Transformed= True\n",
      "Normalize_Totals= False\n",
      "number_of_pcs= 30\n",
      "n_neighbours_for_pooling= 5\n",
      "top_variable_genes= 10000\n"
     ]
    },
    {
     "data": {
      "text/plain": [
       "AnnData object with n_obs × n_vars = 101 × 10000\n",
       "    uns: 'Already_Log_Transformed', 'Counts', 'CytoTRACE', 'GCS', 'Global_FisherS_GPW', 'Normalize_Totals', 'Order', 'PC1', 'Phenotype', 'X_fa', 'X_tsne', 'X_umap', 'allcellnames', 'allgenenames', 'cellnames', 'conditional_number', 'cytoGenes', 'gcsGenes', 'gcsGenesNames', 'ind_samples', 'info', 'lid20', 'n_neighbours_for_pooling', 'number_of_pcs', 'pca', 'surrogate_CytoTRACE', 'surrogate_PC1', 'top_variable_genes'\n",
       "    obsm: 'PC1', 'X_pca'\n",
       "    varm: 'PCs'"
      ]
     },
     "metadata": {},
     "output_type": "display_data"
    },
    {
     "name": "stdout",
     "output_type": "stream",
     "text": [
      "COMPUTATIONAL PARAMETERS:\n",
      "conditional_number= 10\n",
      "n_neighbors= 20\n",
      "Computing DANCo\n",
      "Warning: your data might contain duplicate rows, which can affect results\n",
      "Computed in  6.86 sec\n",
      "==========================================================\n",
      "\n",
      "\n",
      "Loading GSE97391_22\n",
      "Dataset =  GSE97391_22\n",
      "N cells= 2684 , N cellnames= 2366 , N allcellnames= 2684\n",
      "Len Order= 2366 , Len CytoTRACE= 2366 , Len Counts= 2684\n",
      "PREPROCESSING PARAMETERS:\n",
      "Already_Log_Transformed= True\n",
      "Normalize_Totals= False\n",
      "number_of_pcs= 30\n",
      "n_neighbours_for_pooling= 10\n",
      "top_variable_genes= 10000\n"
     ]
    },
    {
     "data": {
      "text/plain": [
       "AnnData object with n_obs × n_vars = 2684 × 10000\n",
       "    uns: 'Already_Log_Transformed', 'Counts', 'CytoTRACE', 'GCS', 'Global_FisherS_GPW', 'Normalize_Totals', 'Order', 'PC1', 'Phenotype', 'X_fa', 'X_tsne', 'X_umap', 'allcellnames', 'allgenenames', 'cellnames', 'conditional_number', 'cytoGenes', 'gcsGenes', 'gcsGenesNames', 'ind_samples', 'info', 'lid100', 'n_neighbours_for_pooling', 'number_of_pcs', 'pca', 'surrogate_CytoTRACE', 'surrogate_PC1', 'top_variable_genes'\n",
       "    obsm: 'PC1', 'X_pca'\n",
       "    varm: 'PCs'"
      ]
     },
     "metadata": {},
     "output_type": "display_data"
    },
    {
     "name": "stdout",
     "output_type": "stream",
     "text": [
      "COMPUTATIONAL PARAMETERS:\n",
      "conditional_number= 10\n",
      "n_neighbors= 100\n",
      "Computing DANCo\n",
      "Warning: your data might contain duplicate rows, which can affect results\n",
      "Computed in  42.86 sec\n",
      "==========================================================\n",
      "\n",
      "\n",
      "Loading GSE76408_23\n",
      "Dataset =  GSE76408_23\n",
      "N cells= 480 , N cellnames= 480 , N allcellnames= 480\n",
      "Len Order= 480 , Len CytoTRACE= 480 , Len Counts= 480\n",
      "PREPROCESSING PARAMETERS:\n",
      "Already_Log_Transformed= True\n",
      "Normalize_Totals= False\n",
      "number_of_pcs= 30\n",
      "n_neighbours_for_pooling= 5\n",
      "top_variable_genes= 10000\n"
     ]
    },
    {
     "data": {
      "text/plain": [
       "AnnData object with n_obs × n_vars = 480 × 10000\n",
       "    uns: 'Already_Log_Transformed', 'Counts', 'CytoTRACE', 'GCS', 'Global_FisherS_GPW', 'Normalize_Totals', 'Order', 'PC1', 'Phenotype', 'X_fa', 'X_tsne', 'X_umap', 'allcellnames', 'allgenenames', 'cellnames', 'conditional_number', 'cytoGenes', 'gcsGenes', 'gcsGenesNames', 'ind_samples', 'info', 'lid96', 'n_neighbours_for_pooling', 'number_of_pcs', 'pca', 'surrogate_CytoTRACE', 'surrogate_PC1', 'top_variable_genes'\n",
       "    obsm: 'PC1', 'X_pca'\n",
       "    varm: 'PCs'"
      ]
     },
     "metadata": {},
     "output_type": "display_data"
    },
    {
     "name": "stdout",
     "output_type": "stream",
     "text": [
      "COMPUTATIONAL PARAMETERS:\n",
      "conditional_number= 10\n",
      "n_neighbors= 96\n",
      "Computing DANCo\n",
      "Warning: your data might contain duplicate rows, which can affect results\n",
      "Computed in  14.47 sec\n",
      "==========================================================\n",
      "\n",
      "\n",
      "Loading GSE109774_24\n",
      "Dataset =  GSE109774_24\n",
      "N cells= 3652 , N cellnames= 3427 , N allcellnames= 3652\n",
      "Len Order= 3427 , Len CytoTRACE= 3427 , Len Counts= 3652\n",
      "PREPROCESSING PARAMETERS:\n",
      "Already_Log_Transformed= True\n",
      "Normalize_Totals= False\n",
      "number_of_pcs= 30\n",
      "n_neighbours_for_pooling= 10\n",
      "top_variable_genes= 10000\n"
     ]
    },
    {
     "data": {
      "text/plain": [
       "AnnData object with n_obs × n_vars = 3652 × 10000\n",
       "    uns: 'Already_Log_Transformed', 'Counts', 'CytoTRACE', 'GCS', 'Global_FisherS_GPW', 'Normalize_Totals', 'Order', 'PC1', 'Phenotype', 'X_fa', 'X_tsne', 'X_umap', 'allcellnames', 'allgenenames', 'cellnames', 'conditional_number', 'cytoGenes', 'gcsGenes', 'gcsGenesNames', 'ind_samples', 'info', 'lid100', 'n_neighbours_for_pooling', 'number_of_pcs', 'pca', 'surrogate_CytoTRACE', 'surrogate_PC1', 'top_variable_genes'\n",
       "    obsm: 'PC1', 'X_pca'\n",
       "    varm: 'PCs'"
      ]
     },
     "metadata": {},
     "output_type": "display_data"
    },
    {
     "name": "stdout",
     "output_type": "stream",
     "text": [
      "COMPUTATIONAL PARAMETERS:\n",
      "conditional_number= 10\n",
      "n_neighbors= 100\n",
      "Computing DANCo\n",
      "Warning: your data might contain duplicate rows, which can affect results\n",
      "Computed in  61.91 sec\n",
      "==========================================================\n",
      "\n",
      "\n",
      "Loading GSE109774_25\n",
      "Dataset =  GSE109774_25\n",
      "N cells= 4897 , N cellnames= 4442 , N allcellnames= 4897\n",
      "Len Order= 4442 , Len CytoTRACE= 4442 , Len Counts= 4897\n",
      "PREPROCESSING PARAMETERS:\n",
      "Already_Log_Transformed= True\n",
      "Normalize_Totals= False\n",
      "number_of_pcs= 30\n",
      "n_neighbours_for_pooling= 10\n",
      "top_variable_genes= 10000\n"
     ]
    },
    {
     "data": {
      "text/plain": [
       "AnnData object with n_obs × n_vars = 4897 × 10000\n",
       "    uns: 'Already_Log_Transformed', 'Counts', 'CytoTRACE', 'GCS', 'Global_FisherS_GPW', 'Normalize_Totals', 'Order', 'PC1', 'Phenotype', 'X_fa', 'X_tsne', 'X_umap', 'allcellnames', 'allgenenames', 'cellnames', 'conditional_number', 'cytoGenes', 'gcsGenes', 'gcsGenesNames', 'ind_samples', 'info', 'lid100', 'n_neighbours_for_pooling', 'number_of_pcs', 'pca', 'surrogate_CytoTRACE', 'surrogate_PC1', 'top_variable_genes'\n",
       "    obsm: 'PC1', 'X_pca'\n",
       "    varm: 'PCs'"
      ]
     },
     "metadata": {},
     "output_type": "display_data"
    },
    {
     "name": "stdout",
     "output_type": "stream",
     "text": [
      "COMPUTATIONAL PARAMETERS:\n",
      "conditional_number= 10\n",
      "n_neighbors= 100\n",
      "Computing DANCo\n",
      "Warning: your data might contain duplicate rows, which can affect results\n",
      "Computed in  76.72 sec\n",
      "==========================================================\n",
      "\n",
      "\n",
      "Loading GSE92332_26\n",
      "Dataset =  GSE92332_26\n",
      "N cells= 1522 , N cellnames= 1522 , N allcellnames= 1522\n",
      "Len Order= 1522 , Len CytoTRACE= 1522 , Len Counts= 1522\n",
      "PREPROCESSING PARAMETERS:\n",
      "Already_Log_Transformed= True\n",
      "Normalize_Totals= False\n",
      "number_of_pcs= 30\n",
      "n_neighbours_for_pooling= 10\n",
      "top_variable_genes= 10000\n"
     ]
    },
    {
     "data": {
      "text/plain": [
       "AnnData object with n_obs × n_vars = 1522 × 10000\n",
       "    uns: 'Already_Log_Transformed', 'Counts', 'CytoTRACE', 'GCS', 'Global_FisherS_GPW', 'Normalize_Totals', 'Order', 'PC1', 'Phenotype', 'X_fa', 'X_tsne', 'X_umap', 'allcellnames', 'allgenenames', 'cellnames', 'conditional_number', 'cytoGenes', 'gcsGenes', 'gcsGenesNames', 'ind_samples', 'info', 'lid100', 'n_neighbours_for_pooling', 'number_of_pcs', 'pca', 'surrogate_CytoTRACE', 'surrogate_PC1', 'top_variable_genes'\n",
       "    obsm: 'PC1', 'X_pca'\n",
       "    varm: 'PCs'"
      ]
     },
     "metadata": {},
     "output_type": "display_data"
    },
    {
     "name": "stdout",
     "output_type": "stream",
     "text": [
      "COMPUTATIONAL PARAMETERS:\n",
      "conditional_number= 10\n",
      "n_neighbors= 100\n",
      "Computing DANCo\n",
      "Warning: your data might contain duplicate rows, which can affect results\n",
      "Computed in  28.92 sec\n",
      "==========================================================\n",
      "\n",
      "\n",
      "Loading GSE97391_27\n",
      "Dataset =  GSE97391_27\n",
      "N cells= 2996 , N cellnames= 2411 , N allcellnames= 2996\n",
      "Len Order= 2411 , Len CytoTRACE= 2411 , Len Counts= 2996\n",
      "PREPROCESSING PARAMETERS:\n",
      "Already_Log_Transformed= True\n",
      "Normalize_Totals= False\n",
      "number_of_pcs= 30\n",
      "n_neighbours_for_pooling= 10\n",
      "top_variable_genes= 10000\n"
     ]
    },
    {
     "data": {
      "text/plain": [
       "AnnData object with n_obs × n_vars = 2996 × 10000\n",
       "    uns: 'Already_Log_Transformed', 'Counts', 'CytoTRACE', 'GCS', 'Global_FisherS_GPW', 'Normalize_Totals', 'Order', 'PC1', 'Phenotype', 'X_fa', 'X_tsne', 'X_umap', 'allcellnames', 'allgenenames', 'cellnames', 'conditional_number', 'cytoGenes', 'gcsGenes', 'gcsGenesNames', 'ind_samples', 'info', 'lid100', 'n_neighbours_for_pooling', 'number_of_pcs', 'pca', 'surrogate_CytoTRACE', 'surrogate_PC1', 'top_variable_genes'\n",
       "    obsm: 'PC1', 'X_pca'\n",
       "    varm: 'PCs'"
      ]
     },
     "metadata": {},
     "output_type": "display_data"
    },
    {
     "name": "stdout",
     "output_type": "stream",
     "text": [
      "COMPUTATIONAL PARAMETERS:\n",
      "conditional_number= 10\n",
      "n_neighbors= 100\n",
      "Computing DANCo\n",
      "Warning: your data might contain duplicate rows, which can affect results\n",
      "Computed in  51.22 sec\n",
      "==========================================================\n",
      "\n",
      "\n",
      "Loading GSE45719_28\n",
      "Dataset =  GSE45719_28\n",
      "N cells= 286 , N cellnames= 286 , N allcellnames= 286\n",
      "Len Order= 286 , Len CytoTRACE= 286 , Len Counts= 286\n",
      "PREPROCESSING PARAMETERS:\n",
      "Already_Log_Transformed= True\n",
      "Normalize_Totals= False\n",
      "number_of_pcs= 30\n",
      "n_neighbours_for_pooling= 5\n",
      "top_variable_genes= 10000\n"
     ]
    },
    {
     "data": {
      "text/plain": [
       "AnnData object with n_obs × n_vars = 286 × 10000\n",
       "    uns: 'Already_Log_Transformed', 'Counts', 'CytoTRACE', 'GCS', 'Global_FisherS_GPW', 'Normalize_Totals', 'Order', 'PC1', 'Phenotype', 'X_fa', 'X_tsne', 'X_umap', 'allcellnames', 'allgenenames', 'cellnames', 'conditional_number', 'cytoGenes', 'gcsGenes', 'gcsGenesNames', 'ind_samples', 'info', 'lid57', 'n_neighbours_for_pooling', 'number_of_pcs', 'pca', 'surrogate_CytoTRACE', 'surrogate_PC1', 'top_variable_genes'\n",
       "    obsm: 'PC1', 'X_pca'\n",
       "    varm: 'PCs'"
      ]
     },
     "metadata": {},
     "output_type": "display_data"
    },
    {
     "name": "stdout",
     "output_type": "stream",
     "text": [
      "COMPUTATIONAL PARAMETERS:\n",
      "conditional_number= 10\n",
      "n_neighbors= 57\n",
      "Computing DANCo\n",
      "Warning: your data might contain duplicate rows, which can affect results\n",
      "Computed in  9.35 sec\n",
      "==========================================================\n",
      "\n",
      "\n",
      "Loading GSE52583_29\n",
      "Dataset =  GSE52583_29\n",
      "N cells= 66 , N cellnames= 66 , N allcellnames= 66\n",
      "Len Order= 66 , Len CytoTRACE= 66 , Len Counts= 66\n",
      "PREPROCESSING PARAMETERS:\n",
      "Already_Log_Transformed= True\n",
      "Normalize_Totals= False\n",
      "number_of_pcs= 10\n",
      "n_neighbours_for_pooling= -1\n",
      "top_variable_genes= 10000\n"
     ]
    },
    {
     "data": {
      "text/plain": [
       "AnnData object with n_obs × n_vars = 66 × 10000\n",
       "    uns: 'Already_Log_Transformed', 'Counts', 'CytoTRACE', 'GCS', 'Global_FisherS_GPW', 'Normalize_Totals', 'Order', 'PC1', 'Phenotype', 'X_fa', 'X_tsne', 'X_umap', 'allcellnames', 'allgenenames', 'cellnames', 'conditional_number', 'cytoGenes', 'gcsGenes', 'gcsGenesNames', 'ind_samples', 'info', 'lid13', 'n_neighbours_for_pooling', 'number_of_pcs', 'pca', 'surrogate_CytoTRACE', 'surrogate_PC1', 'top_variable_genes'\n",
       "    obsm: 'PC1', 'X_pca'\n",
       "    varm: 'PCs'"
      ]
     },
     "metadata": {},
     "output_type": "display_data"
    },
    {
     "name": "stdout",
     "output_type": "stream",
     "text": [
      "COMPUTATIONAL PARAMETERS:\n",
      "conditional_number= 10\n",
      "n_neighbors= 13\n",
      "Computing DANCo\n",
      "Computed in  6.61 sec\n",
      "==========================================================\n",
      "\n",
      "\n",
      "Loading GSE69761_30\n",
      "Dataset =  GSE69761_30\n",
      "N cells= 79 , N cellnames= 79 , N allcellnames= 79\n",
      "Len Order= 79 , Len CytoTRACE= 79 , Len Counts= 79\n",
      "PREPROCESSING PARAMETERS:\n",
      "Already_Log_Transformed= True\n",
      "Normalize_Totals= False\n",
      "number_of_pcs= 10\n",
      "n_neighbours_for_pooling= -1\n",
      "top_variable_genes= 10000\n"
     ]
    },
    {
     "data": {
      "text/plain": [
       "AnnData object with n_obs × n_vars = 79 × 10000\n",
       "    uns: 'Already_Log_Transformed', 'Counts', 'CytoTRACE', 'GCS', 'Global_FisherS_GPW', 'Normalize_Totals', 'Order', 'PC1', 'Phenotype', 'X_fa', 'X_tsne', 'X_umap', 'allcellnames', 'allgenenames', 'cellnames', 'conditional_number', 'cytoGenes', 'gcsGenes', 'gcsGenesNames', 'ind_samples', 'info', 'lid15', 'n_neighbours_for_pooling', 'number_of_pcs', 'pca', 'surrogate_CytoTRACE', 'surrogate_PC1', 'top_variable_genes'\n",
       "    obsm: 'PC1', 'X_pca'\n",
       "    varm: 'PCs'"
      ]
     },
     "metadata": {},
     "output_type": "display_data"
    },
    {
     "name": "stdout",
     "output_type": "stream",
     "text": [
      "COMPUTATIONAL PARAMETERS:\n",
      "conditional_number= 10\n",
      "n_neighbors= 15\n",
      "Computing DANCo\n",
      "Computed in  6.27 sec\n",
      "==========================================================\n",
      "\n",
      "\n",
      "Loading GSE92332_31\n",
      "Dataset =  GSE92332_31\n",
      "N cells= 4581 , N cellnames= 4581 , N allcellnames= 4581\n",
      "Len Order= 4581 , Len CytoTRACE= 4581 , Len Counts= 4581\n",
      "PREPROCESSING PARAMETERS:\n",
      "Already_Log_Transformed= True\n",
      "Normalize_Totals= False\n",
      "number_of_pcs= 30\n",
      "n_neighbours_for_pooling= 10\n",
      "top_variable_genes= 10000\n"
     ]
    },
    {
     "data": {
      "text/plain": [
       "AnnData object with n_obs × n_vars = 4581 × 10000\n",
       "    uns: 'Already_Log_Transformed', 'Counts', 'CytoTRACE', 'GCS', 'Global_FisherS_GPW', 'Normalize_Totals', 'Order', 'PC1', 'Phenotype', 'X_fa', 'X_tsne', 'X_umap', 'allcellnames', 'allgenenames', 'cellnames', 'conditional_number', 'cytoGenes', 'gcsGenes', 'ind_samples', 'lid100', 'n_neighbours_for_pooling', 'number_of_pcs', 'pca', 'surrogate_CytoTRACE', 'surrogate_PC1', 'top_variable_genes'\n",
       "    obsm: 'PC1', 'X_pca'\n",
       "    varm: 'PCs'"
      ]
     },
     "metadata": {},
     "output_type": "display_data"
    },
    {
     "name": "stdout",
     "output_type": "stream",
     "text": [
      "COMPUTATIONAL PARAMETERS:\n",
      "conditional_number= 10\n",
      "n_neighbors= 100\n",
      "Computing DANCo\n",
      "Warning: your data might contain duplicate rows, which can affect results\n",
      "Computed in  70.46 sec\n",
      "==========================================================\n",
      "\n",
      "\n",
      "Loading GSE107122_32\n",
      "Dataset =  GSE107122_32\n",
      "N cells= 5998 , N cellnames= 5998 , N allcellnames= 6000\n",
      "Len Order= 5998 , Len CytoTRACE= 5998 , Len Counts= 5998\n",
      "PREPROCESSING PARAMETERS:\n",
      "Already_Log_Transformed= True\n",
      "Normalize_Totals= False\n",
      "number_of_pcs= 30\n",
      "n_neighbours_for_pooling= 10\n",
      "top_variable_genes= 10000\n"
     ]
    },
    {
     "data": {
      "text/plain": [
       "AnnData object with n_obs × n_vars = 5998 × 10000\n",
       "    uns: 'Already_Log_Transformed', 'Counts', 'CytoTRACE', 'GCS', 'Global_FisherS_GPW', 'Normalize_Totals', 'Order', 'PC1', 'Phenotype', 'X_fa', 'X_tsne', 'X_umap', 'allcellnames', 'allgenenames', 'cellnames', 'conditional_number', 'cytoGenes', 'gcsGenes', 'gcsGenesNames', 'ind_samples', 'info', 'lid100', 'n_neighbours_for_pooling', 'number_of_pcs', 'pca', 'surrogate_CytoTRACE', 'surrogate_PC1', 'top_variable_genes'\n",
       "    obsm: 'PC1', 'X_pca'\n",
       "    varm: 'PCs'"
      ]
     },
     "metadata": {},
     "output_type": "display_data"
    },
    {
     "name": "stdout",
     "output_type": "stream",
     "text": [
      "COMPUTATIONAL PARAMETERS:\n",
      "conditional_number= 10\n",
      "n_neighbors= 100\n",
      "Computing DANCo\n",
      "Warning: your data might contain duplicate rows, which can affect results\n",
      "Computed in  98.62 sec\n",
      "==========================================================\n",
      "\n",
      "\n",
      "Loading GSE64447_33\n",
      "Dataset =  GSE64447_33\n",
      "N cells= 447 , N cellnames= 447 , N allcellnames= 447\n",
      "Len Order= 447 , Len CytoTRACE= 447 , Len Counts= 447\n",
      "PREPROCESSING PARAMETERS:\n",
      "Already_Log_Transformed= True\n",
      "Normalize_Totals= False\n",
      "number_of_pcs= 30\n",
      "n_neighbours_for_pooling= 5\n",
      "top_variable_genes= 10000\n"
     ]
    },
    {
     "data": {
      "text/plain": [
       "AnnData object with n_obs × n_vars = 447 × 10000\n",
       "    uns: 'Already_Log_Transformed', 'Counts', 'CytoTRACE', 'GCS', 'Global_FisherS_GPW', 'Normalize_Totals', 'Order', 'PC1', 'Phenotype', 'X_fa', 'X_tsne', 'X_umap', 'allcellnames', 'allgenenames', 'cellnames', 'conditional_number', 'cytoGenes', 'gcsGenes', 'gcsGenesNames', 'ind_samples', 'info', 'lid89', 'n_neighbours_for_pooling', 'number_of_pcs', 'pca', 'surrogate_CytoTRACE', 'surrogate_PC1', 'top_variable_genes'\n",
       "    obsm: 'PC1', 'X_pca'\n",
       "    varm: 'PCs'"
      ]
     },
     "metadata": {},
     "output_type": "display_data"
    },
    {
     "name": "stdout",
     "output_type": "stream",
     "text": [
      "COMPUTATIONAL PARAMETERS:\n",
      "conditional_number= 10\n",
      "n_neighbors= 89\n",
      "Computing DANCo\n",
      "Warning: your data might contain duplicate rows, which can affect results\n",
      "Computed in  12.92 sec\n",
      "==========================================================\n",
      "\n",
      "\n",
      "Loading GSE102066_34\n",
      "Dataset =  GSE102066_34\n",
      "N cells= 781 , N cellnames= 781 , N allcellnames= 781\n",
      "Len Order= 781 , Len CytoTRACE= 781 , Len Counts= 781\n",
      "PREPROCESSING PARAMETERS:\n",
      "Already_Log_Transformed= True\n",
      "Normalize_Totals= False\n",
      "number_of_pcs= 30\n",
      "n_neighbours_for_pooling= 10\n",
      "top_variable_genes= 10000\n"
     ]
    },
    {
     "data": {
      "text/plain": [
       "AnnData object with n_obs × n_vars = 781 × 10000\n",
       "    uns: 'Already_Log_Transformed', 'Counts', 'CytoTRACE', 'GCS', 'Global_FisherS_GPW', 'Normalize_Totals', 'Order', 'PC1', 'Phenotype', 'X_fa', 'X_tsne', 'X_umap', 'allcellnames', 'allgenenames', 'cellnames', 'conditional_number', 'cytoGenes', 'gcsGenes', 'gcsGenesNames', 'ind_samples', 'info', 'lid100', 'n_neighbours_for_pooling', 'number_of_pcs', 'pca', 'surrogate_CytoTRACE', 'surrogate_PC1', 'top_variable_genes'\n",
       "    obsm: 'PC1', 'X_pca'\n",
       "    varm: 'PCs'"
      ]
     },
     "metadata": {},
     "output_type": "display_data"
    },
    {
     "name": "stdout",
     "output_type": "stream",
     "text": [
      "COMPUTATIONAL PARAMETERS:\n",
      "conditional_number= 10\n",
      "n_neighbors= 100\n",
      "Computing DANCo\n",
      "Warning: your data might contain duplicate rows, which can affect results\n",
      "Computed in  12.7 sec\n",
      "==========================================================\n",
      "\n",
      "\n",
      "Loading GSE75330_35\n",
      "Dataset =  GSE75330_35\n",
      "N cells= 5050 , N cellnames= 4974 , N allcellnames= 5050\n",
      "Len Order= 4974 , Len CytoTRACE= 4974 , Len Counts= 5050\n",
      "PREPROCESSING PARAMETERS:\n",
      "Already_Log_Transformed= True\n",
      "Normalize_Totals= False\n",
      "number_of_pcs= 30\n",
      "n_neighbours_for_pooling= 10\n",
      "top_variable_genes= 10000\n"
     ]
    },
    {
     "data": {
      "text/plain": [
       "AnnData object with n_obs × n_vars = 5050 × 10000\n",
       "    uns: 'Already_Log_Transformed', 'Counts', 'CytoTRACE', 'GCS', 'Global_FisherS_GPW', 'Normalize_Totals', 'Order', 'PC1', 'Phenotype', 'X_fa', 'X_tsne', 'X_umap', 'allcellnames', 'allgenenames', 'cellnames', 'conditional_number', 'cytoGenes', 'gcsGenes', 'gcsGenesNames', 'ind_samples', 'info', 'lid100', 'n_neighbours_for_pooling', 'number_of_pcs', 'pca', 'surrogate_CytoTRACE', 'surrogate_PC1', 'top_variable_genes'\n",
       "    obsm: 'PC1', 'X_pca'\n",
       "    varm: 'PCs'"
      ]
     },
     "metadata": {},
     "output_type": "display_data"
    },
    {
     "name": "stdout",
     "output_type": "stream",
     "text": [
      "COMPUTATIONAL PARAMETERS:\n",
      "conditional_number= 10\n",
      "n_neighbors= 100\n",
      "Computing DANCo\n",
      "Warning: your data might contain duplicate rows, which can affect results\n",
      "Computed in  87.07 sec\n",
      "==========================================================\n",
      "\n",
      "\n",
      "Loading GSE75330_36\n",
      "Dataset =  GSE75330_36\n",
      "N cells= 5050 , N cellnames= 5050 , N allcellnames= 5050\n",
      "Len Order= 5050 , Len CytoTRACE= 5050 , Len Counts= 5050\n",
      "PREPROCESSING PARAMETERS:\n",
      "Already_Log_Transformed= True\n",
      "Normalize_Totals= False\n",
      "number_of_pcs= 30\n",
      "n_neighbours_for_pooling= 10\n",
      "top_variable_genes= 10000\n"
     ]
    },
    {
     "data": {
      "text/plain": [
       "AnnData object with n_obs × n_vars = 5050 × 10000\n",
       "    uns: 'Already_Log_Transformed', 'Counts', 'CytoTRACE', 'GCS', 'Global_FisherS_GPW', 'Normalize_Totals', 'Order', 'PC1', 'Phenotype', 'X_fa', 'X_tsne', 'X_umap', 'allcellnames', 'allgenenames', 'cellnames', 'conditional_number', 'cytoGenes', 'gcsGenes', 'gcsGenesNames', 'ind_samples', 'info', 'lid100', 'n_neighbours_for_pooling', 'number_of_pcs', 'pca', 'surrogate_CytoTRACE', 'surrogate_PC1', 'top_variable_genes'\n",
       "    obsm: 'PC1', 'X_pca'\n",
       "    varm: 'PCs'"
      ]
     },
     "metadata": {},
     "output_type": "display_data"
    },
    {
     "name": "stdout",
     "output_type": "stream",
     "text": [
      "COMPUTATIONAL PARAMETERS:\n",
      "conditional_number= 10\n",
      "n_neighbors= 100\n",
      "Computing DANCo\n",
      "Warning: your data might contain duplicate rows, which can affect results\n",
      "Computed in  88.88 sec\n",
      "==========================================================\n",
      "\n",
      "\n",
      "Loading GSE87375_37\n",
      "Dataset =  GSE87375_37\n",
      "N cells= 338 , N cellnames= 338 , N allcellnames= 338\n",
      "Len Order= 338 , Len CytoTRACE= 338 , Len Counts= 338\n",
      "PREPROCESSING PARAMETERS:\n",
      "Already_Log_Transformed= True\n",
      "Normalize_Totals= False\n",
      "number_of_pcs= 30\n",
      "n_neighbours_for_pooling= 5\n",
      "top_variable_genes= 10000\n"
     ]
    },
    {
     "data": {
      "text/plain": [
       "AnnData object with n_obs × n_vars = 338 × 10000\n",
       "    uns: 'Already_Log_Transformed', 'Counts', 'CytoTRACE', 'GCS', 'Global_FisherS_GPW', 'Normalize_Totals', 'Order', 'PC1', 'Phenotype', 'X_fa', 'X_tsne', 'X_umap', 'allcellnames', 'allgenenames', 'cellnames', 'conditional_number', 'cytoGenes', 'gcsGenes', 'gcsGenesNames', 'ind_samples', 'info', 'lid67', 'n_neighbours_for_pooling', 'number_of_pcs', 'pca', 'surrogate_CytoTRACE', 'surrogate_PC1', 'top_variable_genes'\n",
       "    obsm: 'PC1', 'X_pca'\n",
       "    varm: 'PCs'"
      ]
     },
     "metadata": {},
     "output_type": "display_data"
    },
    {
     "name": "stdout",
     "output_type": "stream",
     "text": [
      "COMPUTATIONAL PARAMETERS:\n",
      "conditional_number= 10\n",
      "n_neighbors= 67\n",
      "Computing DANCo\n",
      "Warning: your data might contain duplicate rows, which can affect results\n",
      "Computed in  10.5 sec\n",
      "==========================================================\n",
      "\n",
      "\n",
      "Loading GSE87375_38\n",
      "Dataset =  GSE87375_38\n",
      "N cells= 575 , N cellnames= 575 , N allcellnames= 575\n",
      "Len Order= 575 , Len CytoTRACE= 575 , Len Counts= 575\n",
      "PREPROCESSING PARAMETERS:\n",
      "Already_Log_Transformed= True\n",
      "Normalize_Totals= False\n",
      "number_of_pcs= 30\n",
      "n_neighbours_for_pooling= 10\n",
      "top_variable_genes= 10000\n"
     ]
    },
    {
     "data": {
      "text/plain": [
       "AnnData object with n_obs × n_vars = 575 × 10000\n",
       "    uns: 'Already_Log_Transformed', 'Counts', 'CytoTRACE', 'GCS', 'Global_FisherS_GPW', 'Normalize_Totals', 'Order', 'PC1', 'Phenotype', 'X_fa', 'X_tsne', 'X_umap', 'allcellnames', 'allgenenames', 'cellnames', 'conditional_number', 'cytoGenes', 'gcsGenes', 'gcsGenesNames', 'ind_samples', 'info', 'lid100', 'n_neighbours_for_pooling', 'number_of_pcs', 'pca', 'surrogate_CytoTRACE', 'surrogate_PC1', 'top_variable_genes'\n",
       "    obsm: 'PC1', 'X_pca'\n",
       "    varm: 'PCs'"
      ]
     },
     "metadata": {},
     "output_type": "display_data"
    },
    {
     "name": "stdout",
     "output_type": "stream",
     "text": [
      "COMPUTATIONAL PARAMETERS:\n",
      "conditional_number= 10\n",
      "n_neighbors= 100\n",
      "Computing DANCo\n",
      "Warning: your data might contain duplicate rows, which can affect results\n",
      "Computed in  9.78 sec\n",
      "==========================================================\n",
      "\n",
      "\n",
      "Loading GSE103633_39\n",
      "Dataset =  GSE103633_39\n",
      "N cells= 6000 , N cellnames= 738 , N allcellnames= 6000\n",
      "Len Order= 738 , Len CytoTRACE= 738 , Len Counts= 6000\n",
      "PREPROCESSING PARAMETERS:\n",
      "Already_Log_Transformed= True\n",
      "Normalize_Totals= False\n",
      "number_of_pcs= 30\n",
      "n_neighbours_for_pooling= 10\n",
      "top_variable_genes= 10000\n"
     ]
    },
    {
     "data": {
      "text/plain": [
       "AnnData object with n_obs × n_vars = 6000 × 10000\n",
       "    uns: 'Already_Log_Transformed', 'Counts', 'CytoTRACE', 'GCS', 'Global_FisherS_GPW', 'Normalize_Totals', 'Order', 'PC1', 'Phenotype', 'X_fa', 'X_tsne', 'X_umap', 'allcellnames', 'allgenenames', 'cellnames', 'conditional_number', 'cytoGenes', 'gcsGenes', 'gcsGenesNames', 'ind_samples', 'info', 'lid100', 'n_neighbours_for_pooling', 'number_of_pcs', 'pca', 'surrogate_CytoTRACE', 'surrogate_PC1', 'top_variable_genes'\n",
       "    obsm: 'PC1', 'X_pca'\n",
       "    varm: 'PCs'"
      ]
     },
     "metadata": {},
     "output_type": "display_data"
    },
    {
     "name": "stdout",
     "output_type": "stream",
     "text": [
      "COMPUTATIONAL PARAMETERS:\n",
      "conditional_number= 10\n",
      "n_neighbors= 100\n",
      "Computing DANCo\n",
      "Warning: your data might contain duplicate rows, which can affect results\n",
      "Computed in  96.82 sec\n",
      "==========================================================\n",
      "\n",
      "\n",
      "Loading GSE107910_40\n",
      "Dataset =  GSE107910_40\n",
      "N cells= 9307 , N cellnames= 9307 , N allcellnames= 9307\n",
      "Len Order= 9307 , Len CytoTRACE= 9307 , Len Counts= 9307\n",
      "PREPROCESSING PARAMETERS:\n",
      "Already_Log_Transformed= True\n",
      "Normalize_Totals= False\n",
      "number_of_pcs= 30\n",
      "n_neighbours_for_pooling= 10\n",
      "top_variable_genes= 10000\n"
     ]
    },
    {
     "data": {
      "text/plain": [
       "AnnData object with n_obs × n_vars = 9307 × 10000\n",
       "    uns: 'Already_Log_Transformed', 'Counts', 'CytoTRACE', 'GCS', 'Global_FisherS_GPW', 'Normalize_Totals', 'Order', 'PC1', 'Phenotype', 'X_fa', 'X_tsne', 'X_umap', 'allcellnames', 'allgenenames', 'cellnames', 'conditional_number', 'cytoGenes', 'gcsGenes', 'gcsGenesNames', 'ind_samples', 'info', 'lid100', 'n_neighbours_for_pooling', 'number_of_pcs', 'pca', 'surrogate_CytoTRACE', 'surrogate_PC1', 'top_variable_genes'\n",
       "    obsm: 'PC1', 'X_pca'\n",
       "    varm: 'PCs'"
      ]
     },
     "metadata": {},
     "output_type": "display_data"
    },
    {
     "name": "stdout",
     "output_type": "stream",
     "text": [
      "COMPUTATIONAL PARAMETERS:\n",
      "conditional_number= 10\n",
      "n_neighbors= 100\n",
      "Computing DANCo\n",
      "Warning: your data might contain duplicate rows, which can affect results\n",
      "Computed in  162.49 sec\n",
      "==========================================================\n",
      "\n",
      "\n",
      "Loading GSE106587_41\n",
      "Dataset =  GSE106587_41\n",
      "N cells= 6000 , N cellnames= 6000 , N allcellnames= 6000\n",
      "Len Order= 6000 , Len CytoTRACE= 6000 , Len Counts= 6000\n",
      "PREPROCESSING PARAMETERS:\n",
      "Already_Log_Transformed= True\n",
      "Normalize_Totals= False\n",
      "number_of_pcs= 30\n",
      "n_neighbours_for_pooling= 10\n",
      "top_variable_genes= 10000\n"
     ]
    },
    {
     "data": {
      "text/plain": [
       "AnnData object with n_obs × n_vars = 6000 × 10000\n",
       "    uns: 'Already_Log_Transformed', 'Counts', 'CytoTRACE', 'GCS', 'Global_FisherS_GPW', 'Normalize_Totals', 'Order', 'PC1', 'Phenotype', 'X_fa', 'X_tsne', 'X_umap', 'allcellnames', 'allgenenames', 'cellnames', 'conditional_number', 'cytoGenes', 'gcsGenes', 'gcsGenesNames', 'ind_samples', 'info', 'lid100', 'n_neighbours_for_pooling', 'number_of_pcs', 'pca', 'surrogate_CytoTRACE', 'surrogate_PC1', 'top_variable_genes'\n",
       "    obsm: 'PC1', 'X_pca'\n",
       "    varm: 'PCs'"
      ]
     },
     "metadata": {},
     "output_type": "display_data"
    },
    {
     "name": "stdout",
     "output_type": "stream",
     "text": [
      "COMPUTATIONAL PARAMETERS:\n",
      "conditional_number= 10\n",
      "n_neighbors= 100\n",
      "Computing DANCo\n",
      "Warning: your data might contain duplicate rows, which can affect results\n",
      "Computed in  137.2 sec\n",
      "==========================================================\n",
      "\n",
      "\n"
     ]
    }
   ],
   "source": [
    "# Compute various IDs and save the results into uns fields\n",
    "\n",
    "top_variable_genes = 10000 # if negative then no selection of genes\n",
    "Normalize_Totals = False\n",
    "Already_Log_Transformed = True\n",
    "minimal_dim_for_FisherS = 3\n",
    "minimal_conditional_number = 10\n",
    "conditional_number = 10\n",
    "n_neighbours_for_pooling = 10\n",
    "\n",
    "#methods = ['FisherS_GPW','FisherS','PCA_FO_0_1','PCA_FO_0_05','ESS','DANCo','TwoNN','PCA_BS','PCA_KS']\n",
    "#methods = ['ESS','DANCo']\n",
    "methods = ['DANCo']\n",
    "#methods = ['PCA_BS','PCA_KS']\n",
    "\n",
    "danco_caldata100 = skdim.gid.DANCo(D=50).fit(np.random.random((100,50))).calibration_data_\n",
    "\n",
    "for i in range(len(datasets)):\n",
    "#for i in range(1):\n",
    "    print('Loading',datasets[i])\n",
    "    adata_orig, ind_samples = load_dataset(i)\n",
    "    adata = adata_orig.copy()\n",
    "\n",
    "    number_of_cells_ = len(adata)\n",
    "    \n",
    "    # defining the preprocessing parameters\n",
    "    if number_of_cells_ < 100:\n",
    "        number_of_pcs = 10\n",
    "        n_neighbours_for_pooling = -1\n",
    "    elif number_of_cells_ < 500:\n",
    "        number_of_pcs = 30\n",
    "        n_neighbours_for_pooling = 5\n",
    "    else:\n",
    "        number_of_pcs = 30\n",
    "        n_neighbours_for_pooling = 10\n",
    "        \n",
    "    print('PREPROCESSING PARAMETERS:')\n",
    "    print('Already_Log_Transformed=',Already_Log_Transformed)\n",
    "    print('Normalize_Totals=',Normalize_Totals)\n",
    "    print('number_of_pcs=',number_of_pcs)\n",
    "    print('n_neighbours_for_pooling=',n_neighbours_for_pooling)\n",
    "    print('top_variable_genes=',top_variable_genes)\n",
    "                \n",
    "    if n_neighbours_for_pooling>0:\n",
    "        adata = pooling_procedure(adata)\n",
    "\n",
    "    adata = preprocessing_dataset(adata)\n",
    "    \n",
    "    adata.uns['ind_samples'] = ind_samples    \n",
    "    adata.uns['Already_Log_Transformed'] = Already_Log_Transformed\n",
    "    adata.uns['Normalize_Totals'] = Normalize_Totals\n",
    "    adata.uns['number_of_pcs'] = number_of_pcs\n",
    "    adata.uns['n_neighbours_for_pooling'] = n_neighbours_for_pooling\n",
    "    adata.uns['top_variable_genes'] = top_variable_genes\n",
    "\n",
    "    X_pca = adata.obsm['X_pca']\n",
    "    \n",
    "    adata_reduced = adata[ind_samples,:]\n",
    "    adata_reduced.obsm['fa'] = adata.uns['X_fa']\n",
    "    adata_reduced.obs['Order'] = adata.uns['Order']\n",
    "    adata_reduced.obs['CytoTRACE'] = adata.uns['CytoTRACE']\n",
    "    adata_reduced.obs['Counts'] = adata.uns['Counts'][ind_samples]        \n",
    "    \n",
    "    pc1 = adata.obsm['X_pca'][:,0]\n",
    "    adata.obsm['PC1'] = pc1\n",
    "    adata.uns['PC1'] = pc1\n",
    "    \n",
    "    # defining the analysis parameters\n",
    "    conditional_number = 10\n",
    "    n_neighbors = np.min([100,int(len(adata)/5)])\n",
    "    \n",
    "    adata.uns['conditional_number'] = conditional_number\n",
    "    \n",
    "    print('COMPUTATIONAL PARAMETERS:')\n",
    "    print('conditional_number=',conditional_number)    \n",
    "    print('n_neighbors=',n_neighbors)    \n",
    "\n",
    "    if not f'lid{n_neighbors}' in adata.uns:\n",
    "        adata.uns[f'lid{n_neighbors}'] = {}\n",
    "    \n",
    "    # ID computations\n",
    "    for meth in methods:\n",
    "        s=time.time()\n",
    "        if meth=='FisherS_GPW':\n",
    "            print('Computing '+meth)\n",
    "            FisherS = skdim.lid.FisherS(conditional_number=conditional_number).fit(X_pca)\n",
    "            glob_pw = FisherS.point_inseparability_to_pointID(idx='selected')[0]\n",
    "            glob_pw = winsorize(glob_pw, limits=(0.01,0.01), inclusive=(True, True), inplace=True)\n",
    "            adata.uns[f'lid{n_neighbors}']['FisherS_GPW'] = glob_pw\n",
    "            adata.uns['Global_FisherS_GPW'] = FisherS.dimension_\n",
    "        elif meth=='FisherS':\n",
    "            print('Computing '+meth)\n",
    "            fisherS_local = np.array(skdim.asPointwise(X_pca,skdim.lid.lPCA(alphaFO=.1),n_neighbors=n_neighbors))\n",
    "            adata.uns[f'lid{n_neighbors}'][meth] = fisherS_local\n",
    "        elif meth=='PCA_FO_0_1':\n",
    "            print('Computing '+meth)\n",
    "            adata.uns[f'lid{n_neighbors}'][meth] = skdim.asPointwise(X_pca,skdim.lid.lPCA(alphaFO=.1),n_neighbors=n_neighbors)\n",
    "        elif meth=='PCA_FO_0_05':\n",
    "            print('Computing '+meth)\n",
    "            adata.uns[f'lid{n_neighbors}'][meth] = skdim.asPointwise(X_pca,skdim.lid.lPCA(alphaFO=.05),n_neighbors=n_neighbors)\n",
    "        elif meth=='PCA_BS':\n",
    "            print('Computing '+meth)\n",
    "            adata.uns[f'lid{n_neighbors}'][meth] = skdim.asPointwise(X_pca,skdim.lid.lPCA(ver='broken_stick'),n_neighbors=n_neighbors)            \n",
    "        elif meth=='PCA_KS':\n",
    "            print('Computing '+meth)\n",
    "            adata.uns[f'lid{n_neighbors}'][meth] = skdim.asPointwise(X_pca,skdim.lid.lPCA(ver='Kaiser'),n_neighbors=n_neighbors)\n",
    "        elif meth=='DANCo':\n",
    "            print('Computing '+meth)\n",
    "            if n_neighbors==100:\n",
    "                danco_caldata = danco_caldata100\n",
    "            else:\n",
    "                danco_caldata = skdim.gid.DANCo(D=50).fit(np.random.random((n_neighbors,50))).calibration_data_\n",
    "            adata.uns[f'lid{n_neighbors}'][meth] = skdim.asPointwise(X_pca,skdim.gid.DANCo(D=50,calibration_data=danco_caldata,random_state=0), n_neighbors=n_neighbors)\n",
    "        elif meth=='ESS':\n",
    "            print('Computing '+meth)\n",
    "            adata.uns[f'lid{n_neighbors}'][meth] = skdim.asPointwise(X_pca,skdim.lid.ESS(random_generator=0),n_neighbors=n_neighbors)            \n",
    "        elif meth=='TwoNN':\n",
    "            print('Computing '+meth)\n",
    "            adata.uns[f'lid{n_neighbors}'][meth] = skdim.asPointwise(X_pca,skdim.gid.TwoNN(),n_neighbors=n_neighbors)\n",
    "        else:\n",
    "            print('UNKNOWN ID METHOD!!! : '+meth)\n",
    "        print('Computed in ',round(time.time()-s,2),'sec')\n",
    "        nanp = np.sum(np.isnan(adata.uns[f'lid{n_neighbors}'][meth]))/len(adata)\n",
    "        if nanp>0:\n",
    "            print('WARNING!!! Method '+meth+' produced '+str(nanp*100)+'% of nans')\n",
    "\n",
    "\n",
    "    #display(adata)\n",
    "    adata.write(filename=folder_out+datasets[i]+'.h5ad')\n",
    "    print('==========================================================\\n\\n')"
   ]
  },
  {
   "cell_type": "code",
   "execution_count": 10,
   "metadata": {},
   "outputs": [
    {
     "name": "stdout",
     "output_type": "stream",
     "text": [
      "Loading GSE59114_0\n",
      "PREPROCESSING PARAMETERS:\n",
      "Already_Log_Transformed= True\n",
      "Normalize_Totals= False\n",
      "number_of_pcs= 30\n",
      "n_neighbours_for_pooling= 10\n",
      "top_variable_genes= 10000\n"
     ]
    },
    {
     "data": {
      "text/plain": [
       "AnnData object with n_obs × n_vars = 1618 × 7539\n",
       "    uns: 'Already_Log_Transformed', 'Counts', 'CytoTRACE', 'GCS', 'Global_FisherS_GPW', 'Normalize_Totals', 'Order', 'PC1', 'Phenotype', 'X_fa', 'X_tsne', 'X_umap', 'allcellnames', 'allgenenames', 'cellnames', 'conditional_number', 'cytoGenes', 'gcsGenes', 'gcsGenesNames', 'ind_samples', 'info', 'lid100', 'n_neighbours_for_pooling', 'number_of_pcs', 'pca', 'surrogate_CytoTRACE', 'surrogate_PC1', 'top_variable_genes'\n",
       "    obsm: 'PC1', 'X_pca'\n",
       "    varm: 'PCs'"
      ]
     },
     "metadata": {},
     "output_type": "display_data"
    },
    {
     "name": "stdout",
     "output_type": "stream",
     "text": [
      "n_neighbors= 100\n",
      "Computing surrogate for PC1\n",
      "Computing surrogate for CytoTRACE\n",
      "Computing surrogate for ESS\n",
      "Computing surrogate for DANCo\n",
      "==========================================================\n",
      "\n",
      "\n",
      "Loading GSE74767_1\n",
      "PREPROCESSING PARAMETERS:\n",
      "Already_Log_Transformed= True\n",
      "Normalize_Totals= False\n",
      "number_of_pcs= 30\n",
      "n_neighbours_for_pooling= 5\n",
      "top_variable_genes= 10000\n"
     ]
    },
    {
     "data": {
      "text/plain": [
       "AnnData object with n_obs × n_vars = 421 × 10000\n",
       "    uns: 'Already_Log_Transformed', 'Counts', 'CytoTRACE', 'GCS', 'Global_FisherS_GPW', 'Normalize_Totals', 'Order', 'PC1', 'Phenotype', 'X_fa', 'X_tsne', 'X_umap', 'allcellnames', 'allgenenames', 'cellnames', 'conditional_number', 'cytoGenes', 'gcsGenes', 'gcsGenesNames', 'ind_samples', 'info', 'lid84', 'n_neighbours_for_pooling', 'number_of_pcs', 'pca', 'surrogate_CytoTRACE', 'surrogate_PC1', 'top_variable_genes'\n",
       "    obsm: 'PC1', 'X_pca'\n",
       "    varm: 'PCs'"
      ]
     },
     "metadata": {},
     "output_type": "display_data"
    },
    {
     "name": "stdout",
     "output_type": "stream",
     "text": [
      "n_neighbors= 84\n",
      "Computing surrogate for PC1\n",
      "Computing surrogate for CytoTRACE\n",
      "Computing surrogate for ESS\n",
      "Computing surrogate for DANCo\n",
      "==========================================================\n",
      "\n",
      "\n",
      "Loading GSE74767_2\n",
      "PREPROCESSING PARAMETERS:\n",
      "Already_Log_Transformed= True\n",
      "Normalize_Totals= False\n",
      "number_of_pcs= 30\n",
      "n_neighbours_for_pooling= 5\n",
      "top_variable_genes= 10000\n"
     ]
    },
    {
     "data": {
      "text/plain": [
       "AnnData object with n_obs × n_vars = 421 × 10000\n",
       "    uns: 'Already_Log_Transformed', 'Counts', 'CytoTRACE', 'GCS', 'Global_FisherS_GPW', 'Normalize_Totals', 'Order', 'PC1', 'Phenotype', 'X_fa', 'X_tsne', 'X_umap', 'allcellnames', 'allgenenames', 'cellnames', 'conditional_number', 'cytoGenes', 'gcsGenes', 'gcsGenesNames', 'ind_samples', 'info', 'lid84', 'n_neighbours_for_pooling', 'number_of_pcs', 'pca', 'surrogate_CytoTRACE', 'surrogate_PC1', 'top_variable_genes'\n",
       "    obsm: 'PC1', 'X_pca'\n",
       "    varm: 'PCs'"
      ]
     },
     "metadata": {},
     "output_type": "display_data"
    },
    {
     "name": "stdout",
     "output_type": "stream",
     "text": [
      "n_neighbors= 84\n",
      "Computing surrogate for PC1\n",
      "Computing surrogate for CytoTRACE\n",
      "Computing surrogate for ESS\n",
      "Computing surrogate for DANCo\n",
      "==========================================================\n",
      "\n",
      "\n",
      "Loading GSE90860_3\n",
      "PREPROCESSING PARAMETERS:\n",
      "Already_Log_Transformed= True\n",
      "Normalize_Totals= False\n",
      "number_of_pcs= 30\n",
      "n_neighbours_for_pooling= 5\n",
      "top_variable_genes= 10000\n"
     ]
    },
    {
     "data": {
      "text/plain": [
       "AnnData object with n_obs × n_vars = 223 × 10000\n",
       "    uns: 'Already_Log_Transformed', 'Counts', 'CytoTRACE', 'GCS', 'Global_FisherS_GPW', 'Normalize_Totals', 'Order', 'PC1', 'Phenotype', 'X_fa', 'X_tsne', 'X_umap', 'allcellnames', 'allgenenames', 'cellnames', 'conditional_number', 'cytoGenes', 'gcsGenes', 'gcsGenesNames', 'ind_samples', 'info', 'lid44', 'n_neighbours_for_pooling', 'number_of_pcs', 'pca', 'surrogate_CytoTRACE', 'surrogate_PC1', 'top_variable_genes'\n",
       "    obsm: 'PC1', 'X_pca'\n",
       "    varm: 'PCs'"
      ]
     },
     "metadata": {},
     "output_type": "display_data"
    },
    {
     "name": "stdout",
     "output_type": "stream",
     "text": [
      "n_neighbors= 44\n",
      "Computing surrogate for PC1\n",
      "Computing surrogate for CytoTRACE\n",
      "Computing surrogate for ESS\n",
      "Computing surrogate for DANCo\n",
      "==========================================================\n",
      "\n",
      "\n",
      "Loading GSE95753_4\n",
      "PREPROCESSING PARAMETERS:\n",
      "Already_Log_Transformed= True\n",
      "Normalize_Totals= False\n",
      "number_of_pcs= 30\n",
      "n_neighbours_for_pooling= 10\n",
      "top_variable_genes= 10000\n"
     ]
    },
    {
     "data": {
      "text/plain": [
       "AnnData object with n_obs × n_vars = 6000 × 10000\n",
       "    uns: 'Already_Log_Transformed', 'Counts', 'CytoTRACE', 'GCS', 'Global_FisherS_GPW', 'Normalize_Totals', 'Order', 'PC1', 'Phenotype', 'X_fa', 'X_tsne', 'X_umap', 'allcellnames', 'allgenenames', 'cellnames', 'conditional_number', 'cytoGenes', 'gcsGenes', 'gcsGenesNames', 'ind_samples', 'info', 'lid100', 'n_neighbours_for_pooling', 'number_of_pcs', 'pca', 'surrogate_CytoTRACE', 'surrogate_PC1', 'top_variable_genes'\n",
       "    obsm: 'PC1', 'X_pca'\n",
       "    varm: 'PCs'"
      ]
     },
     "metadata": {},
     "output_type": "display_data"
    },
    {
     "name": "stdout",
     "output_type": "stream",
     "text": [
      "n_neighbors= 100\n",
      "Computing surrogate for PC1\n",
      "Computing surrogate for CytoTRACE\n",
      "Computing surrogate for ESS\n",
      "Computing surrogate for DANCo\n",
      "==========================================================\n",
      "\n",
      "\n",
      "Loading GSE95753_5\n",
      "PREPROCESSING PARAMETERS:\n",
      "Already_Log_Transformed= True\n",
      "Normalize_Totals= False\n",
      "number_of_pcs= 30\n",
      "n_neighbours_for_pooling= 10\n",
      "top_variable_genes= 10000\n"
     ]
    },
    {
     "data": {
      "text/plain": [
       "AnnData object with n_obs × n_vars = 6000 × 10000\n",
       "    uns: 'Already_Log_Transformed', 'Counts', 'CytoTRACE', 'GCS', 'Global_FisherS_GPW', 'Normalize_Totals', 'Order', 'PC1', 'Phenotype', 'X_fa', 'X_tsne', 'X_umap', 'allcellnames', 'allgenenames', 'cellnames', 'conditional_number', 'cytoGenes', 'gcsGenes', 'gcsGenesNames', 'ind_samples', 'info', 'lid100', 'n_neighbours_for_pooling', 'number_of_pcs', 'pca', 'surrogate_CytoTRACE', 'surrogate_PC1', 'top_variable_genes'\n",
       "    obsm: 'PC1', 'X_pca'\n",
       "    varm: 'PCs'"
      ]
     },
     "metadata": {},
     "output_type": "display_data"
    },
    {
     "name": "stdout",
     "output_type": "stream",
     "text": [
      "n_neighbors= 100\n",
      "Computing surrogate for PC1\n",
      "Computing surrogate for CytoTRACE\n",
      "Computing surrogate for ESS\n",
      "Computing surrogate for DANCo\n",
      "==========================================================\n",
      "\n",
      "\n",
      "Loading GSE67123_6\n",
      "PREPROCESSING PARAMETERS:\n",
      "Already_Log_Transformed= True\n",
      "Normalize_Totals= False\n",
      "number_of_pcs= 30\n",
      "n_neighbours_for_pooling= 5\n",
      "top_variable_genes= 10000\n"
     ]
    },
    {
     "data": {
      "text/plain": [
       "AnnData object with n_obs × n_vars = 143 × 10000\n",
       "    uns: 'Already_Log_Transformed', 'Counts', 'CytoTRACE', 'GCS', 'Global_FisherS_GPW', 'Normalize_Totals', 'Order', 'PC1', 'Phenotype', 'X_fa', 'X_tsne', 'X_umap', 'allcellnames', 'allgenenames', 'cellnames', 'conditional_number', 'cytoGenes', 'gcsGenes', 'gcsGenesNames', 'ind_samples', 'info', 'lid28', 'n_neighbours_for_pooling', 'number_of_pcs', 'pca', 'surrogate_CytoTRACE', 'surrogate_PC1', 'top_variable_genes'\n",
       "    obsm: 'PC1', 'X_pca'\n",
       "    varm: 'PCs'"
      ]
     },
     "metadata": {},
     "output_type": "display_data"
    },
    {
     "name": "stdout",
     "output_type": "stream",
     "text": [
      "n_neighbors= 28\n",
      "Computing surrogate for PC1\n",
      "Computing surrogate for CytoTRACE\n",
      "Computing surrogate for ESS\n",
      "Computing surrogate for DANCo\n",
      "==========================================================\n",
      "\n",
      "\n",
      "Loading GSE98451_7\n",
      "PREPROCESSING PARAMETERS:\n",
      "Already_Log_Transformed= True\n",
      "Normalize_Totals= False\n",
      "number_of_pcs= 30\n",
      "n_neighbours_for_pooling= 10\n",
      "top_variable_genes= 10000\n"
     ]
    },
    {
     "data": {
      "text/plain": [
       "AnnData object with n_obs × n_vars = 714 × 10000\n",
       "    uns: 'Already_Log_Transformed', 'Counts', 'CytoTRACE', 'GCS', 'Global_FisherS_GPW', 'Normalize_Totals', 'Order', 'PC1', 'Phenotype', 'X_fa', 'X_tsne', 'X_umap', 'allcellnames', 'allgenenames', 'cellnames', 'conditional_number', 'cytoGenes', 'gcsGenes', 'gcsGenesNames', 'ind_samples', 'info', 'lid100', 'n_neighbours_for_pooling', 'number_of_pcs', 'pca', 'surrogate_CytoTRACE', 'surrogate_PC1', 'top_variable_genes'\n",
       "    obsm: 'PC1', 'X_pca'\n",
       "    varm: 'PCs'"
      ]
     },
     "metadata": {},
     "output_type": "display_data"
    },
    {
     "name": "stdout",
     "output_type": "stream",
     "text": [
      "n_neighbors= 100\n",
      "Computing surrogate for PC1\n",
      "Computing surrogate for CytoTRACE\n",
      "Computing surrogate for ESS\n",
      "Computing surrogate for DANCo\n",
      "==========================================================\n",
      "\n",
      "\n",
      "Loading GSE99933_8\n",
      "PREPROCESSING PARAMETERS:\n",
      "Already_Log_Transformed= True\n",
      "Normalize_Totals= False\n",
      "number_of_pcs= 30\n",
      "n_neighbours_for_pooling= 5\n",
      "top_variable_genes= 10000\n"
     ]
    },
    {
     "data": {
      "text/plain": [
       "AnnData object with n_obs × n_vars = 369 × 10000\n",
       "    uns: 'Already_Log_Transformed', 'Counts', 'CytoTRACE', 'GCS', 'Global_FisherS_GPW', 'Normalize_Totals', 'Order', 'PC1', 'Phenotype', 'X_fa', 'X_tsne', 'X_umap', 'allcellnames', 'allgenenames', 'cellnames', 'conditional_number', 'cytoGenes', 'gcsGenes', 'gcsGenesNames', 'ind_samples', 'info', 'lid73', 'n_neighbours_for_pooling', 'number_of_pcs', 'pca', 'surrogate_CytoTRACE', 'surrogate_PC1', 'top_variable_genes'\n",
       "    obsm: 'PC1', 'X_pca'\n",
       "    varm: 'PCs'"
      ]
     },
     "metadata": {},
     "output_type": "display_data"
    },
    {
     "name": "stdout",
     "output_type": "stream",
     "text": [
      "n_neighbors= 73\n",
      "Computing surrogate for PC1\n",
      "Computing surrogate for CytoTRACE\n",
      "Computing surrogate for ESS\n",
      "Computing surrogate for DANCo\n",
      "==========================================================\n",
      "\n",
      "\n",
      "Loading GSE94641_9\n",
      "PREPROCESSING PARAMETERS:\n",
      "Already_Log_Transformed= True\n",
      "Normalize_Totals= False\n",
      "number_of_pcs= 30\n",
      "n_neighbours_for_pooling= 5\n",
      "top_variable_genes= 10000\n"
     ]
    },
    {
     "data": {
      "text/plain": [
       "AnnData object with n_obs × n_vars = 225 × 10000\n",
       "    uns: 'Already_Log_Transformed', 'Counts', 'CytoTRACE', 'GCS', 'Global_FisherS_GPW', 'Normalize_Totals', 'Order', 'PC1', 'Phenotype', 'X_fa', 'X_tsne', 'X_umap', 'allcellnames', 'allgenenames', 'cellnames', 'conditional_number', 'cytoGenes', 'gcsGenes', 'gcsGenesNames', 'ind_samples', 'info', 'lid45', 'n_neighbours_for_pooling', 'number_of_pcs', 'pca', 'surrogate_CytoTRACE', 'surrogate_PC1', 'top_variable_genes'\n",
       "    obsm: 'PC1', 'X_pca'\n",
       "    varm: 'PCs'"
      ]
     },
     "metadata": {},
     "output_type": "display_data"
    },
    {
     "name": "stdout",
     "output_type": "stream",
     "text": [
      "n_neighbors= 45\n",
      "Computing surrogate for PC1\n",
      "Computing surrogate for CytoTRACE\n",
      "Computing surrogate for ESS\n",
      "Computing surrogate for DANCo\n",
      "==========================================================\n",
      "\n",
      "\n",
      "Loading GSE60783_10\n",
      "PREPROCESSING PARAMETERS:\n",
      "Already_Log_Transformed= True\n",
      "Normalize_Totals= False\n",
      "number_of_pcs= 30\n",
      "n_neighbours_for_pooling= 5\n",
      "top_variable_genes= 10000\n"
     ]
    },
    {
     "data": {
      "text/plain": [
       "AnnData object with n_obs × n_vars = 248 × 10000\n",
       "    uns: 'Already_Log_Transformed', 'Counts', 'CytoTRACE', 'GCS', 'Global_FisherS_GPW', 'Normalize_Totals', 'Order', 'PC1', 'Phenotype', 'X_fa', 'X_tsne', 'X_umap', 'allcellnames', 'allgenenames', 'cellnames', 'conditional_number', 'cytoGenes', 'gcsGenes', 'gcsGenesNames', 'ind_samples', 'info', 'lid49', 'n_neighbours_for_pooling', 'number_of_pcs', 'pca', 'surrogate_CytoTRACE', 'surrogate_PC1', 'top_variable_genes'\n",
       "    obsm: 'PC1', 'X_pca'\n",
       "    varm: 'PCs'"
      ]
     },
     "metadata": {},
     "output_type": "display_data"
    },
    {
     "name": "stdout",
     "output_type": "stream",
     "text": [
      "n_neighbors= 49\n",
      "Computing surrogate for PC1\n",
      "Computing surrogate for CytoTRACE\n",
      "Computing surrogate for ESS\n",
      "Computing surrogate for DANCo\n",
      "==========================================================\n",
      "\n",
      "\n",
      "Loading GSE67602_11\n",
      "PREPROCESSING PARAMETERS:\n",
      "Already_Log_Transformed= True\n",
      "Normalize_Totals= False\n",
      "number_of_pcs= 30\n",
      "n_neighbours_for_pooling= 10\n",
      "top_variable_genes= 10000\n"
     ]
    },
    {
     "data": {
      "text/plain": [
       "AnnData object with n_obs × n_vars = 1422 × 10000\n",
       "    uns: 'Already_Log_Transformed', 'Counts', 'CytoTRACE', 'GCS', 'Global_FisherS_GPW', 'Normalize_Totals', 'Order', 'PC1', 'Phenotype', 'X_fa', 'X_tsne', 'X_umap', 'allcellnames', 'allgenenames', 'cellnames', 'conditional_number', 'cytoGenes', 'gcsGenes', 'gcsGenesNames', 'ind_samples', 'info', 'lid100', 'n_neighbours_for_pooling', 'number_of_pcs', 'pca', 'surrogate_CytoTRACE', 'surrogate_PC1', 'top_variable_genes'\n",
       "    obsm: 'PC1', 'X_pca'\n",
       "    varm: 'PCs'"
      ]
     },
     "metadata": {},
     "output_type": "display_data"
    },
    {
     "name": "stdout",
     "output_type": "stream",
     "text": [
      "n_neighbors= 100\n",
      "Computing surrogate for PC1\n",
      "Computing surrogate for CytoTRACE\n",
      "Computing surrogate for ESS\n",
      "Computing surrogate for DANCo\n",
      "==========================================================\n",
      "\n",
      "\n",
      "Loading GSE70245_12\n",
      "PREPROCESSING PARAMETERS:\n",
      "Already_Log_Transformed= True\n",
      "Normalize_Totals= False\n",
      "number_of_pcs= 30\n",
      "n_neighbours_for_pooling= 5\n",
      "top_variable_genes= 10000\n"
     ]
    },
    {
     "data": {
      "text/plain": [
       "AnnData object with n_obs × n_vars = 394 × 10000\n",
       "    uns: 'Already_Log_Transformed', 'Counts', 'CytoTRACE', 'GCS', 'Global_FisherS_GPW', 'Normalize_Totals', 'Order', 'PC1', 'Phenotype', 'X_fa', 'X_tsne', 'X_umap', 'allcellnames', 'allgenenames', 'cellnames', 'conditional_number', 'cytoGenes', 'gcsGenes', 'gcsGenesNames', 'ind_samples', 'info', 'lid78', 'n_neighbours_for_pooling', 'number_of_pcs', 'pca', 'surrogate_CytoTRACE', 'surrogate_PC1', 'top_variable_genes'\n",
       "    obsm: 'PC1', 'X_pca'\n",
       "    varm: 'PCs'"
      ]
     },
     "metadata": {},
     "output_type": "display_data"
    },
    {
     "name": "stdout",
     "output_type": "stream",
     "text": [
      "n_neighbors= 78\n",
      "Computing surrogate for PC1\n",
      "Computing surrogate for CytoTRACE\n",
      "Computing surrogate for ESS\n",
      "Computing surrogate for DANCo\n",
      "==========================================================\n",
      "\n",
      "\n",
      "Loading GSE90047_13\n",
      "PREPROCESSING PARAMETERS:\n",
      "Already_Log_Transformed= True\n",
      "Normalize_Totals= False\n",
      "number_of_pcs= 30\n",
      "n_neighbours_for_pooling= 5\n",
      "top_variable_genes= 10000\n"
     ]
    },
    {
     "data": {
      "text/plain": [
       "AnnData object with n_obs × n_vars = 447 × 10000\n",
       "    uns: 'Already_Log_Transformed', 'Counts', 'CytoTRACE', 'GCS', 'Global_FisherS_GPW', 'Normalize_Totals', 'Order', 'PC1', 'Phenotype', 'X_fa', 'X_tsne', 'X_umap', 'allcellnames', 'allgenenames', 'cellnames', 'conditional_number', 'cytoGenes', 'gcsGenes', 'gcsGenesNames', 'ind_samples', 'info', 'lid89', 'n_neighbours_for_pooling', 'number_of_pcs', 'pca', 'surrogate_CytoTRACE', 'surrogate_PC1', 'top_variable_genes'\n",
       "    obsm: 'PC1', 'X_pca'\n",
       "    varm: 'PCs'"
      ]
     },
     "metadata": {},
     "output_type": "display_data"
    },
    {
     "name": "stdout",
     "output_type": "stream",
     "text": [
      "n_neighbors= 89\n",
      "Computing surrogate for PC1\n",
      "Computing surrogate for CytoTRACE\n",
      "Computing surrogate for ESS\n",
      "Computing surrogate for DANCo\n",
      "==========================================================\n",
      "\n",
      "\n",
      "Loading GSE75748_14\n",
      "PREPROCESSING PARAMETERS:\n",
      "Already_Log_Transformed= True\n",
      "Normalize_Totals= False\n",
      "number_of_pcs= 30\n",
      "n_neighbours_for_pooling= 10\n",
      "top_variable_genes= 10000\n"
     ]
    },
    {
     "data": {
      "text/plain": [
       "AnnData object with n_obs × n_vars = 1018 × 10000\n",
       "    uns: 'Already_Log_Transformed', 'Counts', 'CytoTRACE', 'GCS', 'Global_FisherS_GPW', 'Normalize_Totals', 'Order', 'PC1', 'Phenotype', 'X_fa', 'X_tsne', 'X_umap', 'allcellnames', 'allgenenames', 'cellnames', 'conditional_number', 'cytoGenes', 'gcsGenes', 'gcsGenesNames', 'ind_samples', 'info', 'lid100', 'n_neighbours_for_pooling', 'number_of_pcs', 'pca', 'surrogate_CytoTRACE', 'surrogate_PC1', 'top_variable_genes'\n",
       "    obsm: 'PC1', 'X_pca'\n",
       "    varm: 'PCs'"
      ]
     },
     "metadata": {},
     "output_type": "display_data"
    },
    {
     "name": "stdout",
     "output_type": "stream",
     "text": [
      "n_neighbors= 100\n",
      "Computing surrogate for PC1\n",
      "Computing surrogate for CytoTRACE\n",
      "Computing surrogate for ESS\n",
      "Computing surrogate for DANCo\n",
      "==========================================================\n",
      "\n",
      "\n",
      "Loading GSE52529_15\n",
      "PREPROCESSING PARAMETERS:\n",
      "Already_Log_Transformed= True\n",
      "Normalize_Totals= False\n",
      "number_of_pcs= 30\n",
      "n_neighbours_for_pooling= 5\n",
      "top_variable_genes= 10000\n"
     ]
    },
    {
     "data": {
      "text/plain": [
       "AnnData object with n_obs × n_vars = 170 × 10000\n",
       "    uns: 'Already_Log_Transformed', 'Counts', 'CytoTRACE', 'GCS', 'Global_FisherS_GPW', 'Normalize_Totals', 'Order', 'PC1', 'Phenotype', 'X_fa', 'X_tsne', 'X_umap', 'allcellnames', 'allgenenames', 'cellnames', 'conditional_number', 'cytoGenes', 'gcsGenes', 'gcsGenesNames', 'ind_samples', 'info', 'lid34', 'n_neighbours_for_pooling', 'number_of_pcs', 'pca', 'surrogate_CytoTRACE', 'surrogate_PC1', 'top_variable_genes'\n",
       "    obsm: 'PC1', 'X_pca'\n",
       "    varm: 'PCs'"
      ]
     },
     "metadata": {},
     "output_type": "display_data"
    },
    {
     "name": "stdout",
     "output_type": "stream",
     "text": [
      "n_neighbors= 34\n",
      "Computing surrogate for PC1\n",
      "Computing surrogate for CytoTRACE\n",
      "Computing surrogate for ESS\n",
      "Computing surrogate for DANCo\n",
      "==========================================================\n",
      "\n",
      "\n",
      "Loading GSE85066_16\n",
      "PREPROCESSING PARAMETERS:\n",
      "Already_Log_Transformed= True\n",
      "Normalize_Totals= False\n",
      "number_of_pcs= 30\n",
      "n_neighbours_for_pooling= 5\n",
      "top_variable_genes= 10000\n"
     ]
    },
    {
     "data": {
      "text/plain": [
       "AnnData object with n_obs × n_vars = 498 × 10000\n",
       "    uns: 'Already_Log_Transformed', 'Counts', 'CytoTRACE', 'GCS', 'Global_FisherS_GPW', 'Normalize_Totals', 'Order', 'PC1', 'Phenotype', 'X_fa', 'X_tsne', 'X_umap', 'allcellnames', 'allgenenames', 'cellnames', 'conditional_number', 'cytoGenes', 'gcsGenes', 'gcsGenesNames', 'ind_samples', 'info', 'lid99', 'n_neighbours_for_pooling', 'number_of_pcs', 'pca', 'surrogate_CytoTRACE', 'surrogate_PC1', 'top_variable_genes'\n",
       "    obsm: 'PC1', 'X_pca'\n",
       "    varm: 'PCs'"
      ]
     },
     "metadata": {},
     "output_type": "display_data"
    },
    {
     "name": "stdout",
     "output_type": "stream",
     "text": [
      "n_neighbors= 99\n",
      "Computing surrogate for PC1\n",
      "Computing surrogate for CytoTRACE\n",
      "Computing surrogate for ESS\n",
      "Computing surrogate for DANCo\n",
      "==========================================================\n",
      "\n",
      "\n",
      "Loading GSE93421_17\n",
      "PREPROCESSING PARAMETERS:\n",
      "Already_Log_Transformed= True\n",
      "Normalize_Totals= False\n",
      "number_of_pcs= 30\n",
      "n_neighbours_for_pooling= 10\n",
      "top_variable_genes= 10000\n"
     ]
    },
    {
     "data": {
      "text/plain": [
       "AnnData object with n_obs × n_vars = 5000 × 10000\n",
       "    uns: 'Already_Log_Transformed', 'Counts', 'CytoTRACE', 'GCS', 'Global_FisherS_GPW', 'Normalize_Totals', 'Order', 'PC1', 'Phenotype', 'X_fa', 'X_tsne', 'X_umap', 'allcellnames', 'allgenenames', 'cellnames', 'conditional_number', 'cytoGenes', 'gcsGenes', 'gcsGenesNames', 'ind_samples', 'info', 'lid100', 'n_neighbours_for_pooling', 'number_of_pcs', 'pca', 'surrogate_CytoTRACE', 'surrogate_PC1', 'top_variable_genes'\n",
       "    obsm: 'PC1', 'X_pca'\n",
       "    varm: 'PCs'"
      ]
     },
     "metadata": {},
     "output_type": "display_data"
    },
    {
     "name": "stdout",
     "output_type": "stream",
     "text": [
      "n_neighbors= 100\n",
      "Computing surrogate for PC1\n",
      "Computing surrogate for CytoTRACE\n",
      "Computing surrogate for ESS\n",
      "Computing surrogate for DANCo\n",
      "==========================================================\n",
      "\n",
      "\n",
      "Loading GSE36552_18\n",
      "PREPROCESSING PARAMETERS:\n",
      "Already_Log_Transformed= True\n",
      "Normalize_Totals= False\n",
      "number_of_pcs= 10\n",
      "n_neighbours_for_pooling= -1\n",
      "top_variable_genes= 10000\n"
     ]
    },
    {
     "data": {
      "text/plain": [
       "AnnData object with n_obs × n_vars = 85 × 10000\n",
       "    uns: 'Already_Log_Transformed', 'Counts', 'CytoTRACE', 'GCS', 'Global_FisherS_GPW', 'Normalize_Totals', 'Order', 'PC1', 'Phenotype', 'X_fa', 'X_tsne', 'X_umap', 'allcellnames', 'allgenenames', 'cellnames', 'conditional_number', 'cytoGenes', 'gcsGenes', 'gcsGenesNames', 'ind_samples', 'info', 'lid17', 'n_neighbours_for_pooling', 'number_of_pcs', 'pca', 'surrogate_CytoTRACE', 'surrogate_PC1', 'top_variable_genes'\n",
       "    obsm: 'PC1', 'X_pca'\n",
       "    varm: 'PCs'"
      ]
     },
     "metadata": {},
     "output_type": "display_data"
    },
    {
     "name": "stdout",
     "output_type": "stream",
     "text": [
      "n_neighbors= 17\n",
      "Computing surrogate for PC1\n",
      "Computing surrogate for CytoTRACE\n",
      "Computing surrogate for ESS\n",
      "Computing surrogate for DANCo\n",
      "==========================================================\n",
      "\n",
      "\n",
      "Loading GSE86146_19\n",
      "PREPROCESSING PARAMETERS:\n",
      "Already_Log_Transformed= True\n",
      "Normalize_Totals= False\n",
      "number_of_pcs= 30\n",
      "n_neighbours_for_pooling= 10\n",
      "top_variable_genes= 10000\n"
     ]
    },
    {
     "data": {
      "text/plain": [
       "AnnData object with n_obs × n_vars = 1844 × 10000\n",
       "    uns: 'Already_Log_Transformed', 'Counts', 'CytoTRACE', 'GCS', 'Global_FisherS_GPW', 'Normalize_Totals', 'Order', 'PC1', 'Phenotype', 'X_fa', 'X_tsne', 'X_umap', 'allcellnames', 'allgenenames', 'cellnames', 'conditional_number', 'cytoGenes', 'gcsGenes', 'gcsGenesNames', 'ind_samples', 'info', 'lid100', 'n_neighbours_for_pooling', 'number_of_pcs', 'pca', 'surrogate_CytoTRACE', 'surrogate_PC1', 'top_variable_genes'\n",
       "    obsm: 'PC1', 'X_pca'\n",
       "    varm: 'PCs'"
      ]
     },
     "metadata": {},
     "output_type": "display_data"
    },
    {
     "name": "stdout",
     "output_type": "stream",
     "text": [
      "n_neighbors= 100\n",
      "Computing surrogate for PC1\n",
      "Computing surrogate for CytoTRACE\n",
      "Computing surrogate for ESS\n",
      "Computing surrogate for DANCo\n",
      "==========================================================\n",
      "\n",
      "\n",
      "Loading GSE98664_20\n",
      "PREPROCESSING PARAMETERS:\n",
      "Already_Log_Transformed= True\n",
      "Normalize_Totals= False\n",
      "number_of_pcs= 30\n",
      "n_neighbours_for_pooling= 5\n",
      "top_variable_genes= 10000\n"
     ]
    },
    {
     "data": {
      "text/plain": [
       "AnnData object with n_obs × n_vars = 456 × 10000\n",
       "    uns: 'Already_Log_Transformed', 'Counts', 'CytoTRACE', 'GCS', 'Global_FisherS_GPW', 'Normalize_Totals', 'Order', 'PC1', 'Phenotype', 'X_fa', 'X_tsne', 'X_umap', 'allcellnames', 'allgenenames', 'cellnames', 'conditional_number', 'cytoGenes', 'gcsGenes', 'gcsGenesNames', 'ind_samples', 'info', 'lid91', 'n_neighbours_for_pooling', 'number_of_pcs', 'pca', 'surrogate_CytoTRACE', 'surrogate_PC1', 'top_variable_genes'\n",
       "    obsm: 'PC1', 'X_pca'\n",
       "    varm: 'PCs'"
      ]
     },
     "metadata": {},
     "output_type": "display_data"
    },
    {
     "name": "stdout",
     "output_type": "stream",
     "text": [
      "n_neighbors= 91\n",
      "Computing surrogate for PC1\n",
      "Computing surrogate for CytoTRACE\n",
      "Computing surrogate for ESS\n",
      "Computing surrogate for DANCo\n",
      "==========================================================\n",
      "\n",
      "\n",
      "Loading GSE52583_21\n",
      "PREPROCESSING PARAMETERS:\n",
      "Already_Log_Transformed= True\n",
      "Normalize_Totals= False\n",
      "number_of_pcs= 30\n",
      "n_neighbours_for_pooling= 5\n",
      "top_variable_genes= 10000\n"
     ]
    },
    {
     "data": {
      "text/plain": [
       "AnnData object with n_obs × n_vars = 101 × 10000\n",
       "    uns: 'Already_Log_Transformed', 'Counts', 'CytoTRACE', 'GCS', 'Global_FisherS_GPW', 'Normalize_Totals', 'Order', 'PC1', 'Phenotype', 'X_fa', 'X_tsne', 'X_umap', 'allcellnames', 'allgenenames', 'cellnames', 'conditional_number', 'cytoGenes', 'gcsGenes', 'gcsGenesNames', 'ind_samples', 'info', 'lid20', 'n_neighbours_for_pooling', 'number_of_pcs', 'pca', 'surrogate_CytoTRACE', 'surrogate_PC1', 'top_variable_genes'\n",
       "    obsm: 'PC1', 'X_pca'\n",
       "    varm: 'PCs'"
      ]
     },
     "metadata": {},
     "output_type": "display_data"
    },
    {
     "name": "stdout",
     "output_type": "stream",
     "text": [
      "n_neighbors= 20\n",
      "Computing surrogate for PC1\n",
      "Computing surrogate for CytoTRACE\n",
      "Computing surrogate for ESS\n",
      "Computing surrogate for DANCo\n",
      "==========================================================\n",
      "\n",
      "\n",
      "Loading GSE97391_22\n",
      "PREPROCESSING PARAMETERS:\n",
      "Already_Log_Transformed= True\n",
      "Normalize_Totals= False\n",
      "number_of_pcs= 30\n",
      "n_neighbours_for_pooling= 10\n",
      "top_variable_genes= 10000\n"
     ]
    },
    {
     "data": {
      "text/plain": [
       "AnnData object with n_obs × n_vars = 2684 × 10000\n",
       "    uns: 'Already_Log_Transformed', 'Counts', 'CytoTRACE', 'GCS', 'Global_FisherS_GPW', 'Normalize_Totals', 'Order', 'PC1', 'Phenotype', 'X_fa', 'X_tsne', 'X_umap', 'allcellnames', 'allgenenames', 'cellnames', 'conditional_number', 'cytoGenes', 'gcsGenes', 'gcsGenesNames', 'ind_samples', 'info', 'lid100', 'n_neighbours_for_pooling', 'number_of_pcs', 'pca', 'surrogate_CytoTRACE', 'surrogate_PC1', 'top_variable_genes'\n",
       "    obsm: 'PC1', 'X_pca'\n",
       "    varm: 'PCs'"
      ]
     },
     "metadata": {},
     "output_type": "display_data"
    },
    {
     "name": "stdout",
     "output_type": "stream",
     "text": [
      "n_neighbors= 100\n",
      "Computing surrogate for PC1\n",
      "Computing surrogate for CytoTRACE\n",
      "Computing surrogate for ESS\n",
      "Computing surrogate for DANCo\n",
      "==========================================================\n",
      "\n",
      "\n",
      "Loading GSE76408_23\n",
      "PREPROCESSING PARAMETERS:\n",
      "Already_Log_Transformed= True\n",
      "Normalize_Totals= False\n",
      "number_of_pcs= 30\n",
      "n_neighbours_for_pooling= 5\n",
      "top_variable_genes= 10000\n"
     ]
    },
    {
     "data": {
      "text/plain": [
       "AnnData object with n_obs × n_vars = 480 × 10000\n",
       "    uns: 'Already_Log_Transformed', 'Counts', 'CytoTRACE', 'GCS', 'Global_FisherS_GPW', 'Normalize_Totals', 'Order', 'PC1', 'Phenotype', 'X_fa', 'X_tsne', 'X_umap', 'allcellnames', 'allgenenames', 'cellnames', 'conditional_number', 'cytoGenes', 'gcsGenes', 'gcsGenesNames', 'ind_samples', 'info', 'lid96', 'n_neighbours_for_pooling', 'number_of_pcs', 'pca', 'surrogate_CytoTRACE', 'surrogate_PC1', 'top_variable_genes'\n",
       "    obsm: 'PC1', 'X_pca'\n",
       "    varm: 'PCs'"
      ]
     },
     "metadata": {},
     "output_type": "display_data"
    },
    {
     "name": "stdout",
     "output_type": "stream",
     "text": [
      "n_neighbors= 96\n",
      "Computing surrogate for PC1\n",
      "Computing surrogate for CytoTRACE\n",
      "Computing surrogate for ESS\n",
      "Computing surrogate for DANCo\n",
      "==========================================================\n",
      "\n",
      "\n",
      "Loading GSE109774_24\n",
      "PREPROCESSING PARAMETERS:\n",
      "Already_Log_Transformed= True\n",
      "Normalize_Totals= False\n",
      "number_of_pcs= 30\n",
      "n_neighbours_for_pooling= 10\n",
      "top_variable_genes= 10000\n"
     ]
    },
    {
     "data": {
      "text/plain": [
       "AnnData object with n_obs × n_vars = 3652 × 10000\n",
       "    uns: 'Already_Log_Transformed', 'Counts', 'CytoTRACE', 'GCS', 'Global_FisherS_GPW', 'Normalize_Totals', 'Order', 'PC1', 'Phenotype', 'X_fa', 'X_tsne', 'X_umap', 'allcellnames', 'allgenenames', 'cellnames', 'conditional_number', 'cytoGenes', 'gcsGenes', 'gcsGenesNames', 'ind_samples', 'info', 'lid100', 'n_neighbours_for_pooling', 'number_of_pcs', 'pca', 'surrogate_CytoTRACE', 'surrogate_PC1', 'top_variable_genes'\n",
       "    obsm: 'PC1', 'X_pca'\n",
       "    varm: 'PCs'"
      ]
     },
     "metadata": {},
     "output_type": "display_data"
    },
    {
     "name": "stdout",
     "output_type": "stream",
     "text": [
      "n_neighbors= 100\n",
      "Computing surrogate for PC1\n",
      "Computing surrogate for CytoTRACE\n",
      "Computing surrogate for ESS\n",
      "Computing surrogate for DANCo\n",
      "==========================================================\n",
      "\n",
      "\n",
      "Loading GSE109774_25\n",
      "PREPROCESSING PARAMETERS:\n",
      "Already_Log_Transformed= True\n",
      "Normalize_Totals= False\n",
      "number_of_pcs= 30\n",
      "n_neighbours_for_pooling= 10\n",
      "top_variable_genes= 10000\n"
     ]
    },
    {
     "data": {
      "text/plain": [
       "AnnData object with n_obs × n_vars = 4897 × 10000\n",
       "    uns: 'Already_Log_Transformed', 'Counts', 'CytoTRACE', 'GCS', 'Global_FisherS_GPW', 'Normalize_Totals', 'Order', 'PC1', 'Phenotype', 'X_fa', 'X_tsne', 'X_umap', 'allcellnames', 'allgenenames', 'cellnames', 'conditional_number', 'cytoGenes', 'gcsGenes', 'gcsGenesNames', 'ind_samples', 'info', 'lid100', 'n_neighbours_for_pooling', 'number_of_pcs', 'pca', 'surrogate_CytoTRACE', 'surrogate_PC1', 'top_variable_genes'\n",
       "    obsm: 'PC1', 'X_pca'\n",
       "    varm: 'PCs'"
      ]
     },
     "metadata": {},
     "output_type": "display_data"
    },
    {
     "name": "stdout",
     "output_type": "stream",
     "text": [
      "n_neighbors= 100\n",
      "Computing surrogate for PC1\n",
      "Computing surrogate for CytoTRACE\n",
      "Computing surrogate for ESS\n",
      "Computing surrogate for DANCo\n",
      "==========================================================\n",
      "\n",
      "\n",
      "Loading GSE92332_26\n",
      "PREPROCESSING PARAMETERS:\n",
      "Already_Log_Transformed= True\n",
      "Normalize_Totals= False\n",
      "number_of_pcs= 30\n",
      "n_neighbours_for_pooling= 10\n",
      "top_variable_genes= 10000\n"
     ]
    },
    {
     "data": {
      "text/plain": [
       "AnnData object with n_obs × n_vars = 1522 × 10000\n",
       "    uns: 'Already_Log_Transformed', 'Counts', 'CytoTRACE', 'GCS', 'Global_FisherS_GPW', 'Normalize_Totals', 'Order', 'PC1', 'Phenotype', 'X_fa', 'X_tsne', 'X_umap', 'allcellnames', 'allgenenames', 'cellnames', 'conditional_number', 'cytoGenes', 'gcsGenes', 'gcsGenesNames', 'ind_samples', 'info', 'lid100', 'n_neighbours_for_pooling', 'number_of_pcs', 'pca', 'surrogate_CytoTRACE', 'surrogate_PC1', 'top_variable_genes'\n",
       "    obsm: 'PC1', 'X_pca'\n",
       "    varm: 'PCs'"
      ]
     },
     "metadata": {},
     "output_type": "display_data"
    },
    {
     "name": "stdout",
     "output_type": "stream",
     "text": [
      "n_neighbors= 100\n",
      "Computing surrogate for PC1\n",
      "Computing surrogate for CytoTRACE\n",
      "Computing surrogate for ESS\n",
      "Computing surrogate for DANCo\n",
      "==========================================================\n",
      "\n",
      "\n",
      "Loading GSE97391_27\n",
      "PREPROCESSING PARAMETERS:\n",
      "Already_Log_Transformed= True\n",
      "Normalize_Totals= False\n",
      "number_of_pcs= 30\n",
      "n_neighbours_for_pooling= 10\n",
      "top_variable_genes= 10000\n"
     ]
    },
    {
     "data": {
      "text/plain": [
       "AnnData object with n_obs × n_vars = 2996 × 10000\n",
       "    uns: 'Already_Log_Transformed', 'Counts', 'CytoTRACE', 'GCS', 'Global_FisherS_GPW', 'Normalize_Totals', 'Order', 'PC1', 'Phenotype', 'X_fa', 'X_tsne', 'X_umap', 'allcellnames', 'allgenenames', 'cellnames', 'conditional_number', 'cytoGenes', 'gcsGenes', 'gcsGenesNames', 'ind_samples', 'info', 'lid100', 'n_neighbours_for_pooling', 'number_of_pcs', 'pca', 'surrogate_CytoTRACE', 'surrogate_PC1', 'top_variable_genes'\n",
       "    obsm: 'PC1', 'X_pca'\n",
       "    varm: 'PCs'"
      ]
     },
     "metadata": {},
     "output_type": "display_data"
    },
    {
     "name": "stdout",
     "output_type": "stream",
     "text": [
      "n_neighbors= 100\n",
      "Computing surrogate for PC1\n",
      "Computing surrogate for CytoTRACE\n",
      "Computing surrogate for ESS\n",
      "Computing surrogate for DANCo\n",
      "==========================================================\n",
      "\n",
      "\n",
      "Loading GSE45719_28\n",
      "PREPROCESSING PARAMETERS:\n",
      "Already_Log_Transformed= True\n",
      "Normalize_Totals= False\n",
      "number_of_pcs= 30\n",
      "n_neighbours_for_pooling= 5\n",
      "top_variable_genes= 10000\n"
     ]
    },
    {
     "data": {
      "text/plain": [
       "AnnData object with n_obs × n_vars = 286 × 10000\n",
       "    uns: 'Already_Log_Transformed', 'Counts', 'CytoTRACE', 'GCS', 'Global_FisherS_GPW', 'Normalize_Totals', 'Order', 'PC1', 'Phenotype', 'X_fa', 'X_tsne', 'X_umap', 'allcellnames', 'allgenenames', 'cellnames', 'conditional_number', 'cytoGenes', 'gcsGenes', 'gcsGenesNames', 'ind_samples', 'info', 'lid57', 'n_neighbours_for_pooling', 'number_of_pcs', 'pca', 'surrogate_CytoTRACE', 'surrogate_PC1', 'top_variable_genes'\n",
       "    obsm: 'PC1', 'X_pca'\n",
       "    varm: 'PCs'"
      ]
     },
     "metadata": {},
     "output_type": "display_data"
    },
    {
     "name": "stdout",
     "output_type": "stream",
     "text": [
      "n_neighbors= 57\n",
      "Computing surrogate for PC1\n",
      "Computing surrogate for CytoTRACE\n",
      "Computing surrogate for ESS\n",
      "Computing surrogate for DANCo\n",
      "==========================================================\n",
      "\n",
      "\n",
      "Loading GSE52583_29\n",
      "PREPROCESSING PARAMETERS:\n",
      "Already_Log_Transformed= True\n",
      "Normalize_Totals= False\n",
      "number_of_pcs= 10\n",
      "n_neighbours_for_pooling= -1\n",
      "top_variable_genes= 10000\n"
     ]
    },
    {
     "data": {
      "text/plain": [
       "AnnData object with n_obs × n_vars = 66 × 10000\n",
       "    uns: 'Already_Log_Transformed', 'Counts', 'CytoTRACE', 'GCS', 'Global_FisherS_GPW', 'Normalize_Totals', 'Order', 'PC1', 'Phenotype', 'X_fa', 'X_tsne', 'X_umap', 'allcellnames', 'allgenenames', 'cellnames', 'conditional_number', 'cytoGenes', 'gcsGenes', 'gcsGenesNames', 'ind_samples', 'info', 'lid13', 'n_neighbours_for_pooling', 'number_of_pcs', 'pca', 'surrogate_CytoTRACE', 'surrogate_PC1', 'top_variable_genes'\n",
       "    obsm: 'PC1', 'X_pca'\n",
       "    varm: 'PCs'"
      ]
     },
     "metadata": {},
     "output_type": "display_data"
    },
    {
     "name": "stdout",
     "output_type": "stream",
     "text": [
      "n_neighbors= 13\n",
      "Computing surrogate for PC1\n",
      "Computing surrogate for CytoTRACE\n",
      "Computing surrogate for ESS\n",
      "Computing surrogate for DANCo\n",
      "==========================================================\n",
      "\n",
      "\n",
      "Loading GSE69761_30\n",
      "PREPROCESSING PARAMETERS:\n",
      "Already_Log_Transformed= True\n",
      "Normalize_Totals= False\n",
      "number_of_pcs= 10\n",
      "n_neighbours_for_pooling= -1\n",
      "top_variable_genes= 10000\n"
     ]
    },
    {
     "data": {
      "text/plain": [
       "AnnData object with n_obs × n_vars = 79 × 10000\n",
       "    uns: 'Already_Log_Transformed', 'Counts', 'CytoTRACE', 'GCS', 'Global_FisherS_GPW', 'Normalize_Totals', 'Order', 'PC1', 'Phenotype', 'X_fa', 'X_tsne', 'X_umap', 'allcellnames', 'allgenenames', 'cellnames', 'conditional_number', 'cytoGenes', 'gcsGenes', 'gcsGenesNames', 'ind_samples', 'info', 'lid15', 'n_neighbours_for_pooling', 'number_of_pcs', 'pca', 'surrogate_CytoTRACE', 'surrogate_PC1', 'top_variable_genes'\n",
       "    obsm: 'PC1', 'X_pca'\n",
       "    varm: 'PCs'"
      ]
     },
     "metadata": {},
     "output_type": "display_data"
    },
    {
     "name": "stdout",
     "output_type": "stream",
     "text": [
      "n_neighbors= 15\n",
      "Computing surrogate for PC1\n",
      "Computing surrogate for CytoTRACE\n",
      "Computing surrogate for ESS\n",
      "Computing surrogate for DANCo\n",
      "==========================================================\n",
      "\n",
      "\n",
      "Loading GSE92332_31\n",
      "PREPROCESSING PARAMETERS:\n",
      "Already_Log_Transformed= True\n",
      "Normalize_Totals= False\n",
      "number_of_pcs= 30\n",
      "n_neighbours_for_pooling= 10\n",
      "top_variable_genes= 10000\n"
     ]
    },
    {
     "data": {
      "text/plain": [
       "AnnData object with n_obs × n_vars = 4581 × 10000\n",
       "    uns: 'Already_Log_Transformed', 'Counts', 'CytoTRACE', 'GCS', 'Global_FisherS_GPW', 'Normalize_Totals', 'Order', 'PC1', 'Phenotype', 'X_fa', 'X_tsne', 'X_umap', 'allcellnames', 'allgenenames', 'cellnames', 'conditional_number', 'cytoGenes', 'gcsGenes', 'ind_samples', 'lid100', 'n_neighbours_for_pooling', 'number_of_pcs', 'pca', 'surrogate_CytoTRACE', 'surrogate_PC1', 'top_variable_genes'\n",
       "    obsm: 'PC1', 'X_pca'\n",
       "    varm: 'PCs'"
      ]
     },
     "metadata": {},
     "output_type": "display_data"
    },
    {
     "name": "stdout",
     "output_type": "stream",
     "text": [
      "n_neighbors= 100\n",
      "Computing surrogate for PC1\n",
      "Computing surrogate for CytoTRACE\n",
      "Computing surrogate for ESS\n",
      "Computing surrogate for DANCo\n",
      "==========================================================\n",
      "\n",
      "\n",
      "Loading GSE107122_32\n",
      "PREPROCESSING PARAMETERS:\n",
      "Already_Log_Transformed= True\n",
      "Normalize_Totals= False\n",
      "number_of_pcs= 30\n",
      "n_neighbours_for_pooling= 10\n",
      "top_variable_genes= 10000\n"
     ]
    },
    {
     "data": {
      "text/plain": [
       "AnnData object with n_obs × n_vars = 5998 × 10000\n",
       "    uns: 'Already_Log_Transformed', 'Counts', 'CytoTRACE', 'GCS', 'Global_FisherS_GPW', 'Normalize_Totals', 'Order', 'PC1', 'Phenotype', 'X_fa', 'X_tsne', 'X_umap', 'allcellnames', 'allgenenames', 'cellnames', 'conditional_number', 'cytoGenes', 'gcsGenes', 'gcsGenesNames', 'ind_samples', 'info', 'lid100', 'n_neighbours_for_pooling', 'number_of_pcs', 'pca', 'surrogate_CytoTRACE', 'surrogate_PC1', 'top_variable_genes'\n",
       "    obsm: 'PC1', 'X_pca'\n",
       "    varm: 'PCs'"
      ]
     },
     "metadata": {},
     "output_type": "display_data"
    },
    {
     "name": "stdout",
     "output_type": "stream",
     "text": [
      "n_neighbors= 100\n",
      "Computing surrogate for PC1\n",
      "Computing surrogate for CytoTRACE\n",
      "Computing surrogate for ESS\n",
      "Computing surrogate for DANCo\n",
      "==========================================================\n",
      "\n",
      "\n",
      "Loading GSE64447_33\n",
      "PREPROCESSING PARAMETERS:\n",
      "Already_Log_Transformed= True\n",
      "Normalize_Totals= False\n",
      "number_of_pcs= 30\n",
      "n_neighbours_for_pooling= 5\n",
      "top_variable_genes= 10000\n"
     ]
    },
    {
     "data": {
      "text/plain": [
       "AnnData object with n_obs × n_vars = 447 × 10000\n",
       "    uns: 'Already_Log_Transformed', 'Counts', 'CytoTRACE', 'GCS', 'Global_FisherS_GPW', 'Normalize_Totals', 'Order', 'PC1', 'Phenotype', 'X_fa', 'X_tsne', 'X_umap', 'allcellnames', 'allgenenames', 'cellnames', 'conditional_number', 'cytoGenes', 'gcsGenes', 'gcsGenesNames', 'ind_samples', 'info', 'lid89', 'n_neighbours_for_pooling', 'number_of_pcs', 'pca', 'surrogate_CytoTRACE', 'surrogate_PC1', 'top_variable_genes'\n",
       "    obsm: 'PC1', 'X_pca'\n",
       "    varm: 'PCs'"
      ]
     },
     "metadata": {},
     "output_type": "display_data"
    },
    {
     "name": "stdout",
     "output_type": "stream",
     "text": [
      "n_neighbors= 89\n",
      "Computing surrogate for PC1\n",
      "Computing surrogate for CytoTRACE\n",
      "Computing surrogate for ESS\n",
      "Computing surrogate for DANCo\n",
      "==========================================================\n",
      "\n",
      "\n",
      "Loading GSE102066_34\n",
      "PREPROCESSING PARAMETERS:\n",
      "Already_Log_Transformed= True\n",
      "Normalize_Totals= False\n",
      "number_of_pcs= 30\n",
      "n_neighbours_for_pooling= 10\n",
      "top_variable_genes= 10000\n"
     ]
    },
    {
     "data": {
      "text/plain": [
       "AnnData object with n_obs × n_vars = 781 × 10000\n",
       "    uns: 'Already_Log_Transformed', 'Counts', 'CytoTRACE', 'GCS', 'Global_FisherS_GPW', 'Normalize_Totals', 'Order', 'PC1', 'Phenotype', 'X_fa', 'X_tsne', 'X_umap', 'allcellnames', 'allgenenames', 'cellnames', 'conditional_number', 'cytoGenes', 'gcsGenes', 'gcsGenesNames', 'ind_samples', 'info', 'lid100', 'n_neighbours_for_pooling', 'number_of_pcs', 'pca', 'surrogate_CytoTRACE', 'surrogate_PC1', 'top_variable_genes'\n",
       "    obsm: 'PC1', 'X_pca'\n",
       "    varm: 'PCs'"
      ]
     },
     "metadata": {},
     "output_type": "display_data"
    },
    {
     "name": "stdout",
     "output_type": "stream",
     "text": [
      "n_neighbors= 100\n",
      "Computing surrogate for PC1\n",
      "Computing surrogate for CytoTRACE\n",
      "Computing surrogate for ESS\n",
      "Computing surrogate for DANCo\n",
      "==========================================================\n",
      "\n",
      "\n",
      "Loading GSE75330_35\n",
      "PREPROCESSING PARAMETERS:\n",
      "Already_Log_Transformed= True\n",
      "Normalize_Totals= False\n",
      "number_of_pcs= 30\n",
      "n_neighbours_for_pooling= 10\n",
      "top_variable_genes= 10000\n"
     ]
    },
    {
     "data": {
      "text/plain": [
       "AnnData object with n_obs × n_vars = 5050 × 10000\n",
       "    uns: 'Already_Log_Transformed', 'Counts', 'CytoTRACE', 'GCS', 'Global_FisherS_GPW', 'Normalize_Totals', 'Order', 'PC1', 'Phenotype', 'X_fa', 'X_tsne', 'X_umap', 'allcellnames', 'allgenenames', 'cellnames', 'conditional_number', 'cytoGenes', 'gcsGenes', 'gcsGenesNames', 'ind_samples', 'info', 'lid100', 'n_neighbours_for_pooling', 'number_of_pcs', 'pca', 'surrogate_CytoTRACE', 'surrogate_PC1', 'top_variable_genes'\n",
       "    obsm: 'PC1', 'X_pca'\n",
       "    varm: 'PCs'"
      ]
     },
     "metadata": {},
     "output_type": "display_data"
    },
    {
     "name": "stdout",
     "output_type": "stream",
     "text": [
      "n_neighbors= 100\n",
      "Computing surrogate for PC1\n",
      "Computing surrogate for CytoTRACE\n",
      "Computing surrogate for ESS\n",
      "Computing surrogate for DANCo\n",
      "==========================================================\n",
      "\n",
      "\n",
      "Loading GSE75330_36\n",
      "PREPROCESSING PARAMETERS:\n",
      "Already_Log_Transformed= True\n",
      "Normalize_Totals= False\n",
      "number_of_pcs= 30\n",
      "n_neighbours_for_pooling= 10\n",
      "top_variable_genes= 10000\n"
     ]
    },
    {
     "data": {
      "text/plain": [
       "AnnData object with n_obs × n_vars = 5050 × 10000\n",
       "    uns: 'Already_Log_Transformed', 'Counts', 'CytoTRACE', 'GCS', 'Global_FisherS_GPW', 'Normalize_Totals', 'Order', 'PC1', 'Phenotype', 'X_fa', 'X_tsne', 'X_umap', 'allcellnames', 'allgenenames', 'cellnames', 'conditional_number', 'cytoGenes', 'gcsGenes', 'gcsGenesNames', 'ind_samples', 'info', 'lid100', 'n_neighbours_for_pooling', 'number_of_pcs', 'pca', 'surrogate_CytoTRACE', 'surrogate_PC1', 'top_variable_genes'\n",
       "    obsm: 'PC1', 'X_pca'\n",
       "    varm: 'PCs'"
      ]
     },
     "metadata": {},
     "output_type": "display_data"
    },
    {
     "name": "stdout",
     "output_type": "stream",
     "text": [
      "n_neighbors= 100\n",
      "Computing surrogate for PC1\n",
      "Computing surrogate for CytoTRACE\n",
      "Computing surrogate for ESS\n",
      "Computing surrogate for DANCo\n",
      "==========================================================\n",
      "\n",
      "\n",
      "Loading GSE87375_37\n",
      "PREPROCESSING PARAMETERS:\n",
      "Already_Log_Transformed= True\n",
      "Normalize_Totals= False\n",
      "number_of_pcs= 30\n",
      "n_neighbours_for_pooling= 5\n",
      "top_variable_genes= 10000\n"
     ]
    },
    {
     "data": {
      "text/plain": [
       "AnnData object with n_obs × n_vars = 338 × 10000\n",
       "    uns: 'Already_Log_Transformed', 'Counts', 'CytoTRACE', 'GCS', 'Global_FisherS_GPW', 'Normalize_Totals', 'Order', 'PC1', 'Phenotype', 'X_fa', 'X_tsne', 'X_umap', 'allcellnames', 'allgenenames', 'cellnames', 'conditional_number', 'cytoGenes', 'gcsGenes', 'gcsGenesNames', 'ind_samples', 'info', 'lid67', 'n_neighbours_for_pooling', 'number_of_pcs', 'pca', 'surrogate_CytoTRACE', 'surrogate_PC1', 'top_variable_genes'\n",
       "    obsm: 'PC1', 'X_pca'\n",
       "    varm: 'PCs'"
      ]
     },
     "metadata": {},
     "output_type": "display_data"
    },
    {
     "name": "stdout",
     "output_type": "stream",
     "text": [
      "n_neighbors= 67\n",
      "Computing surrogate for PC1\n",
      "Computing surrogate for CytoTRACE\n",
      "Computing surrogate for ESS\n",
      "Computing surrogate for DANCo\n",
      "==========================================================\n",
      "\n",
      "\n",
      "Loading GSE87375_38\n",
      "PREPROCESSING PARAMETERS:\n",
      "Already_Log_Transformed= True\n",
      "Normalize_Totals= False\n",
      "number_of_pcs= 30\n",
      "n_neighbours_for_pooling= 10\n",
      "top_variable_genes= 10000\n"
     ]
    },
    {
     "data": {
      "text/plain": [
       "AnnData object with n_obs × n_vars = 575 × 10000\n",
       "    uns: 'Already_Log_Transformed', 'Counts', 'CytoTRACE', 'GCS', 'Global_FisherS_GPW', 'Normalize_Totals', 'Order', 'PC1', 'Phenotype', 'X_fa', 'X_tsne', 'X_umap', 'allcellnames', 'allgenenames', 'cellnames', 'conditional_number', 'cytoGenes', 'gcsGenes', 'gcsGenesNames', 'ind_samples', 'info', 'lid100', 'n_neighbours_for_pooling', 'number_of_pcs', 'pca', 'surrogate_CytoTRACE', 'surrogate_PC1', 'top_variable_genes'\n",
       "    obsm: 'PC1', 'X_pca'\n",
       "    varm: 'PCs'"
      ]
     },
     "metadata": {},
     "output_type": "display_data"
    },
    {
     "name": "stdout",
     "output_type": "stream",
     "text": [
      "n_neighbors= 100\n",
      "Computing surrogate for PC1\n",
      "Computing surrogate for CytoTRACE\n",
      "Computing surrogate for ESS\n",
      "Computing surrogate for DANCo\n",
      "==========================================================\n",
      "\n",
      "\n",
      "Loading GSE103633_39\n",
      "PREPROCESSING PARAMETERS:\n",
      "Already_Log_Transformed= True\n",
      "Normalize_Totals= False\n",
      "number_of_pcs= 30\n",
      "n_neighbours_for_pooling= 10\n",
      "top_variable_genes= 10000\n"
     ]
    },
    {
     "data": {
      "text/plain": [
       "AnnData object with n_obs × n_vars = 6000 × 10000\n",
       "    uns: 'Already_Log_Transformed', 'Counts', 'CytoTRACE', 'GCS', 'Global_FisherS_GPW', 'Normalize_Totals', 'Order', 'PC1', 'Phenotype', 'X_fa', 'X_tsne', 'X_umap', 'allcellnames', 'allgenenames', 'cellnames', 'conditional_number', 'cytoGenes', 'gcsGenes', 'gcsGenesNames', 'ind_samples', 'info', 'lid100', 'n_neighbours_for_pooling', 'number_of_pcs', 'pca', 'surrogate_CytoTRACE', 'surrogate_PC1', 'top_variable_genes'\n",
       "    obsm: 'PC1', 'X_pca'\n",
       "    varm: 'PCs'"
      ]
     },
     "metadata": {},
     "output_type": "display_data"
    },
    {
     "name": "stdout",
     "output_type": "stream",
     "text": [
      "n_neighbors= 100\n",
      "Computing surrogate for PC1\n",
      "Computing surrogate for CytoTRACE\n",
      "Computing surrogate for ESS\n",
      "Computing surrogate for DANCo\n",
      "==========================================================\n",
      "\n",
      "\n",
      "Loading GSE107910_40\n",
      "PREPROCESSING PARAMETERS:\n",
      "Already_Log_Transformed= True\n",
      "Normalize_Totals= False\n",
      "number_of_pcs= 30\n",
      "n_neighbours_for_pooling= 10\n",
      "top_variable_genes= 10000\n"
     ]
    },
    {
     "data": {
      "text/plain": [
       "AnnData object with n_obs × n_vars = 9307 × 10000\n",
       "    uns: 'Already_Log_Transformed', 'Counts', 'CytoTRACE', 'GCS', 'Global_FisherS_GPW', 'Normalize_Totals', 'Order', 'PC1', 'Phenotype', 'X_fa', 'X_tsne', 'X_umap', 'allcellnames', 'allgenenames', 'cellnames', 'conditional_number', 'cytoGenes', 'gcsGenes', 'gcsGenesNames', 'ind_samples', 'info', 'lid100', 'n_neighbours_for_pooling', 'number_of_pcs', 'pca', 'surrogate_CytoTRACE', 'surrogate_PC1', 'top_variable_genes'\n",
       "    obsm: 'PC1', 'X_pca'\n",
       "    varm: 'PCs'"
      ]
     },
     "metadata": {},
     "output_type": "display_data"
    },
    {
     "name": "stdout",
     "output_type": "stream",
     "text": [
      "n_neighbors= 100\n",
      "Computing surrogate for PC1\n",
      "Computing surrogate for CytoTRACE\n",
      "Computing surrogate for ESS\n",
      "Computing surrogate for DANCo\n",
      "==========================================================\n",
      "\n",
      "\n",
      "Loading GSE106587_41\n",
      "PREPROCESSING PARAMETERS:\n",
      "Already_Log_Transformed= True\n",
      "Normalize_Totals= False\n",
      "number_of_pcs= 30\n",
      "n_neighbours_for_pooling= 10\n",
      "top_variable_genes= 10000\n"
     ]
    },
    {
     "data": {
      "text/plain": [
       "AnnData object with n_obs × n_vars = 6000 × 10000\n",
       "    uns: 'Already_Log_Transformed', 'Counts', 'CytoTRACE', 'GCS', 'Global_FisherS_GPW', 'Normalize_Totals', 'Order', 'PC1', 'Phenotype', 'X_fa', 'X_tsne', 'X_umap', 'allcellnames', 'allgenenames', 'cellnames', 'conditional_number', 'cytoGenes', 'gcsGenes', 'gcsGenesNames', 'ind_samples', 'info', 'lid100', 'n_neighbours_for_pooling', 'number_of_pcs', 'pca', 'surrogate_CytoTRACE', 'surrogate_PC1', 'top_variable_genes'\n",
       "    obsm: 'PC1', 'X_pca'\n",
       "    varm: 'PCs'"
      ]
     },
     "metadata": {},
     "output_type": "display_data"
    },
    {
     "name": "stdout",
     "output_type": "stream",
     "text": [
      "n_neighbors= 100\n",
      "Computing surrogate for PC1\n",
      "Computing surrogate for CytoTRACE\n",
      "Computing surrogate for ESS\n",
      "Computing surrogate for DANCo\n",
      "==========================================================\n",
      "\n",
      "\n"
     ]
    }
   ],
   "source": [
    "# COMPUTE SURROGATE SCORES AND SAVE THEM\n",
    "\n",
    "#methods = ['FisherS_GPW','FisherS','PCA_FO_0_1','PCA_FO_0_05','ESS','DANCo','TwoNN','PCA_BS','PCA_KS']\n",
    "methods = ['ESS','DANCo']\n",
    "\n",
    "for i in range(len(datasets)):\n",
    "#for i in range(1):\n",
    "    dataset = datasets[i]\n",
    "    print('Loading',datasets[i])\n",
    "    adata_orig = sc.read_h5ad(folder_out+dataset+'.h5ad')\n",
    "    adata = adata_orig.copy()\n",
    "    \n",
    "    ind_samples = adata.uns['ind_samples']\n",
    "    Already_Log_Transformed = adata.uns['Already_Log_Transformed']\n",
    "    Normalize_Totals = adata.uns['Normalize_Totals']\n",
    "    number_of_pcs = adata.uns['number_of_pcs']\n",
    "    n_neighbours_for_pooling = adata.uns['n_neighbours_for_pooling']\n",
    "    top_variable_genes = adata.uns['top_variable_genes']\n",
    "    print('PREPROCESSING PARAMETERS:')\n",
    "    print('Already_Log_Transformed=',Already_Log_Transformed)\n",
    "    print('Normalize_Totals=',Normalize_Totals)\n",
    "    print('number_of_pcs=',number_of_pcs)\n",
    "    print('n_neighbours_for_pooling=',n_neighbours_for_pooling)\n",
    "    print('top_variable_genes=',top_variable_genes)\n",
    "            \n",
    "    if n_neighbours_for_pooling>0:\n",
    "        adata = pooling_procedure(adata)\n",
    "    adata = preprocessing_dataset(adata)\n",
    "\n",
    "    pc1 = adata.obsm['PC1']\n",
    "    cytotrace = np.array(adata.uns['CytoTRACE'])\n",
    "    order = np.array(adata.uns['Order'])\n",
    "    \n",
    "    X = adata.X.T\n",
    "    gene_corrs = np.zeros(len(X))\n",
    "    for k in range(len(X)):\n",
    "        gene_corrs[k] = stats.pearsonr(X[k,:],pc1)[0]\n",
    "    if np.mean(gene_corrs)<0:\n",
    "        adata.obsm['PC1'] = -pc1\n",
    "    \n",
    "    n_neighbors = np.min([100,int(len(adata)/5)])\n",
    "    top_genes_for_surrogate = 200\n",
    "    \n",
    "    print('n_neighbors=',n_neighbors)    \n",
    "    \n",
    "    # Surrogate scores computations\n",
    "    print('Computing surrogate for PC1')\n",
    "    _,adata.uns['surrogate_PC1'],_,_ = get_surrogate_signature(adata,pc1,n_top_genes=top_genes_for_surrogate,negative_side=False,producePlot=False)\n",
    "    print('Computing surrogate for CytoTRACE')\n",
    "    _,adata.uns['surrogate_CytoTRACE'],_,_ = get_surrogate_signature(adata[ind_samples,:],cytotrace,n_top_genes=top_genes_for_surrogate,negative_side=False,producePlot=False)    \n",
    "    for meth in methods:\n",
    "        print('Computing surrogate for '+meth)\n",
    "        score = adata.uns[f'lid{n_neighbors}'][meth]\n",
    "        _,adata.uns[f'lid{n_neighbors}']['surrogate_'+meth],_,_ = get_surrogate_signature(adata,score,n_top_genes=top_genes_for_surrogate,negative_side=False,producePlot=False)    \n",
    "\n",
    "    adata.write(filename=folder_out+datasets[i]+'.h5ad')\n",
    "    print('==========================================================\\n\\n')"
   ]
  },
  {
   "cell_type": "code",
   "execution_count": 11,
   "metadata": {},
   "outputs": [
    {
     "name": "stdout",
     "output_type": "stream",
     "text": [
      "Loading GSE59114_0\n",
      "Loading GSE74767_1\n",
      "Loading GSE74767_2\n",
      "Loading GSE90860_3\n",
      "Loading GSE95753_4\n",
      "Loading GSE95753_5\n",
      "Loading GSE67123_6\n",
      "Loading GSE98451_7\n",
      "Loading GSE99933_8\n",
      "Loading GSE94641_9\n",
      "Loading GSE60783_10\n",
      "Loading GSE67602_11\n",
      "Loading GSE70245_12\n",
      "Loading GSE90047_13\n",
      "Loading GSE75748_14\n",
      "Loading GSE52529_15\n",
      "Loading GSE85066_16\n",
      "Loading GSE93421_17\n",
      "Loading GSE36552_18\n",
      "Loading GSE86146_19\n",
      "Loading GSE98664_20\n",
      "Loading GSE52583_21\n",
      "Loading GSE97391_22\n",
      "Loading GSE76408_23\n",
      "Loading GSE109774_24\n",
      "Loading GSE109774_25\n",
      "Loading GSE92332_26\n",
      "Loading GSE97391_27\n",
      "Loading GSE45719_28\n",
      "Loading GSE52583_29\n",
      "Loading GSE69761_30\n",
      "Loading GSE92332_31\n",
      "Loading GSE107122_32\n",
      "Loading GSE64447_33\n",
      "Loading GSE102066_34\n",
      "Loading GSE75330_35\n",
      "Loading GSE75330_36\n",
      "Loading GSE87375_37\n",
      "Loading GSE87375_38\n",
      "Loading GSE103633_39\n",
      "Loading GSE107910_40\n",
      "Loading GSE106587_41\n"
     ]
    }
   ],
   "source": [
    "## Now compute correlations between scores and order\n",
    "\n",
    "#methods = ['FisherS_GPW','FisherS','PCA_FO_0_1','PCA_FO_0_05','CytoTRACE','PC1']\n",
    "methods = ['FisherS_GPW','FisherS','PCA_FO_0_1','PCA_FO_0_05','ESS','DANCo','TwoNN','PCA_BS','PCA_KS','CytoTRACE','PC1']\n",
    "\n",
    "correlations_score_order = {}\n",
    "correlations_surrogatescore_order = {}\n",
    "number_of_cells = []\n",
    "\n",
    "for i in range(len(datasets)):\n",
    "    dataset = datasets[i]\n",
    "    print('Loading',datasets[i])\n",
    "    adata = sc.read_h5ad(folder_out+dataset+'.h5ad')\n",
    "    \n",
    "    number_of_cells.append(len(adata))\n",
    "    \n",
    "    n_neighbors = np.min([100,int(len(adata)/5)])\n",
    "    \n",
    "    order = adata.uns['Order'] \n",
    "    \n",
    "    ind_samples = adata.uns['ind_samples']\n",
    "    \n",
    "    for meth in methods:\n",
    "        if (meth=='CytoTRACE'):\n",
    "            score = adata.uns[meth] \n",
    "            corr = spearman_inversely_weighted_by_classes(score,order,order)\n",
    "            score = adata.uns['surrogate_'+meth] \n",
    "            corr_surrogate = spearman_inversely_weighted_by_classes(score,order,order)\n",
    "        elif (meth=='PC1'):\n",
    "            score = adata.obsm[meth] \n",
    "            corr = spearman_inversely_weighted_by_classes(score[ind_samples],order,order)\n",
    "            score = adata.uns['surrogate_'+meth] \n",
    "            corr_surrogate = spearman_inversely_weighted_by_classes(score[ind_samples],order,order)\n",
    "        else:\n",
    "            score = adata.uns[f'lid{n_neighbors}'][meth]\n",
    "            corr = spearman_inversely_weighted_by_classes(score[ind_samples],order,order)\n",
    "            score = adata.uns[f'lid{n_neighbors}']['surrogate_'+meth]\n",
    "            corr_surrogate = spearman_inversely_weighted_by_classes(score[ind_samples],order,order)\n",
    "        if not meth in correlations_score_order:\n",
    "            correlations_score_order[meth] = [corr]\n",
    "        else:\n",
    "            correlations_score_order[meth].append(corr)\n",
    "        if not meth in correlations_surrogatescore_order:\n",
    "            correlations_surrogatescore_order[meth] = [corr_surrogate]\n",
    "        else:\n",
    "            correlations_surrogatescore_order[meth].append(corr_surrogate)\n",
    "            \n",
    "        "
   ]
  },
  {
   "cell_type": "code",
   "execution_count": 257,
   "metadata": {},
   "outputs": [
    {
     "name": "stdout",
     "output_type": "stream",
     "text": [
      "Loading GSE59114_0\n",
      "PREPROCESSING PARAMETERS:\n",
      "Already_Log_Transformed= True\n",
      "Normalize_Totals= False\n",
      "number_of_pcs= 30\n",
      "n_neighbours_for_pooling= 10\n",
      "top_variable_genes= 10000\n"
     ]
    },
    {
     "data": {
      "text/plain": [
       "AnnData object with n_obs × n_vars = 1618 × 7539\n",
       "    uns: 'Already_Log_Transformed', 'Counts', 'CytoTRACE', 'GCS', 'Global_FisherS_GPW', 'Normalize_Totals', 'Order', 'PC1', 'Phenotype', 'X_fa', 'X_tsne', 'X_umap', 'allcellnames', 'allgenenames', 'cellnames', 'conditional_number', 'cytoGenes', 'gcsGenes', 'gcsGenesNames', 'ind_samples', 'info', 'lid100', 'n_neighbours_for_pooling', 'number_of_pcs', 'pca', 'surrogate_CytoTRACE', 'surrogate_PC1', 'top_variable_genes'\n",
       "    obsm: 'PC1', 'X_pca'\n",
       "    varm: 'PCs'"
      ]
     },
     "metadata": {},
     "output_type": "display_data"
    },
    {
     "name": "stdout",
     "output_type": "stream",
     "text": [
      "Loading GSE74767_1\n",
      "PREPROCESSING PARAMETERS:\n",
      "Already_Log_Transformed= True\n",
      "Normalize_Totals= False\n",
      "number_of_pcs= 30\n",
      "n_neighbours_for_pooling= 5\n",
      "top_variable_genes= 10000\n"
     ]
    },
    {
     "data": {
      "text/plain": [
       "AnnData object with n_obs × n_vars = 421 × 10000\n",
       "    uns: 'Already_Log_Transformed', 'Counts', 'CytoTRACE', 'GCS', 'Global_FisherS_GPW', 'Normalize_Totals', 'Order', 'PC1', 'Phenotype', 'X_fa', 'X_tsne', 'X_umap', 'allcellnames', 'allgenenames', 'cellnames', 'conditional_number', 'cytoGenes', 'gcsGenes', 'gcsGenesNames', 'ind_samples', 'info', 'lid84', 'n_neighbours_for_pooling', 'number_of_pcs', 'pca', 'surrogate_CytoTRACE', 'surrogate_PC1', 'top_variable_genes'\n",
       "    obsm: 'PC1', 'X_pca'\n",
       "    varm: 'PCs'"
      ]
     },
     "metadata": {},
     "output_type": "display_data"
    },
    {
     "name": "stdout",
     "output_type": "stream",
     "text": [
      "Loading GSE74767_2\n",
      "PREPROCESSING PARAMETERS:\n",
      "Already_Log_Transformed= True\n",
      "Normalize_Totals= False\n",
      "number_of_pcs= 30\n",
      "n_neighbours_for_pooling= 5\n",
      "top_variable_genes= 10000\n"
     ]
    },
    {
     "data": {
      "text/plain": [
       "AnnData object with n_obs × n_vars = 421 × 10000\n",
       "    uns: 'Already_Log_Transformed', 'Counts', 'CytoTRACE', 'GCS', 'Global_FisherS_GPW', 'Normalize_Totals', 'Order', 'PC1', 'Phenotype', 'X_fa', 'X_tsne', 'X_umap', 'allcellnames', 'allgenenames', 'cellnames', 'conditional_number', 'cytoGenes', 'gcsGenes', 'gcsGenesNames', 'ind_samples', 'info', 'lid84', 'n_neighbours_for_pooling', 'number_of_pcs', 'pca', 'surrogate_CytoTRACE', 'surrogate_PC1', 'top_variable_genes'\n",
       "    obsm: 'PC1', 'X_pca'\n",
       "    varm: 'PCs'"
      ]
     },
     "metadata": {},
     "output_type": "display_data"
    },
    {
     "name": "stdout",
     "output_type": "stream",
     "text": [
      "Loading GSE90860_3\n",
      "PREPROCESSING PARAMETERS:\n",
      "Already_Log_Transformed= True\n",
      "Normalize_Totals= False\n",
      "number_of_pcs= 30\n",
      "n_neighbours_for_pooling= 5\n",
      "top_variable_genes= 10000\n"
     ]
    },
    {
     "data": {
      "text/plain": [
       "AnnData object with n_obs × n_vars = 223 × 10000\n",
       "    uns: 'Already_Log_Transformed', 'Counts', 'CytoTRACE', 'GCS', 'Global_FisherS_GPW', 'Normalize_Totals', 'Order', 'PC1', 'Phenotype', 'X_fa', 'X_tsne', 'X_umap', 'allcellnames', 'allgenenames', 'cellnames', 'conditional_number', 'cytoGenes', 'gcsGenes', 'gcsGenesNames', 'ind_samples', 'info', 'lid44', 'n_neighbours_for_pooling', 'number_of_pcs', 'pca', 'surrogate_CytoTRACE', 'surrogate_PC1', 'top_variable_genes'\n",
       "    obsm: 'PC1', 'X_pca'\n",
       "    varm: 'PCs'"
      ]
     },
     "metadata": {},
     "output_type": "display_data"
    },
    {
     "name": "stdout",
     "output_type": "stream",
     "text": [
      "Loading GSE95753_4\n",
      "PREPROCESSING PARAMETERS:\n",
      "Already_Log_Transformed= True\n",
      "Normalize_Totals= False\n",
      "number_of_pcs= 30\n",
      "n_neighbours_for_pooling= 10\n",
      "top_variable_genes= 10000\n"
     ]
    },
    {
     "data": {
      "text/plain": [
       "AnnData object with n_obs × n_vars = 6000 × 10000\n",
       "    uns: 'Already_Log_Transformed', 'Counts', 'CytoTRACE', 'GCS', 'Global_FisherS_GPW', 'Normalize_Totals', 'Order', 'PC1', 'Phenotype', 'X_fa', 'X_tsne', 'X_umap', 'allcellnames', 'allgenenames', 'cellnames', 'conditional_number', 'cytoGenes', 'gcsGenes', 'gcsGenesNames', 'ind_samples', 'info', 'lid100', 'n_neighbours_for_pooling', 'number_of_pcs', 'pca', 'surrogate_CytoTRACE', 'surrogate_PC1', 'top_variable_genes'\n",
       "    obsm: 'PC1', 'X_pca'\n",
       "    varm: 'PCs'"
      ]
     },
     "metadata": {},
     "output_type": "display_data"
    },
    {
     "name": "stdout",
     "output_type": "stream",
     "text": [
      "Loading GSE95753_5\n",
      "PREPROCESSING PARAMETERS:\n",
      "Already_Log_Transformed= True\n",
      "Normalize_Totals= False\n",
      "number_of_pcs= 30\n",
      "n_neighbours_for_pooling= 10\n",
      "top_variable_genes= 10000\n"
     ]
    },
    {
     "data": {
      "text/plain": [
       "AnnData object with n_obs × n_vars = 6000 × 10000\n",
       "    uns: 'Already_Log_Transformed', 'Counts', 'CytoTRACE', 'GCS', 'Global_FisherS_GPW', 'Normalize_Totals', 'Order', 'PC1', 'Phenotype', 'X_fa', 'X_tsne', 'X_umap', 'allcellnames', 'allgenenames', 'cellnames', 'conditional_number', 'cytoGenes', 'gcsGenes', 'gcsGenesNames', 'ind_samples', 'info', 'lid100', 'n_neighbours_for_pooling', 'number_of_pcs', 'pca', 'surrogate_CytoTRACE', 'surrogate_PC1', 'top_variable_genes'\n",
       "    obsm: 'PC1', 'X_pca'\n",
       "    varm: 'PCs'"
      ]
     },
     "metadata": {},
     "output_type": "display_data"
    },
    {
     "name": "stdout",
     "output_type": "stream",
     "text": [
      "Loading GSE67123_6\n",
      "PREPROCESSING PARAMETERS:\n",
      "Already_Log_Transformed= True\n",
      "Normalize_Totals= False\n",
      "number_of_pcs= 30\n",
      "n_neighbours_for_pooling= 5\n",
      "top_variable_genes= 10000\n"
     ]
    },
    {
     "data": {
      "text/plain": [
       "AnnData object with n_obs × n_vars = 143 × 10000\n",
       "    uns: 'Already_Log_Transformed', 'Counts', 'CytoTRACE', 'GCS', 'Global_FisherS_GPW', 'Normalize_Totals', 'Order', 'PC1', 'Phenotype', 'X_fa', 'X_tsne', 'X_umap', 'allcellnames', 'allgenenames', 'cellnames', 'conditional_number', 'cytoGenes', 'gcsGenes', 'gcsGenesNames', 'ind_samples', 'info', 'lid28', 'n_neighbours_for_pooling', 'number_of_pcs', 'pca', 'surrogate_CytoTRACE', 'surrogate_PC1', 'top_variable_genes'\n",
       "    obsm: 'PC1', 'X_pca'\n",
       "    varm: 'PCs'"
      ]
     },
     "metadata": {},
     "output_type": "display_data"
    },
    {
     "name": "stdout",
     "output_type": "stream",
     "text": [
      "Loading GSE98451_7\n",
      "PREPROCESSING PARAMETERS:\n",
      "Already_Log_Transformed= True\n",
      "Normalize_Totals= False\n",
      "number_of_pcs= 30\n",
      "n_neighbours_for_pooling= 10\n",
      "top_variable_genes= 10000\n"
     ]
    },
    {
     "data": {
      "text/plain": [
       "AnnData object with n_obs × n_vars = 714 × 10000\n",
       "    uns: 'Already_Log_Transformed', 'Counts', 'CytoTRACE', 'GCS', 'Global_FisherS_GPW', 'Normalize_Totals', 'Order', 'PC1', 'Phenotype', 'X_fa', 'X_tsne', 'X_umap', 'allcellnames', 'allgenenames', 'cellnames', 'conditional_number', 'cytoGenes', 'gcsGenes', 'gcsGenesNames', 'ind_samples', 'info', 'lid100', 'n_neighbours_for_pooling', 'number_of_pcs', 'pca', 'surrogate_CytoTRACE', 'surrogate_PC1', 'top_variable_genes'\n",
       "    obsm: 'PC1', 'X_pca'\n",
       "    varm: 'PCs'"
      ]
     },
     "metadata": {},
     "output_type": "display_data"
    },
    {
     "name": "stdout",
     "output_type": "stream",
     "text": [
      "Loading GSE99933_8\n",
      "PREPROCESSING PARAMETERS:\n",
      "Already_Log_Transformed= True\n",
      "Normalize_Totals= False\n",
      "number_of_pcs= 30\n",
      "n_neighbours_for_pooling= 5\n",
      "top_variable_genes= 10000\n"
     ]
    },
    {
     "data": {
      "text/plain": [
       "AnnData object with n_obs × n_vars = 369 × 10000\n",
       "    uns: 'Already_Log_Transformed', 'Counts', 'CytoTRACE', 'GCS', 'Global_FisherS_GPW', 'Normalize_Totals', 'Order', 'PC1', 'Phenotype', 'X_fa', 'X_tsne', 'X_umap', 'allcellnames', 'allgenenames', 'cellnames', 'conditional_number', 'cytoGenes', 'gcsGenes', 'gcsGenesNames', 'ind_samples', 'info', 'lid73', 'n_neighbours_for_pooling', 'number_of_pcs', 'pca', 'surrogate_CytoTRACE', 'surrogate_PC1', 'top_variable_genes'\n",
       "    obsm: 'PC1', 'X_pca'\n",
       "    varm: 'PCs'"
      ]
     },
     "metadata": {},
     "output_type": "display_data"
    },
    {
     "name": "stdout",
     "output_type": "stream",
     "text": [
      "Loading GSE94641_9\n",
      "PREPROCESSING PARAMETERS:\n",
      "Already_Log_Transformed= True\n",
      "Normalize_Totals= False\n",
      "number_of_pcs= 30\n",
      "n_neighbours_for_pooling= 5\n",
      "top_variable_genes= 10000\n"
     ]
    },
    {
     "data": {
      "text/plain": [
       "AnnData object with n_obs × n_vars = 225 × 10000\n",
       "    uns: 'Already_Log_Transformed', 'Counts', 'CytoTRACE', 'GCS', 'Global_FisherS_GPW', 'Normalize_Totals', 'Order', 'PC1', 'Phenotype', 'X_fa', 'X_tsne', 'X_umap', 'allcellnames', 'allgenenames', 'cellnames', 'conditional_number', 'cytoGenes', 'gcsGenes', 'gcsGenesNames', 'ind_samples', 'info', 'lid45', 'n_neighbours_for_pooling', 'number_of_pcs', 'pca', 'surrogate_CytoTRACE', 'surrogate_PC1', 'top_variable_genes'\n",
       "    obsm: 'PC1', 'X_pca'\n",
       "    varm: 'PCs'"
      ]
     },
     "metadata": {},
     "output_type": "display_data"
    },
    {
     "name": "stdout",
     "output_type": "stream",
     "text": [
      "Loading GSE60783_10\n",
      "PREPROCESSING PARAMETERS:\n",
      "Already_Log_Transformed= True\n",
      "Normalize_Totals= False\n",
      "number_of_pcs= 30\n",
      "n_neighbours_for_pooling= 5\n",
      "top_variable_genes= 10000\n"
     ]
    },
    {
     "data": {
      "text/plain": [
       "AnnData object with n_obs × n_vars = 248 × 10000\n",
       "    uns: 'Already_Log_Transformed', 'Counts', 'CytoTRACE', 'GCS', 'Global_FisherS_GPW', 'Normalize_Totals', 'Order', 'PC1', 'Phenotype', 'X_fa', 'X_tsne', 'X_umap', 'allcellnames', 'allgenenames', 'cellnames', 'conditional_number', 'cytoGenes', 'gcsGenes', 'gcsGenesNames', 'ind_samples', 'info', 'lid49', 'n_neighbours_for_pooling', 'number_of_pcs', 'pca', 'surrogate_CytoTRACE', 'surrogate_PC1', 'top_variable_genes'\n",
       "    obsm: 'PC1', 'X_pca'\n",
       "    varm: 'PCs'"
      ]
     },
     "metadata": {},
     "output_type": "display_data"
    },
    {
     "name": "stdout",
     "output_type": "stream",
     "text": [
      "Loading GSE67602_11\n",
      "PREPROCESSING PARAMETERS:\n",
      "Already_Log_Transformed= True\n",
      "Normalize_Totals= False\n",
      "number_of_pcs= 30\n",
      "n_neighbours_for_pooling= 10\n",
      "top_variable_genes= 10000\n"
     ]
    },
    {
     "data": {
      "text/plain": [
       "AnnData object with n_obs × n_vars = 1422 × 10000\n",
       "    uns: 'Already_Log_Transformed', 'Counts', 'CytoTRACE', 'GCS', 'Global_FisherS_GPW', 'Normalize_Totals', 'Order', 'PC1', 'Phenotype', 'X_fa', 'X_tsne', 'X_umap', 'allcellnames', 'allgenenames', 'cellnames', 'conditional_number', 'cytoGenes', 'gcsGenes', 'gcsGenesNames', 'ind_samples', 'info', 'lid100', 'n_neighbours_for_pooling', 'number_of_pcs', 'pca', 'surrogate_CytoTRACE', 'surrogate_PC1', 'top_variable_genes'\n",
       "    obsm: 'PC1', 'X_pca'\n",
       "    varm: 'PCs'"
      ]
     },
     "metadata": {},
     "output_type": "display_data"
    },
    {
     "name": "stdout",
     "output_type": "stream",
     "text": [
      "Loading GSE70245_12\n",
      "PREPROCESSING PARAMETERS:\n",
      "Already_Log_Transformed= True\n",
      "Normalize_Totals= False\n",
      "number_of_pcs= 30\n",
      "n_neighbours_for_pooling= 5\n",
      "top_variable_genes= 10000\n"
     ]
    },
    {
     "data": {
      "text/plain": [
       "AnnData object with n_obs × n_vars = 394 × 10000\n",
       "    uns: 'Already_Log_Transformed', 'Counts', 'CytoTRACE', 'GCS', 'Global_FisherS_GPW', 'Normalize_Totals', 'Order', 'PC1', 'Phenotype', 'X_fa', 'X_tsne', 'X_umap', 'allcellnames', 'allgenenames', 'cellnames', 'conditional_number', 'cytoGenes', 'gcsGenes', 'gcsGenesNames', 'ind_samples', 'info', 'lid78', 'n_neighbours_for_pooling', 'number_of_pcs', 'pca', 'surrogate_CytoTRACE', 'surrogate_PC1', 'top_variable_genes'\n",
       "    obsm: 'PC1', 'X_pca'\n",
       "    varm: 'PCs'"
      ]
     },
     "metadata": {},
     "output_type": "display_data"
    },
    {
     "name": "stdout",
     "output_type": "stream",
     "text": [
      "Loading GSE90047_13\n",
      "PREPROCESSING PARAMETERS:\n",
      "Already_Log_Transformed= True\n",
      "Normalize_Totals= False\n",
      "number_of_pcs= 30\n",
      "n_neighbours_for_pooling= 5\n",
      "top_variable_genes= 10000\n"
     ]
    },
    {
     "data": {
      "text/plain": [
       "AnnData object with n_obs × n_vars = 447 × 10000\n",
       "    uns: 'Already_Log_Transformed', 'Counts', 'CytoTRACE', 'GCS', 'Global_FisherS_GPW', 'Normalize_Totals', 'Order', 'PC1', 'Phenotype', 'X_fa', 'X_tsne', 'X_umap', 'allcellnames', 'allgenenames', 'cellnames', 'conditional_number', 'cytoGenes', 'gcsGenes', 'gcsGenesNames', 'ind_samples', 'info', 'lid89', 'n_neighbours_for_pooling', 'number_of_pcs', 'pca', 'surrogate_CytoTRACE', 'surrogate_PC1', 'top_variable_genes'\n",
       "    obsm: 'PC1', 'X_pca'\n",
       "    varm: 'PCs'"
      ]
     },
     "metadata": {},
     "output_type": "display_data"
    },
    {
     "name": "stdout",
     "output_type": "stream",
     "text": [
      "Loading GSE75748_14\n",
      "PREPROCESSING PARAMETERS:\n",
      "Already_Log_Transformed= True\n",
      "Normalize_Totals= False\n",
      "number_of_pcs= 30\n",
      "n_neighbours_for_pooling= 10\n",
      "top_variable_genes= 10000\n"
     ]
    },
    {
     "data": {
      "text/plain": [
       "AnnData object with n_obs × n_vars = 1018 × 10000\n",
       "    uns: 'Already_Log_Transformed', 'Counts', 'CytoTRACE', 'GCS', 'Global_FisherS_GPW', 'Normalize_Totals', 'Order', 'PC1', 'Phenotype', 'X_fa', 'X_tsne', 'X_umap', 'allcellnames', 'allgenenames', 'cellnames', 'conditional_number', 'cytoGenes', 'gcsGenes', 'gcsGenesNames', 'ind_samples', 'info', 'lid100', 'n_neighbours_for_pooling', 'number_of_pcs', 'pca', 'surrogate_CytoTRACE', 'surrogate_PC1', 'top_variable_genes'\n",
       "    obsm: 'PC1', 'X_pca'\n",
       "    varm: 'PCs'"
      ]
     },
     "metadata": {},
     "output_type": "display_data"
    },
    {
     "name": "stdout",
     "output_type": "stream",
     "text": [
      "Loading GSE52529_15\n",
      "PREPROCESSING PARAMETERS:\n",
      "Already_Log_Transformed= True\n",
      "Normalize_Totals= False\n",
      "number_of_pcs= 30\n",
      "n_neighbours_for_pooling= 5\n",
      "top_variable_genes= 10000\n"
     ]
    },
    {
     "data": {
      "text/plain": [
       "AnnData object with n_obs × n_vars = 170 × 10000\n",
       "    uns: 'Already_Log_Transformed', 'Counts', 'CytoTRACE', 'GCS', 'Global_FisherS_GPW', 'Normalize_Totals', 'Order', 'PC1', 'Phenotype', 'X_fa', 'X_tsne', 'X_umap', 'allcellnames', 'allgenenames', 'cellnames', 'conditional_number', 'cytoGenes', 'gcsGenes', 'gcsGenesNames', 'ind_samples', 'info', 'lid34', 'n_neighbours_for_pooling', 'number_of_pcs', 'pca', 'surrogate_CytoTRACE', 'surrogate_PC1', 'top_variable_genes'\n",
       "    obsm: 'PC1', 'X_pca'\n",
       "    varm: 'PCs'"
      ]
     },
     "metadata": {},
     "output_type": "display_data"
    },
    {
     "name": "stdout",
     "output_type": "stream",
     "text": [
      "Loading GSE85066_16\n",
      "PREPROCESSING PARAMETERS:\n",
      "Already_Log_Transformed= True\n",
      "Normalize_Totals= False\n",
      "number_of_pcs= 30\n",
      "n_neighbours_for_pooling= 5\n",
      "top_variable_genes= 10000\n"
     ]
    },
    {
     "data": {
      "text/plain": [
       "AnnData object with n_obs × n_vars = 498 × 10000\n",
       "    uns: 'Already_Log_Transformed', 'Counts', 'CytoTRACE', 'GCS', 'Global_FisherS_GPW', 'Normalize_Totals', 'Order', 'PC1', 'Phenotype', 'X_fa', 'X_tsne', 'X_umap', 'allcellnames', 'allgenenames', 'cellnames', 'conditional_number', 'cytoGenes', 'gcsGenes', 'gcsGenesNames', 'ind_samples', 'info', 'lid99', 'n_neighbours_for_pooling', 'number_of_pcs', 'pca', 'surrogate_CytoTRACE', 'surrogate_PC1', 'top_variable_genes'\n",
       "    obsm: 'PC1', 'X_pca'\n",
       "    varm: 'PCs'"
      ]
     },
     "metadata": {},
     "output_type": "display_data"
    },
    {
     "name": "stdout",
     "output_type": "stream",
     "text": [
      "Loading GSE93421_17\n",
      "PREPROCESSING PARAMETERS:\n",
      "Already_Log_Transformed= True\n",
      "Normalize_Totals= False\n",
      "number_of_pcs= 30\n",
      "n_neighbours_for_pooling= 10\n",
      "top_variable_genes= 10000\n"
     ]
    },
    {
     "data": {
      "text/plain": [
       "AnnData object with n_obs × n_vars = 5000 × 10000\n",
       "    uns: 'Already_Log_Transformed', 'Counts', 'CytoTRACE', 'GCS', 'Global_FisherS_GPW', 'Normalize_Totals', 'Order', 'PC1', 'Phenotype', 'X_fa', 'X_tsne', 'X_umap', 'allcellnames', 'allgenenames', 'cellnames', 'conditional_number', 'cytoGenes', 'gcsGenes', 'gcsGenesNames', 'ind_samples', 'info', 'lid100', 'n_neighbours_for_pooling', 'number_of_pcs', 'pca', 'surrogate_CytoTRACE', 'surrogate_PC1', 'top_variable_genes'\n",
       "    obsm: 'PC1', 'X_pca'\n",
       "    varm: 'PCs'"
      ]
     },
     "metadata": {},
     "output_type": "display_data"
    },
    {
     "name": "stdout",
     "output_type": "stream",
     "text": [
      "Loading GSE36552_18\n",
      "PREPROCESSING PARAMETERS:\n",
      "Already_Log_Transformed= True\n",
      "Normalize_Totals= False\n",
      "number_of_pcs= 10\n",
      "n_neighbours_for_pooling= -1\n",
      "top_variable_genes= 10000\n"
     ]
    },
    {
     "data": {
      "text/plain": [
       "AnnData object with n_obs × n_vars = 85 × 10000\n",
       "    uns: 'Already_Log_Transformed', 'Counts', 'CytoTRACE', 'GCS', 'Global_FisherS_GPW', 'Normalize_Totals', 'Order', 'PC1', 'Phenotype', 'X_fa', 'X_tsne', 'X_umap', 'allcellnames', 'allgenenames', 'cellnames', 'conditional_number', 'cytoGenes', 'gcsGenes', 'gcsGenesNames', 'ind_samples', 'info', 'lid17', 'n_neighbours_for_pooling', 'number_of_pcs', 'pca', 'surrogate_CytoTRACE', 'surrogate_PC1', 'top_variable_genes'\n",
       "    obsm: 'PC1', 'X_pca'\n",
       "    varm: 'PCs'"
      ]
     },
     "metadata": {},
     "output_type": "display_data"
    },
    {
     "name": "stdout",
     "output_type": "stream",
     "text": [
      "Loading GSE86146_19\n",
      "PREPROCESSING PARAMETERS:\n",
      "Already_Log_Transformed= True\n",
      "Normalize_Totals= False\n",
      "number_of_pcs= 30\n",
      "n_neighbours_for_pooling= 10\n",
      "top_variable_genes= 10000\n"
     ]
    },
    {
     "data": {
      "text/plain": [
       "AnnData object with n_obs × n_vars = 1844 × 10000\n",
       "    uns: 'Already_Log_Transformed', 'Counts', 'CytoTRACE', 'GCS', 'Global_FisherS_GPW', 'Normalize_Totals', 'Order', 'PC1', 'Phenotype', 'X_fa', 'X_tsne', 'X_umap', 'allcellnames', 'allgenenames', 'cellnames', 'conditional_number', 'cytoGenes', 'gcsGenes', 'gcsGenesNames', 'ind_samples', 'info', 'lid100', 'n_neighbours_for_pooling', 'number_of_pcs', 'pca', 'surrogate_CytoTRACE', 'surrogate_PC1', 'top_variable_genes'\n",
       "    obsm: 'PC1', 'X_pca'\n",
       "    varm: 'PCs'"
      ]
     },
     "metadata": {},
     "output_type": "display_data"
    },
    {
     "name": "stdout",
     "output_type": "stream",
     "text": [
      "Loading GSE98664_20\n",
      "PREPROCESSING PARAMETERS:\n",
      "Already_Log_Transformed= True\n",
      "Normalize_Totals= False\n",
      "number_of_pcs= 30\n",
      "n_neighbours_for_pooling= 5\n",
      "top_variable_genes= 10000\n"
     ]
    },
    {
     "data": {
      "text/plain": [
       "AnnData object with n_obs × n_vars = 456 × 10000\n",
       "    uns: 'Already_Log_Transformed', 'Counts', 'CytoTRACE', 'GCS', 'Global_FisherS_GPW', 'Normalize_Totals', 'Order', 'PC1', 'Phenotype', 'X_fa', 'X_tsne', 'X_umap', 'allcellnames', 'allgenenames', 'cellnames', 'conditional_number', 'cytoGenes', 'gcsGenes', 'gcsGenesNames', 'ind_samples', 'info', 'lid91', 'n_neighbours_for_pooling', 'number_of_pcs', 'pca', 'surrogate_CytoTRACE', 'surrogate_PC1', 'top_variable_genes'\n",
       "    obsm: 'PC1', 'X_pca'\n",
       "    varm: 'PCs'"
      ]
     },
     "metadata": {},
     "output_type": "display_data"
    },
    {
     "name": "stdout",
     "output_type": "stream",
     "text": [
      "Loading GSE52583_21\n",
      "PREPROCESSING PARAMETERS:\n",
      "Already_Log_Transformed= True\n",
      "Normalize_Totals= False\n",
      "number_of_pcs= 30\n",
      "n_neighbours_for_pooling= 5\n",
      "top_variable_genes= 10000\n"
     ]
    },
    {
     "data": {
      "text/plain": [
       "AnnData object with n_obs × n_vars = 101 × 10000\n",
       "    uns: 'Already_Log_Transformed', 'Counts', 'CytoTRACE', 'GCS', 'Global_FisherS_GPW', 'Normalize_Totals', 'Order', 'PC1', 'Phenotype', 'X_fa', 'X_tsne', 'X_umap', 'allcellnames', 'allgenenames', 'cellnames', 'conditional_number', 'cytoGenes', 'gcsGenes', 'gcsGenesNames', 'ind_samples', 'info', 'lid20', 'n_neighbours_for_pooling', 'number_of_pcs', 'pca', 'surrogate_CytoTRACE', 'surrogate_PC1', 'top_variable_genes'\n",
       "    obsm: 'PC1', 'X_pca'\n",
       "    varm: 'PCs'"
      ]
     },
     "metadata": {},
     "output_type": "display_data"
    },
    {
     "name": "stdout",
     "output_type": "stream",
     "text": [
      "Loading GSE97391_22\n",
      "PREPROCESSING PARAMETERS:\n",
      "Already_Log_Transformed= True\n",
      "Normalize_Totals= False\n",
      "number_of_pcs= 30\n",
      "n_neighbours_for_pooling= 10\n",
      "top_variable_genes= 10000\n"
     ]
    },
    {
     "data": {
      "text/plain": [
       "AnnData object with n_obs × n_vars = 2684 × 10000\n",
       "    uns: 'Already_Log_Transformed', 'Counts', 'CytoTRACE', 'GCS', 'Global_FisherS_GPW', 'Normalize_Totals', 'Order', 'PC1', 'Phenotype', 'X_fa', 'X_tsne', 'X_umap', 'allcellnames', 'allgenenames', 'cellnames', 'conditional_number', 'cytoGenes', 'gcsGenes', 'gcsGenesNames', 'ind_samples', 'info', 'lid100', 'n_neighbours_for_pooling', 'number_of_pcs', 'pca', 'surrogate_CytoTRACE', 'surrogate_PC1', 'top_variable_genes'\n",
       "    obsm: 'PC1', 'X_pca'\n",
       "    varm: 'PCs'"
      ]
     },
     "metadata": {},
     "output_type": "display_data"
    },
    {
     "name": "stdout",
     "output_type": "stream",
     "text": [
      "Loading GSE76408_23\n",
      "PREPROCESSING PARAMETERS:\n",
      "Already_Log_Transformed= True\n",
      "Normalize_Totals= False\n",
      "number_of_pcs= 30\n",
      "n_neighbours_for_pooling= 5\n",
      "top_variable_genes= 10000\n"
     ]
    },
    {
     "data": {
      "text/plain": [
       "AnnData object with n_obs × n_vars = 480 × 10000\n",
       "    uns: 'Already_Log_Transformed', 'Counts', 'CytoTRACE', 'GCS', 'Global_FisherS_GPW', 'Normalize_Totals', 'Order', 'PC1', 'Phenotype', 'X_fa', 'X_tsne', 'X_umap', 'allcellnames', 'allgenenames', 'cellnames', 'conditional_number', 'cytoGenes', 'gcsGenes', 'gcsGenesNames', 'ind_samples', 'info', 'lid96', 'n_neighbours_for_pooling', 'number_of_pcs', 'pca', 'surrogate_CytoTRACE', 'surrogate_PC1', 'top_variable_genes'\n",
       "    obsm: 'PC1', 'X_pca'\n",
       "    varm: 'PCs'"
      ]
     },
     "metadata": {},
     "output_type": "display_data"
    },
    {
     "name": "stdout",
     "output_type": "stream",
     "text": [
      "Loading GSE109774_24\n",
      "PREPROCESSING PARAMETERS:\n",
      "Already_Log_Transformed= True\n",
      "Normalize_Totals= False\n",
      "number_of_pcs= 30\n",
      "n_neighbours_for_pooling= 10\n",
      "top_variable_genes= 10000\n"
     ]
    },
    {
     "data": {
      "text/plain": [
       "AnnData object with n_obs × n_vars = 3652 × 10000\n",
       "    uns: 'Already_Log_Transformed', 'Counts', 'CytoTRACE', 'GCS', 'Global_FisherS_GPW', 'Normalize_Totals', 'Order', 'PC1', 'Phenotype', 'X_fa', 'X_tsne', 'X_umap', 'allcellnames', 'allgenenames', 'cellnames', 'conditional_number', 'cytoGenes', 'gcsGenes', 'gcsGenesNames', 'ind_samples', 'info', 'lid100', 'n_neighbours_for_pooling', 'number_of_pcs', 'pca', 'surrogate_CytoTRACE', 'surrogate_PC1', 'top_variable_genes'\n",
       "    obsm: 'PC1', 'X_pca'\n",
       "    varm: 'PCs'"
      ]
     },
     "metadata": {},
     "output_type": "display_data"
    },
    {
     "name": "stdout",
     "output_type": "stream",
     "text": [
      "Loading GSE109774_25\n",
      "PREPROCESSING PARAMETERS:\n",
      "Already_Log_Transformed= True\n",
      "Normalize_Totals= False\n",
      "number_of_pcs= 30\n",
      "n_neighbours_for_pooling= 10\n",
      "top_variable_genes= 10000\n"
     ]
    },
    {
     "data": {
      "text/plain": [
       "AnnData object with n_obs × n_vars = 4897 × 10000\n",
       "    uns: 'Already_Log_Transformed', 'Counts', 'CytoTRACE', 'GCS', 'Global_FisherS_GPW', 'Normalize_Totals', 'Order', 'PC1', 'Phenotype', 'X_fa', 'X_tsne', 'X_umap', 'allcellnames', 'allgenenames', 'cellnames', 'conditional_number', 'cytoGenes', 'gcsGenes', 'gcsGenesNames', 'ind_samples', 'info', 'lid100', 'n_neighbours_for_pooling', 'number_of_pcs', 'pca', 'surrogate_CytoTRACE', 'surrogate_PC1', 'top_variable_genes'\n",
       "    obsm: 'PC1', 'X_pca'\n",
       "    varm: 'PCs'"
      ]
     },
     "metadata": {},
     "output_type": "display_data"
    },
    {
     "name": "stdout",
     "output_type": "stream",
     "text": [
      "Loading GSE92332_26\n",
      "PREPROCESSING PARAMETERS:\n",
      "Already_Log_Transformed= True\n",
      "Normalize_Totals= False\n",
      "number_of_pcs= 30\n",
      "n_neighbours_for_pooling= 10\n",
      "top_variable_genes= 10000\n"
     ]
    },
    {
     "data": {
      "text/plain": [
       "AnnData object with n_obs × n_vars = 1522 × 10000\n",
       "    uns: 'Already_Log_Transformed', 'Counts', 'CytoTRACE', 'GCS', 'Global_FisherS_GPW', 'Normalize_Totals', 'Order', 'PC1', 'Phenotype', 'X_fa', 'X_tsne', 'X_umap', 'allcellnames', 'allgenenames', 'cellnames', 'conditional_number', 'cytoGenes', 'gcsGenes', 'gcsGenesNames', 'ind_samples', 'info', 'lid100', 'n_neighbours_for_pooling', 'number_of_pcs', 'pca', 'surrogate_CytoTRACE', 'surrogate_PC1', 'top_variable_genes'\n",
       "    obsm: 'PC1', 'X_pca'\n",
       "    varm: 'PCs'"
      ]
     },
     "metadata": {},
     "output_type": "display_data"
    },
    {
     "name": "stdout",
     "output_type": "stream",
     "text": [
      "Loading GSE97391_27\n",
      "PREPROCESSING PARAMETERS:\n",
      "Already_Log_Transformed= True\n",
      "Normalize_Totals= False\n",
      "number_of_pcs= 30\n",
      "n_neighbours_for_pooling= 10\n",
      "top_variable_genes= 10000\n"
     ]
    },
    {
     "ename": "KeyboardInterrupt",
     "evalue": "",
     "output_type": "error",
     "traceback": [
      "\u001b[0;31m---------------------------------------------------------------------------\u001b[0m",
      "\u001b[0;31mKeyboardInterrupt\u001b[0m                         Traceback (most recent call last)",
      "\u001b[0;32m<ipython-input-257-91e64ad41df7>\u001b[0m in \u001b[0;36m<module>\u001b[0;34m\u001b[0m\n\u001b[1;32m     54\u001b[0m     \u001b[0;32mif\u001b[0m \u001b[0mn_neighbours_for_pooling\u001b[0m\u001b[0;34m>\u001b[0m\u001b[0;36m0\u001b[0m\u001b[0;34m:\u001b[0m\u001b[0;34m\u001b[0m\u001b[0;34m\u001b[0m\u001b[0m\n\u001b[1;32m     55\u001b[0m         \u001b[0madata\u001b[0m \u001b[0;34m=\u001b[0m \u001b[0mpooling_procedure\u001b[0m\u001b[0;34m(\u001b[0m\u001b[0madata\u001b[0m\u001b[0;34m)\u001b[0m\u001b[0;34m\u001b[0m\u001b[0;34m\u001b[0m\u001b[0m\n\u001b[0;32m---> 56\u001b[0;31m     \u001b[0madata\u001b[0m \u001b[0;34m=\u001b[0m \u001b[0mpreprocessing_dataset\u001b[0m\u001b[0;34m(\u001b[0m\u001b[0madata\u001b[0m\u001b[0;34m)\u001b[0m\u001b[0;34m\u001b[0m\u001b[0;34m\u001b[0m\u001b[0m\n\u001b[0m\u001b[1;32m     57\u001b[0m \u001b[0;34m\u001b[0m\u001b[0m\n\u001b[1;32m     58\u001b[0m     \u001b[0mcorrorder_cytotrace\u001b[0m\u001b[0;34m.\u001b[0m\u001b[0mappend\u001b[0m\u001b[0;34m(\u001b[0m\u001b[0mspearman_inversely_weighted_by_classes\u001b[0m\u001b[0;34m(\u001b[0m\u001b[0mcytotrace\u001b[0m\u001b[0;34m,\u001b[0m\u001b[0morder\u001b[0m\u001b[0;34m,\u001b[0m\u001b[0morder\u001b[0m\u001b[0;34m)\u001b[0m\u001b[0;34m)\u001b[0m\u001b[0;34m\u001b[0m\u001b[0;34m\u001b[0m\u001b[0m\n",
      "\u001b[0;32m<ipython-input-103-d2077b01153b>\u001b[0m in \u001b[0;36mpreprocessing_dataset\u001b[0;34m(adata)\u001b[0m\n\u001b[1;32m    230\u001b[0m     \u001b[0;31m#adata.obs['Counts'] = np.array(adata.uns['Counts'][ind_samples])\u001b[0m\u001b[0;34m\u001b[0m\u001b[0;34m\u001b[0m\u001b[0;34m\u001b[0m\u001b[0m\n\u001b[1;32m    231\u001b[0m \u001b[0;34m\u001b[0m\u001b[0m\n\u001b[0;32m--> 232\u001b[0;31m     \u001b[0madata\u001b[0m \u001b[0;34m=\u001b[0m \u001b[0mpreprocessing_without_pooling\u001b[0m\u001b[0;34m(\u001b[0m\u001b[0madata\u001b[0m\u001b[0;34m)\u001b[0m\u001b[0;34m\u001b[0m\u001b[0;34m\u001b[0m\u001b[0m\n\u001b[0m\u001b[1;32m    233\u001b[0m \u001b[0;34m\u001b[0m\u001b[0m\n\u001b[1;32m    234\u001b[0m     \u001b[0msc\u001b[0m\u001b[0;34m.\u001b[0m\u001b[0mtl\u001b[0m\u001b[0;34m.\u001b[0m\u001b[0mpca\u001b[0m\u001b[0;34m(\u001b[0m\u001b[0madata\u001b[0m\u001b[0;34m,\u001b[0m\u001b[0mn_comps\u001b[0m\u001b[0;34m=\u001b[0m\u001b[0mnumber_of_pcs\u001b[0m\u001b[0;34m)\u001b[0m\u001b[0;34m\u001b[0m\u001b[0;34m\u001b[0m\u001b[0m\n",
      "\u001b[0;32m<ipython-input-103-d2077b01153b>\u001b[0m in \u001b[0;36mpreprocessing_without_pooling\u001b[0;34m(adata)\u001b[0m\n\u001b[1;32m    210\u001b[0m         \u001b[0;31m#print(vars[ind_genes])\u001b[0m\u001b[0;34m\u001b[0m\u001b[0;34m\u001b[0m\u001b[0;34m\u001b[0m\u001b[0m\n\u001b[1;32m    211\u001b[0m         \u001b[0madata\u001b[0m \u001b[0;34m=\u001b[0m \u001b[0madata\u001b[0m\u001b[0;34m[\u001b[0m\u001b[0;34m:\u001b[0m\u001b[0;34m,\u001b[0m\u001b[0mind_genes\u001b[0m\u001b[0;34m]\u001b[0m\u001b[0;34m\u001b[0m\u001b[0;34m\u001b[0m\u001b[0m\n\u001b[0;32m--> 212\u001b[0;31m     \u001b[0msc\u001b[0m\u001b[0;34m.\u001b[0m\u001b[0mtl\u001b[0m\u001b[0;34m.\u001b[0m\u001b[0mpca\u001b[0m\u001b[0;34m(\u001b[0m\u001b[0madata\u001b[0m\u001b[0;34m,\u001b[0m\u001b[0mn_comps\u001b[0m\u001b[0;34m=\u001b[0m\u001b[0mnumber_of_pcs\u001b[0m\u001b[0;34m)\u001b[0m\u001b[0;34m\u001b[0m\u001b[0;34m\u001b[0m\u001b[0m\n\u001b[0m\u001b[1;32m    213\u001b[0m     \u001b[0;32mreturn\u001b[0m \u001b[0madata\u001b[0m\u001b[0;34m\u001b[0m\u001b[0;34m\u001b[0m\u001b[0m\n\u001b[1;32m    214\u001b[0m \u001b[0;34m\u001b[0m\u001b[0m\n",
      "\u001b[0;32m~/anaconda3/lib/python3.7/site-packages/scanpy/preprocessing/_pca.py\u001b[0m in \u001b[0;36mpca\u001b[0;34m(data, n_comps, zero_center, svd_solver, random_state, return_info, use_highly_variable, dtype, copy, chunked, chunk_size)\u001b[0m\n\u001b[1;32m    227\u001b[0m \u001b[0;34m\u001b[0m\u001b[0m\n\u001b[1;32m    228\u001b[0m     \u001b[0;32mif\u001b[0m \u001b[0mdata_is_AnnData\u001b[0m\u001b[0;34m:\u001b[0m\u001b[0;34m\u001b[0m\u001b[0;34m\u001b[0m\u001b[0m\n\u001b[0;32m--> 229\u001b[0;31m         \u001b[0madata\u001b[0m\u001b[0;34m.\u001b[0m\u001b[0mobsm\u001b[0m\u001b[0;34m[\u001b[0m\u001b[0;34m'X_pca'\u001b[0m\u001b[0;34m]\u001b[0m \u001b[0;34m=\u001b[0m \u001b[0mX_pca\u001b[0m\u001b[0;34m\u001b[0m\u001b[0;34m\u001b[0m\u001b[0m\n\u001b[0m\u001b[1;32m    230\u001b[0m         \u001b[0madata\u001b[0m\u001b[0;34m.\u001b[0m\u001b[0muns\u001b[0m\u001b[0;34m[\u001b[0m\u001b[0;34m'pca'\u001b[0m\u001b[0;34m]\u001b[0m \u001b[0;34m=\u001b[0m \u001b[0;34m{\u001b[0m\u001b[0;34m}\u001b[0m\u001b[0;34m\u001b[0m\u001b[0;34m\u001b[0m\u001b[0m\n\u001b[1;32m    231\u001b[0m         adata.uns['pca']['params'] = {\n",
      "\u001b[0;32m~/anaconda3/lib/python3.7/site-packages/anndata/_core/aligned_mapping.py\u001b[0m in \u001b[0;36m__setitem__\u001b[0;34m(self, key, value)\u001b[0m\n\u001b[1;32m    117\u001b[0m     \u001b[0;32mdef\u001b[0m \u001b[0m__setitem__\u001b[0m\u001b[0;34m(\u001b[0m\u001b[0mself\u001b[0m\u001b[0;34m,\u001b[0m \u001b[0mkey\u001b[0m\u001b[0;34m:\u001b[0m \u001b[0mstr\u001b[0m\u001b[0;34m,\u001b[0m \u001b[0mvalue\u001b[0m\u001b[0;34m:\u001b[0m \u001b[0mV\u001b[0m\u001b[0;34m)\u001b[0m\u001b[0;34m:\u001b[0m\u001b[0;34m\u001b[0m\u001b[0;34m\u001b[0m\u001b[0m\n\u001b[1;32m    118\u001b[0m         \u001b[0mvalue\u001b[0m \u001b[0;34m=\u001b[0m \u001b[0mself\u001b[0m\u001b[0;34m.\u001b[0m\u001b[0m_validate_value\u001b[0m\u001b[0;34m(\u001b[0m\u001b[0mvalue\u001b[0m\u001b[0;34m,\u001b[0m \u001b[0mkey\u001b[0m\u001b[0;34m)\u001b[0m  \u001b[0;31m# Validate before mutating\u001b[0m\u001b[0;34m\u001b[0m\u001b[0;34m\u001b[0m\u001b[0m\n\u001b[0;32m--> 119\u001b[0;31m         \u001b[0madata\u001b[0m \u001b[0;34m=\u001b[0m \u001b[0mself\u001b[0m\u001b[0;34m.\u001b[0m\u001b[0mparent\u001b[0m\u001b[0;34m.\u001b[0m\u001b[0mcopy\u001b[0m\u001b[0;34m(\u001b[0m\u001b[0;34m)\u001b[0m\u001b[0;34m\u001b[0m\u001b[0;34m\u001b[0m\u001b[0m\n\u001b[0m\u001b[1;32m    120\u001b[0m         \u001b[0mnew_mapping\u001b[0m \u001b[0;34m=\u001b[0m \u001b[0mgetattr\u001b[0m\u001b[0;34m(\u001b[0m\u001b[0madata\u001b[0m\u001b[0;34m,\u001b[0m \u001b[0mself\u001b[0m\u001b[0;34m.\u001b[0m\u001b[0mattrname\u001b[0m\u001b[0;34m)\u001b[0m\u001b[0;34m\u001b[0m\u001b[0;34m\u001b[0m\u001b[0m\n\u001b[1;32m    121\u001b[0m         \u001b[0mnew_mapping\u001b[0m\u001b[0;34m[\u001b[0m\u001b[0mkey\u001b[0m\u001b[0;34m]\u001b[0m \u001b[0;34m=\u001b[0m \u001b[0mvalue\u001b[0m\u001b[0;34m\u001b[0m\u001b[0;34m\u001b[0m\u001b[0m\n",
      "\u001b[0;32m~/anaconda3/lib/python3.7/site-packages/anndata/_core/anndata.py\u001b[0m in \u001b[0;36mcopy\u001b[0;34m(self, filename)\u001b[0m\n\u001b[1;32m   1428\u001b[0m                 \u001b[0;31m# defined for the matrix, which is needed for some of the\u001b[0m\u001b[0;34m\u001b[0m\u001b[0;34m\u001b[0m\u001b[0;34m\u001b[0m\u001b[0m\n\u001b[1;32m   1429\u001b[0m                 \u001b[0;31m# current distributed backend.\u001b[0m\u001b[0;34m\u001b[0m\u001b[0;34m\u001b[0m\u001b[0;34m\u001b[0m\u001b[0m\n\u001b[0;32m-> 1430\u001b[0;31m                 \u001b[0mX\u001b[0m \u001b[0;34m=\u001b[0m \u001b[0m_subset\u001b[0m\u001b[0;34m(\u001b[0m\u001b[0mself\u001b[0m\u001b[0;34m.\u001b[0m\u001b[0m_adata_ref\u001b[0m\u001b[0;34m.\u001b[0m\u001b[0mX\u001b[0m\u001b[0;34m,\u001b[0m \u001b[0;34m(\u001b[0m\u001b[0mself\u001b[0m\u001b[0;34m.\u001b[0m\u001b[0m_oidx\u001b[0m\u001b[0;34m,\u001b[0m \u001b[0mself\u001b[0m\u001b[0;34m.\u001b[0m\u001b[0m_vidx\u001b[0m\u001b[0;34m)\u001b[0m\u001b[0;34m)\u001b[0m\u001b[0;34m.\u001b[0m\u001b[0mcopy\u001b[0m\u001b[0;34m(\u001b[0m\u001b[0;34m)\u001b[0m\u001b[0;34m\u001b[0m\u001b[0;34m\u001b[0m\u001b[0m\n\u001b[0m\u001b[1;32m   1431\u001b[0m             \u001b[0;32melse\u001b[0m\u001b[0;34m:\u001b[0m\u001b[0;34m\u001b[0m\u001b[0;34m\u001b[0m\u001b[0m\n\u001b[1;32m   1432\u001b[0m                 \u001b[0mX\u001b[0m \u001b[0;34m=\u001b[0m \u001b[0mself\u001b[0m\u001b[0;34m.\u001b[0m\u001b[0mX\u001b[0m\u001b[0;34m.\u001b[0m\u001b[0mcopy\u001b[0m\u001b[0;34m(\u001b[0m\u001b[0;34m)\u001b[0m\u001b[0;34m\u001b[0m\u001b[0;34m\u001b[0m\u001b[0m\n",
      "\u001b[0;32m/usr/lib/python3.7/functools.py\u001b[0m in \u001b[0;36mwrapper\u001b[0;34m(*args, **kw)\u001b[0m\n\u001b[1;32m    838\u001b[0m                             '1 positional argument')\n\u001b[1;32m    839\u001b[0m \u001b[0;34m\u001b[0m\u001b[0m\n\u001b[0;32m--> 840\u001b[0;31m         \u001b[0;32mreturn\u001b[0m \u001b[0mdispatch\u001b[0m\u001b[0;34m(\u001b[0m\u001b[0margs\u001b[0m\u001b[0;34m[\u001b[0m\u001b[0;36m0\u001b[0m\u001b[0;34m]\u001b[0m\u001b[0;34m.\u001b[0m\u001b[0m__class__\u001b[0m\u001b[0;34m)\u001b[0m\u001b[0;34m(\u001b[0m\u001b[0;34m*\u001b[0m\u001b[0margs\u001b[0m\u001b[0;34m,\u001b[0m \u001b[0;34m**\u001b[0m\u001b[0mkw\u001b[0m\u001b[0;34m)\u001b[0m\u001b[0;34m\u001b[0m\u001b[0;34m\u001b[0m\u001b[0m\n\u001b[0m\u001b[1;32m    841\u001b[0m \u001b[0;34m\u001b[0m\u001b[0m\n\u001b[1;32m    842\u001b[0m     \u001b[0mfuncname\u001b[0m \u001b[0;34m=\u001b[0m \u001b[0mgetattr\u001b[0m\u001b[0;34m(\u001b[0m\u001b[0mfunc\u001b[0m\u001b[0;34m,\u001b[0m \u001b[0;34m'__name__'\u001b[0m\u001b[0;34m,\u001b[0m \u001b[0;34m'singledispatch function'\u001b[0m\u001b[0;34m)\u001b[0m\u001b[0;34m\u001b[0m\u001b[0;34m\u001b[0m\u001b[0m\n",
      "\u001b[0;32m~/anaconda3/lib/python3.7/site-packages/anndata/_core/index.py\u001b[0m in \u001b[0;36m_subset\u001b[0;34m(a, subset_idx)\u001b[0m\n\u001b[1;32m    124\u001b[0m     \u001b[0;32mif\u001b[0m \u001b[0mall\u001b[0m\u001b[0;34m(\u001b[0m\u001b[0misinstance\u001b[0m\u001b[0;34m(\u001b[0m\u001b[0mx\u001b[0m\u001b[0;34m,\u001b[0m \u001b[0mcabc\u001b[0m\u001b[0;34m.\u001b[0m\u001b[0mIterable\u001b[0m\u001b[0;34m)\u001b[0m \u001b[0;32mfor\u001b[0m \u001b[0mx\u001b[0m \u001b[0;32min\u001b[0m \u001b[0msubset_idx\u001b[0m\u001b[0;34m)\u001b[0m\u001b[0;34m:\u001b[0m\u001b[0;34m\u001b[0m\u001b[0;34m\u001b[0m\u001b[0m\n\u001b[1;32m    125\u001b[0m         \u001b[0msubset_idx\u001b[0m \u001b[0;34m=\u001b[0m \u001b[0mnp\u001b[0m\u001b[0;34m.\u001b[0m\u001b[0mix_\u001b[0m\u001b[0;34m(\u001b[0m\u001b[0;34m*\u001b[0m\u001b[0msubset_idx\u001b[0m\u001b[0;34m)\u001b[0m\u001b[0;34m\u001b[0m\u001b[0;34m\u001b[0m\u001b[0m\n\u001b[0;32m--> 126\u001b[0;31m     \u001b[0;32mreturn\u001b[0m \u001b[0ma\u001b[0m\u001b[0;34m[\u001b[0m\u001b[0msubset_idx\u001b[0m\u001b[0;34m]\u001b[0m\u001b[0;34m\u001b[0m\u001b[0;34m\u001b[0m\u001b[0m\n\u001b[0m\u001b[1;32m    127\u001b[0m \u001b[0;34m\u001b[0m\u001b[0m\n\u001b[1;32m    128\u001b[0m \u001b[0;34m\u001b[0m\u001b[0m\n",
      "\u001b[0;31mKeyboardInterrupt\u001b[0m: "
     ]
    }
   ],
   "source": [
    "## NOW WE DETERMINE CONSENSUS SCORES\n",
    "\n",
    "#methods = ['FisherS_GPW','FisherS','PCA_FO_0_1','PCA_FO_0_05']\n",
    "#methods = ['FisherS_GPW','FisherS','PCA_FO_0_1','PCA_FO_0_05','ESS','DANCo','TwoNN','PCA_BS','PCA_KS']\n",
    "methods = ['FisherS_GPW']\n",
    "\n",
    "# only id values\n",
    "consensus_score_id = []\n",
    "# only id values and CT and PC1\n",
    "consensus_score_id_CT_PC1 = []\n",
    "# only surrogate id values\n",
    "consensus_score_idsurrogate = []\n",
    "# surrogate id values and CT and PC1\n",
    "consensus_score_idsurrogate_CT_PC1 = []\n",
    "\n",
    "corrorder_consensus_score_id = []\n",
    "corrorder_consensus_score_id_CT_PC1 = []\n",
    "corrorder_consensus_score_idsurrogate = []\n",
    "corrorder_consensus_score_idsurrogate_CT_PC1 = []\n",
    "\n",
    "corrorder_cytotrace = []\n",
    "\n",
    "# only id values and then the consensus used to find surrogate\n",
    "surrogate_consensus_score_id = []\n",
    "# id values and CT and PC1 and then the consensus used to find surrogate\n",
    "consensus_score_id_CT_PC1 = []\n",
    "corrorder_surrogate_consensus_score_id = []\n",
    "corrorder_surrogate_consensus_score_id_CT_PC1 = []\n",
    "\n",
    "\n",
    "for i in range(len(datasets)):\n",
    "    dataset = datasets[i]\n",
    "    print('Loading',datasets[i])\n",
    "    adata_orig = sc.read_h5ad(folder_out+dataset+'.h5ad')\n",
    "    adata = adata_orig.copy()\n",
    "    n_neighbors = np.min([100,int(len(adata)/5)])    \n",
    "    order = adata.uns['Order']\n",
    "    cytotrace = adata.uns['CytoTRACE']\n",
    "    pc1 = adata.obsm['PC1']\n",
    "    ind_samples = adata.uns['ind_samples']\n",
    "\n",
    "    Already_Log_Transformed = adata.uns['Already_Log_Transformed']\n",
    "    Normalize_Totals = adata.uns['Normalize_Totals']\n",
    "    number_of_pcs = adata.uns['number_of_pcs']\n",
    "    n_neighbours_for_pooling = adata.uns['n_neighbours_for_pooling']\n",
    "    top_variable_genes = adata.uns['top_variable_genes']\n",
    "    print('PREPROCESSING PARAMETERS:')\n",
    "    print('Already_Log_Transformed=',Already_Log_Transformed)\n",
    "    print('Normalize_Totals=',Normalize_Totals)\n",
    "    print('number_of_pcs=',number_of_pcs)\n",
    "    print('n_neighbours_for_pooling=',n_neighbours_for_pooling)\n",
    "    print('top_variable_genes=',top_variable_genes)   \n",
    "    \n",
    "    if n_neighbours_for_pooling>0:\n",
    "        adata = pooling_procedure(adata)\n",
    "    adata = preprocessing_dataset(adata)\n",
    "    \n",
    "    corrorder_cytotrace.append(spearman_inversely_weighted_by_classes(cytotrace,order,order))\n",
    "    \n",
    "    score_array_id = np.zeros((len(adata),len(methods)))\n",
    "    for i,meth in enumerate(methods):\n",
    "        score_array_id[:,i] = adata.uns[f'lid{n_neighbors}'][meth]\n",
    "    score_array_id = stats.zscore(score_array_id)\n",
    "    u,s = consensus_score_PCA(score_array_id)\n",
    "    consensus_score_id.append(u)\n",
    "    corrorder_consensus_score_id.append(spearman_inversely_weighted_by_classes(u[ind_samples],order,order))\n",
    "\n",
    "    score_array_id_CT_PC1 = np.zeros((len(ind_samples),len(methods)+2))\n",
    "    score_array_id_CT_PC1[:,0:len(methods)] = score_array_id[ind_samples,:]\n",
    "    score_array_id_CT_PC1[:,len(methods)] = cytotrace\n",
    "    score_array_id_CT_PC1[:,len(methods)+1] = pc1[ind_samples]\n",
    "    score_array_id_CT_PC1 = stats.zscore(score_array_id_CT_PC1)\n",
    "    u,s = consensus_score_PCA(score_array_id_CT_PC1)\n",
    "    consensus_score_id_CT_PC1.append(u)\n",
    "    corrorder_consensus_score_id_CT_PC1.append(spearman_inversely_weighted_by_classes(u,order,order))\n",
    "    \n",
    "    score_array_idsurrogate = np.zeros((len(adata),len(methods)))\n",
    "    for i,meth in enumerate(methods):\n",
    "        score_array_idsurrogate[:,i] = adata.uns[f'lid{n_neighbors}']['surrogate_'+meth]\n",
    "    score_array_idsurrogate = stats.zscore(score_array_idsurrogate)\n",
    "    u,s = consensus_score_PCA(score_array_idsurrogate)\n",
    "    consensus_score_idsurrogate.append(u)\n",
    "    corrorder_consensus_score_idsurrogate.append(spearman_inversely_weighted_by_classes(u[ind_samples],order,order))\n",
    "    \n",
    "    _,us,_,_ = get_surrogate_signature(adata,u,n_top_genes=200)\n",
    "    surrogate_consensus_score_id.append(us)\n",
    "    corrorder_surrogate_consensus_score_id.append(spearman_inversely_weighted_by_classes(us[ind_samples],order,order))\n",
    "\n",
    "    score_array_idsurrogate_CT_PC1 = np.zeros((len(ind_samples),len(methods)+2))\n",
    "    score_array_idsurrogate_CT_PC1[:,0:len(methods)] = score_array_idsurrogate[ind_samples,:]\n",
    "    score_array_idsurrogate_CT_PC1[:,len(methods)] = cytotrace\n",
    "    score_array_idsurrogate_CT_PC1[:,len(methods)+1] = pc1[ind_samples]\n",
    "    score_array_idsurrogate_CT_PC1 = stats.zscore(score_array_idsurrogate_CT_PC1)\n",
    "    u,s = consensus_score_PCA(score_array_idsurrogate_CT_PC1)\n",
    "    consensus_score_idsurrogate_CT_PC1.append(u)\n",
    "    corrorder_consensus_score_idsurrogate_CT_PC1.append(spearman_inversely_weighted_by_classes(u,order,order))\n",
    "    \n",
    "    _,us,_,_ = get_surrogate_signature(adata[ind_samples,:],u,n_top_genes=200)\n",
    "    surrogate_consensus_score_id.append(us)\n",
    "    corrorder_surrogate_consensus_score_id_CT_PC1.append(spearman_inversely_weighted_by_classes(us,order,order))\n",
    "    \n"
   ]
  },
  {
   "cell_type": "code",
   "execution_count": 65,
   "metadata": {},
   "outputs": [
    {
     "name": "stdout",
     "output_type": "stream",
     "text": [
      "Loading GSE59114_0\n",
      "PREPROCESSING PARAMETERS:\n",
      "Already_Log_Transformed= True\n",
      "Normalize_Totals= False\n",
      "number_of_pcs= 30\n",
      "n_neighbours_for_pooling= 10\n",
      "top_variable_genes= 10000\n"
     ]
    },
    {
     "data": {
      "text/plain": [
       "AnnData object with n_obs × n_vars = 1618 × 7539\n",
       "    uns: 'Already_Log_Transformed', 'Counts', 'CytoTRACE', 'GCS', 'Global_FisherS_GPW', 'Normalize_Totals', 'Order', 'PC1', 'Phenotype', 'X_fa', 'X_tsne', 'X_umap', 'allcellnames', 'allgenenames', 'cellnames', 'conditional_number', 'cytoGenes', 'gcsGenes', 'gcsGenesNames', 'ind_samples', 'info', 'lid100', 'n_neighbours_for_pooling', 'number_of_pcs', 'pca', 'surrogate_CytoTRACE', 'surrogate_PC1', 'top_variable_genes'\n",
       "    obsm: 'PC1', 'X_pca'\n",
       "    varm: 'PCs'"
      ]
     },
     "metadata": {},
     "output_type": "display_data"
    },
    {
     "name": "stdout",
     "output_type": "stream",
     "text": [
      "==========================================================\n",
      "\n",
      "\n",
      "Loading GSE74767_1\n",
      "PREPROCESSING PARAMETERS:\n",
      "Already_Log_Transformed= True\n",
      "Normalize_Totals= False\n",
      "number_of_pcs= 30\n",
      "n_neighbours_for_pooling= 5\n",
      "top_variable_genes= 10000\n"
     ]
    },
    {
     "data": {
      "text/plain": [
       "AnnData object with n_obs × n_vars = 421 × 10000\n",
       "    uns: 'Already_Log_Transformed', 'Counts', 'CytoTRACE', 'GCS', 'Global_FisherS_GPW', 'Normalize_Totals', 'Order', 'PC1', 'Phenotype', 'X_fa', 'X_tsne', 'X_umap', 'allcellnames', 'allgenenames', 'cellnames', 'conditional_number', 'cytoGenes', 'gcsGenes', 'gcsGenesNames', 'ind_samples', 'info', 'lid84', 'n_neighbours_for_pooling', 'number_of_pcs', 'pca', 'surrogate_CytoTRACE', 'surrogate_PC1', 'top_variable_genes'\n",
       "    obsm: 'PC1', 'X_pca'\n",
       "    varm: 'PCs'"
      ]
     },
     "metadata": {},
     "output_type": "display_data"
    },
    {
     "name": "stdout",
     "output_type": "stream",
     "text": [
      "==========================================================\n",
      "\n",
      "\n",
      "Loading GSE74767_2\n",
      "PREPROCESSING PARAMETERS:\n",
      "Already_Log_Transformed= True\n",
      "Normalize_Totals= False\n",
      "number_of_pcs= 30\n",
      "n_neighbours_for_pooling= 5\n",
      "top_variable_genes= 10000\n"
     ]
    },
    {
     "data": {
      "text/plain": [
       "AnnData object with n_obs × n_vars = 421 × 10000\n",
       "    uns: 'Already_Log_Transformed', 'Counts', 'CytoTRACE', 'GCS', 'Global_FisherS_GPW', 'Normalize_Totals', 'Order', 'PC1', 'Phenotype', 'X_fa', 'X_tsne', 'X_umap', 'allcellnames', 'allgenenames', 'cellnames', 'conditional_number', 'cytoGenes', 'gcsGenes', 'gcsGenesNames', 'ind_samples', 'info', 'lid84', 'n_neighbours_for_pooling', 'number_of_pcs', 'pca', 'surrogate_CytoTRACE', 'surrogate_PC1', 'top_variable_genes'\n",
       "    obsm: 'PC1', 'X_pca'\n",
       "    varm: 'PCs'"
      ]
     },
     "metadata": {},
     "output_type": "display_data"
    },
    {
     "name": "stdout",
     "output_type": "stream",
     "text": [
      "==========================================================\n",
      "\n",
      "\n",
      "Loading GSE90860_3\n",
      "PREPROCESSING PARAMETERS:\n",
      "Already_Log_Transformed= True\n",
      "Normalize_Totals= False\n",
      "number_of_pcs= 30\n",
      "n_neighbours_for_pooling= 5\n",
      "top_variable_genes= 10000\n"
     ]
    },
    {
     "data": {
      "text/plain": [
       "AnnData object with n_obs × n_vars = 223 × 10000\n",
       "    uns: 'Already_Log_Transformed', 'Counts', 'CytoTRACE', 'GCS', 'Global_FisherS_GPW', 'Normalize_Totals', 'Order', 'PC1', 'Phenotype', 'X_fa', 'X_tsne', 'X_umap', 'allcellnames', 'allgenenames', 'cellnames', 'conditional_number', 'cytoGenes', 'gcsGenes', 'gcsGenesNames', 'ind_samples', 'info', 'lid44', 'n_neighbours_for_pooling', 'number_of_pcs', 'pca', 'surrogate_CytoTRACE', 'surrogate_PC1', 'top_variable_genes'\n",
       "    obsm: 'PC1', 'X_pca'\n",
       "    varm: 'PCs'"
      ]
     },
     "metadata": {},
     "output_type": "display_data"
    },
    {
     "name": "stdout",
     "output_type": "stream",
     "text": [
      "==========================================================\n",
      "\n",
      "\n",
      "Loading GSE95753_4\n",
      "PREPROCESSING PARAMETERS:\n",
      "Already_Log_Transformed= True\n",
      "Normalize_Totals= False\n",
      "number_of_pcs= 30\n",
      "n_neighbours_for_pooling= 10\n",
      "top_variable_genes= 10000\n"
     ]
    },
    {
     "data": {
      "text/plain": [
       "AnnData object with n_obs × n_vars = 6000 × 10000\n",
       "    uns: 'Already_Log_Transformed', 'Counts', 'CytoTRACE', 'GCS', 'Global_FisherS_GPW', 'Normalize_Totals', 'Order', 'PC1', 'Phenotype', 'X_fa', 'X_tsne', 'X_umap', 'allcellnames', 'allgenenames', 'cellnames', 'conditional_number', 'cytoGenes', 'gcsGenes', 'gcsGenesNames', 'ind_samples', 'info', 'lid100', 'n_neighbours_for_pooling', 'number_of_pcs', 'pca', 'surrogate_CytoTRACE', 'surrogate_PC1', 'top_variable_genes'\n",
       "    obsm: 'PC1', 'X_pca'\n",
       "    varm: 'PCs'"
      ]
     },
     "metadata": {},
     "output_type": "display_data"
    },
    {
     "name": "stdout",
     "output_type": "stream",
     "text": [
      "==========================================================\n",
      "\n",
      "\n",
      "Loading GSE95753_5\n",
      "PREPROCESSING PARAMETERS:\n",
      "Already_Log_Transformed= True\n",
      "Normalize_Totals= False\n",
      "number_of_pcs= 30\n",
      "n_neighbours_for_pooling= 10\n",
      "top_variable_genes= 10000\n"
     ]
    },
    {
     "data": {
      "text/plain": [
       "AnnData object with n_obs × n_vars = 6000 × 10000\n",
       "    uns: 'Already_Log_Transformed', 'Counts', 'CytoTRACE', 'GCS', 'Global_FisherS_GPW', 'Normalize_Totals', 'Order', 'PC1', 'Phenotype', 'X_fa', 'X_tsne', 'X_umap', 'allcellnames', 'allgenenames', 'cellnames', 'conditional_number', 'cytoGenes', 'gcsGenes', 'gcsGenesNames', 'ind_samples', 'info', 'lid100', 'n_neighbours_for_pooling', 'number_of_pcs', 'pca', 'surrogate_CytoTRACE', 'surrogate_PC1', 'top_variable_genes'\n",
       "    obsm: 'PC1', 'X_pca'\n",
       "    varm: 'PCs'"
      ]
     },
     "metadata": {},
     "output_type": "display_data"
    },
    {
     "name": "stdout",
     "output_type": "stream",
     "text": [
      "==========================================================\n",
      "\n",
      "\n",
      "Loading GSE67123_6\n",
      "PREPROCESSING PARAMETERS:\n",
      "Already_Log_Transformed= True\n",
      "Normalize_Totals= False\n",
      "number_of_pcs= 30\n",
      "n_neighbours_for_pooling= 5\n",
      "top_variable_genes= 10000\n"
     ]
    },
    {
     "data": {
      "text/plain": [
       "AnnData object with n_obs × n_vars = 143 × 10000\n",
       "    uns: 'Already_Log_Transformed', 'Counts', 'CytoTRACE', 'GCS', 'Global_FisherS_GPW', 'Normalize_Totals', 'Order', 'PC1', 'Phenotype', 'X_fa', 'X_tsne', 'X_umap', 'allcellnames', 'allgenenames', 'cellnames', 'conditional_number', 'cytoGenes', 'gcsGenes', 'gcsGenesNames', 'ind_samples', 'info', 'lid28', 'n_neighbours_for_pooling', 'number_of_pcs', 'pca', 'surrogate_CytoTRACE', 'surrogate_PC1', 'top_variable_genes'\n",
       "    obsm: 'PC1', 'X_pca'\n",
       "    varm: 'PCs'"
      ]
     },
     "metadata": {},
     "output_type": "display_data"
    },
    {
     "name": "stdout",
     "output_type": "stream",
     "text": [
      "==========================================================\n",
      "\n",
      "\n",
      "Loading GSE98451_7\n",
      "PREPROCESSING PARAMETERS:\n",
      "Already_Log_Transformed= True\n",
      "Normalize_Totals= False\n",
      "number_of_pcs= 30\n",
      "n_neighbours_for_pooling= 10\n",
      "top_variable_genes= 10000\n"
     ]
    },
    {
     "data": {
      "text/plain": [
       "AnnData object with n_obs × n_vars = 714 × 10000\n",
       "    uns: 'Already_Log_Transformed', 'Counts', 'CytoTRACE', 'GCS', 'Global_FisherS_GPW', 'Normalize_Totals', 'Order', 'PC1', 'Phenotype', 'X_fa', 'X_tsne', 'X_umap', 'allcellnames', 'allgenenames', 'cellnames', 'conditional_number', 'cytoGenes', 'gcsGenes', 'gcsGenesNames', 'ind_samples', 'info', 'lid100', 'n_neighbours_for_pooling', 'number_of_pcs', 'pca', 'surrogate_CytoTRACE', 'surrogate_PC1', 'top_variable_genes'\n",
       "    obsm: 'PC1', 'X_pca'\n",
       "    varm: 'PCs'"
      ]
     },
     "metadata": {},
     "output_type": "display_data"
    },
    {
     "name": "stdout",
     "output_type": "stream",
     "text": [
      "==========================================================\n",
      "\n",
      "\n",
      "Loading GSE99933_8\n",
      "PREPROCESSING PARAMETERS:\n",
      "Already_Log_Transformed= True\n",
      "Normalize_Totals= False\n",
      "number_of_pcs= 30\n",
      "n_neighbours_for_pooling= 5\n",
      "top_variable_genes= 10000\n"
     ]
    },
    {
     "data": {
      "text/plain": [
       "AnnData object with n_obs × n_vars = 369 × 10000\n",
       "    uns: 'Already_Log_Transformed', 'Counts', 'CytoTRACE', 'GCS', 'Global_FisherS_GPW', 'Normalize_Totals', 'Order', 'PC1', 'Phenotype', 'X_fa', 'X_tsne', 'X_umap', 'allcellnames', 'allgenenames', 'cellnames', 'conditional_number', 'cytoGenes', 'gcsGenes', 'gcsGenesNames', 'ind_samples', 'info', 'lid73', 'n_neighbours_for_pooling', 'number_of_pcs', 'pca', 'surrogate_CytoTRACE', 'surrogate_PC1', 'top_variable_genes'\n",
       "    obsm: 'PC1', 'X_pca'\n",
       "    varm: 'PCs'"
      ]
     },
     "metadata": {},
     "output_type": "display_data"
    },
    {
     "name": "stdout",
     "output_type": "stream",
     "text": [
      "==========================================================\n",
      "\n",
      "\n",
      "Loading GSE94641_9\n",
      "PREPROCESSING PARAMETERS:\n",
      "Already_Log_Transformed= True\n",
      "Normalize_Totals= False\n",
      "number_of_pcs= 30\n",
      "n_neighbours_for_pooling= 5\n",
      "top_variable_genes= 10000\n"
     ]
    },
    {
     "data": {
      "text/plain": [
       "AnnData object with n_obs × n_vars = 225 × 10000\n",
       "    uns: 'Already_Log_Transformed', 'Counts', 'CytoTRACE', 'GCS', 'Global_FisherS_GPW', 'Normalize_Totals', 'Order', 'PC1', 'Phenotype', 'X_fa', 'X_tsne', 'X_umap', 'allcellnames', 'allgenenames', 'cellnames', 'conditional_number', 'cytoGenes', 'gcsGenes', 'gcsGenesNames', 'ind_samples', 'info', 'lid45', 'n_neighbours_for_pooling', 'number_of_pcs', 'pca', 'surrogate_CytoTRACE', 'surrogate_PC1', 'top_variable_genes'\n",
       "    obsm: 'PC1', 'X_pca'\n",
       "    varm: 'PCs'"
      ]
     },
     "metadata": {},
     "output_type": "display_data"
    },
    {
     "name": "stdout",
     "output_type": "stream",
     "text": [
      "==========================================================\n",
      "\n",
      "\n",
      "Loading GSE60783_10\n",
      "PREPROCESSING PARAMETERS:\n",
      "Already_Log_Transformed= True\n",
      "Normalize_Totals= False\n",
      "number_of_pcs= 30\n",
      "n_neighbours_for_pooling= 5\n",
      "top_variable_genes= 10000\n"
     ]
    },
    {
     "data": {
      "text/plain": [
       "AnnData object with n_obs × n_vars = 248 × 10000\n",
       "    uns: 'Already_Log_Transformed', 'Counts', 'CytoTRACE', 'GCS', 'Global_FisherS_GPW', 'Normalize_Totals', 'Order', 'PC1', 'Phenotype', 'X_fa', 'X_tsne', 'X_umap', 'allcellnames', 'allgenenames', 'cellnames', 'conditional_number', 'cytoGenes', 'gcsGenes', 'gcsGenesNames', 'ind_samples', 'info', 'lid49', 'n_neighbours_for_pooling', 'number_of_pcs', 'pca', 'surrogate_CytoTRACE', 'surrogate_PC1', 'top_variable_genes'\n",
       "    obsm: 'PC1', 'X_pca'\n",
       "    varm: 'PCs'"
      ]
     },
     "metadata": {},
     "output_type": "display_data"
    },
    {
     "name": "stdout",
     "output_type": "stream",
     "text": [
      "==========================================================\n",
      "\n",
      "\n",
      "Loading GSE67602_11\n",
      "PREPROCESSING PARAMETERS:\n",
      "Already_Log_Transformed= True\n",
      "Normalize_Totals= False\n",
      "number_of_pcs= 30\n",
      "n_neighbours_for_pooling= 10\n",
      "top_variable_genes= 10000\n"
     ]
    },
    {
     "data": {
      "text/plain": [
       "AnnData object with n_obs × n_vars = 1422 × 10000\n",
       "    uns: 'Already_Log_Transformed', 'Counts', 'CytoTRACE', 'GCS', 'Global_FisherS_GPW', 'Normalize_Totals', 'Order', 'PC1', 'Phenotype', 'X_fa', 'X_tsne', 'X_umap', 'allcellnames', 'allgenenames', 'cellnames', 'conditional_number', 'cytoGenes', 'gcsGenes', 'gcsGenesNames', 'ind_samples', 'info', 'lid100', 'n_neighbours_for_pooling', 'number_of_pcs', 'pca', 'surrogate_CytoTRACE', 'surrogate_PC1', 'top_variable_genes'\n",
       "    obsm: 'PC1', 'X_pca'\n",
       "    varm: 'PCs'"
      ]
     },
     "metadata": {},
     "output_type": "display_data"
    },
    {
     "name": "stdout",
     "output_type": "stream",
     "text": [
      "==========================================================\n",
      "\n",
      "\n",
      "Loading GSE70245_12\n",
      "PREPROCESSING PARAMETERS:\n",
      "Already_Log_Transformed= True\n",
      "Normalize_Totals= False\n",
      "number_of_pcs= 30\n",
      "n_neighbours_for_pooling= 5\n",
      "top_variable_genes= 10000\n"
     ]
    },
    {
     "data": {
      "text/plain": [
       "AnnData object with n_obs × n_vars = 394 × 10000\n",
       "    uns: 'Already_Log_Transformed', 'Counts', 'CytoTRACE', 'GCS', 'Global_FisherS_GPW', 'Normalize_Totals', 'Order', 'PC1', 'Phenotype', 'X_fa', 'X_tsne', 'X_umap', 'allcellnames', 'allgenenames', 'cellnames', 'conditional_number', 'cytoGenes', 'gcsGenes', 'gcsGenesNames', 'ind_samples', 'info', 'lid78', 'n_neighbours_for_pooling', 'number_of_pcs', 'pca', 'surrogate_CytoTRACE', 'surrogate_PC1', 'top_variable_genes'\n",
       "    obsm: 'PC1', 'X_pca'\n",
       "    varm: 'PCs'"
      ]
     },
     "metadata": {},
     "output_type": "display_data"
    },
    {
     "name": "stdout",
     "output_type": "stream",
     "text": [
      "==========================================================\n",
      "\n",
      "\n",
      "Loading GSE90047_13\n",
      "PREPROCESSING PARAMETERS:\n",
      "Already_Log_Transformed= True\n",
      "Normalize_Totals= False\n",
      "number_of_pcs= 30\n",
      "n_neighbours_for_pooling= 5\n",
      "top_variable_genes= 10000\n"
     ]
    },
    {
     "data": {
      "text/plain": [
       "AnnData object with n_obs × n_vars = 447 × 10000\n",
       "    uns: 'Already_Log_Transformed', 'Counts', 'CytoTRACE', 'GCS', 'Global_FisherS_GPW', 'Normalize_Totals', 'Order', 'PC1', 'Phenotype', 'X_fa', 'X_tsne', 'X_umap', 'allcellnames', 'allgenenames', 'cellnames', 'conditional_number', 'cytoGenes', 'gcsGenes', 'gcsGenesNames', 'ind_samples', 'info', 'lid89', 'n_neighbours_for_pooling', 'number_of_pcs', 'pca', 'surrogate_CytoTRACE', 'surrogate_PC1', 'top_variable_genes'\n",
       "    obsm: 'PC1', 'X_pca'\n",
       "    varm: 'PCs'"
      ]
     },
     "metadata": {},
     "output_type": "display_data"
    },
    {
     "name": "stdout",
     "output_type": "stream",
     "text": [
      "==========================================================\n",
      "\n",
      "\n",
      "Loading GSE75748_14\n",
      "PREPROCESSING PARAMETERS:\n",
      "Already_Log_Transformed= True\n",
      "Normalize_Totals= False\n",
      "number_of_pcs= 30\n",
      "n_neighbours_for_pooling= 10\n",
      "top_variable_genes= 10000\n"
     ]
    },
    {
     "data": {
      "text/plain": [
       "AnnData object with n_obs × n_vars = 1018 × 10000\n",
       "    uns: 'Already_Log_Transformed', 'Counts', 'CytoTRACE', 'GCS', 'Global_FisherS_GPW', 'Normalize_Totals', 'Order', 'PC1', 'Phenotype', 'X_fa', 'X_tsne', 'X_umap', 'allcellnames', 'allgenenames', 'cellnames', 'conditional_number', 'cytoGenes', 'gcsGenes', 'gcsGenesNames', 'ind_samples', 'info', 'lid100', 'n_neighbours_for_pooling', 'number_of_pcs', 'pca', 'surrogate_CytoTRACE', 'surrogate_PC1', 'top_variable_genes'\n",
       "    obsm: 'PC1', 'X_pca'\n",
       "    varm: 'PCs'"
      ]
     },
     "metadata": {},
     "output_type": "display_data"
    },
    {
     "name": "stdout",
     "output_type": "stream",
     "text": [
      "==========================================================\n",
      "\n",
      "\n",
      "Loading GSE52529_15\n",
      "PREPROCESSING PARAMETERS:\n",
      "Already_Log_Transformed= True\n",
      "Normalize_Totals= False\n",
      "number_of_pcs= 30\n",
      "n_neighbours_for_pooling= 5\n",
      "top_variable_genes= 10000\n"
     ]
    },
    {
     "data": {
      "text/plain": [
       "AnnData object with n_obs × n_vars = 170 × 10000\n",
       "    uns: 'Already_Log_Transformed', 'Counts', 'CytoTRACE', 'GCS', 'Global_FisherS_GPW', 'Normalize_Totals', 'Order', 'PC1', 'Phenotype', 'X_fa', 'X_tsne', 'X_umap', 'allcellnames', 'allgenenames', 'cellnames', 'conditional_number', 'cytoGenes', 'gcsGenes', 'gcsGenesNames', 'ind_samples', 'info', 'lid34', 'n_neighbours_for_pooling', 'number_of_pcs', 'pca', 'surrogate_CytoTRACE', 'surrogate_PC1', 'top_variable_genes'\n",
       "    obsm: 'PC1', 'X_pca'\n",
       "    varm: 'PCs'"
      ]
     },
     "metadata": {},
     "output_type": "display_data"
    },
    {
     "name": "stdout",
     "output_type": "stream",
     "text": [
      "==========================================================\n",
      "\n",
      "\n",
      "Loading GSE85066_16\n",
      "PREPROCESSING PARAMETERS:\n",
      "Already_Log_Transformed= True\n",
      "Normalize_Totals= False\n",
      "number_of_pcs= 30\n",
      "n_neighbours_for_pooling= 5\n",
      "top_variable_genes= 10000\n"
     ]
    },
    {
     "data": {
      "text/plain": [
       "AnnData object with n_obs × n_vars = 498 × 10000\n",
       "    uns: 'Already_Log_Transformed', 'Counts', 'CytoTRACE', 'GCS', 'Global_FisherS_GPW', 'Normalize_Totals', 'Order', 'PC1', 'Phenotype', 'X_fa', 'X_tsne', 'X_umap', 'allcellnames', 'allgenenames', 'cellnames', 'conditional_number', 'cytoGenes', 'gcsGenes', 'gcsGenesNames', 'ind_samples', 'info', 'lid99', 'n_neighbours_for_pooling', 'number_of_pcs', 'pca', 'surrogate_CytoTRACE', 'surrogate_PC1', 'top_variable_genes'\n",
       "    obsm: 'PC1', 'X_pca'\n",
       "    varm: 'PCs'"
      ]
     },
     "metadata": {},
     "output_type": "display_data"
    },
    {
     "name": "stdout",
     "output_type": "stream",
     "text": [
      "==========================================================\n",
      "\n",
      "\n",
      "Loading GSE93421_17\n",
      "PREPROCESSING PARAMETERS:\n",
      "Already_Log_Transformed= True\n",
      "Normalize_Totals= False\n",
      "number_of_pcs= 30\n",
      "n_neighbours_for_pooling= 10\n",
      "top_variable_genes= 10000\n"
     ]
    },
    {
     "data": {
      "text/plain": [
       "AnnData object with n_obs × n_vars = 5000 × 10000\n",
       "    uns: 'Already_Log_Transformed', 'Counts', 'CytoTRACE', 'GCS', 'Global_FisherS_GPW', 'Normalize_Totals', 'Order', 'PC1', 'Phenotype', 'X_fa', 'X_tsne', 'X_umap', 'allcellnames', 'allgenenames', 'cellnames', 'conditional_number', 'cytoGenes', 'gcsGenes', 'gcsGenesNames', 'ind_samples', 'info', 'lid100', 'n_neighbours_for_pooling', 'number_of_pcs', 'pca', 'surrogate_CytoTRACE', 'surrogate_PC1', 'top_variable_genes'\n",
       "    obsm: 'PC1', 'X_pca'\n",
       "    varm: 'PCs'"
      ]
     },
     "metadata": {},
     "output_type": "display_data"
    },
    {
     "name": "stdout",
     "output_type": "stream",
     "text": [
      "==========================================================\n",
      "\n",
      "\n",
      "Loading GSE36552_18\n",
      "PREPROCESSING PARAMETERS:\n",
      "Already_Log_Transformed= True\n",
      "Normalize_Totals= False\n",
      "number_of_pcs= 10\n",
      "n_neighbours_for_pooling= -1\n",
      "top_variable_genes= 10000\n"
     ]
    },
    {
     "data": {
      "text/plain": [
       "AnnData object with n_obs × n_vars = 85 × 10000\n",
       "    uns: 'Already_Log_Transformed', 'Counts', 'CytoTRACE', 'GCS', 'Global_FisherS_GPW', 'Normalize_Totals', 'Order', 'PC1', 'Phenotype', 'X_fa', 'X_tsne', 'X_umap', 'allcellnames', 'allgenenames', 'cellnames', 'conditional_number', 'cytoGenes', 'gcsGenes', 'gcsGenesNames', 'ind_samples', 'info', 'lid17', 'n_neighbours_for_pooling', 'number_of_pcs', 'pca', 'surrogate_CytoTRACE', 'surrogate_PC1', 'top_variable_genes'\n",
       "    obsm: 'PC1', 'X_pca'\n",
       "    varm: 'PCs'"
      ]
     },
     "metadata": {},
     "output_type": "display_data"
    },
    {
     "name": "stdout",
     "output_type": "stream",
     "text": [
      "==========================================================\n",
      "\n",
      "\n",
      "Loading GSE86146_19\n",
      "PREPROCESSING PARAMETERS:\n",
      "Already_Log_Transformed= True\n",
      "Normalize_Totals= False\n",
      "number_of_pcs= 30\n",
      "n_neighbours_for_pooling= 10\n",
      "top_variable_genes= 10000\n"
     ]
    },
    {
     "data": {
      "text/plain": [
       "AnnData object with n_obs × n_vars = 1844 × 10000\n",
       "    uns: 'Already_Log_Transformed', 'Counts', 'CytoTRACE', 'GCS', 'Global_FisherS_GPW', 'Normalize_Totals', 'Order', 'PC1', 'Phenotype', 'X_fa', 'X_tsne', 'X_umap', 'allcellnames', 'allgenenames', 'cellnames', 'conditional_number', 'cytoGenes', 'gcsGenes', 'gcsGenesNames', 'ind_samples', 'info', 'lid100', 'n_neighbours_for_pooling', 'number_of_pcs', 'pca', 'surrogate_CytoTRACE', 'surrogate_PC1', 'top_variable_genes'\n",
       "    obsm: 'PC1', 'X_pca'\n",
       "    varm: 'PCs'"
      ]
     },
     "metadata": {},
     "output_type": "display_data"
    },
    {
     "name": "stdout",
     "output_type": "stream",
     "text": [
      "==========================================================\n",
      "\n",
      "\n",
      "Loading GSE98664_20\n",
      "PREPROCESSING PARAMETERS:\n",
      "Already_Log_Transformed= True\n",
      "Normalize_Totals= False\n",
      "number_of_pcs= 30\n",
      "n_neighbours_for_pooling= 5\n",
      "top_variable_genes= 10000\n"
     ]
    },
    {
     "data": {
      "text/plain": [
       "AnnData object with n_obs × n_vars = 456 × 10000\n",
       "    uns: 'Already_Log_Transformed', 'Counts', 'CytoTRACE', 'GCS', 'Global_FisherS_GPW', 'Normalize_Totals', 'Order', 'PC1', 'Phenotype', 'X_fa', 'X_tsne', 'X_umap', 'allcellnames', 'allgenenames', 'cellnames', 'conditional_number', 'cytoGenes', 'gcsGenes', 'gcsGenesNames', 'ind_samples', 'info', 'lid91', 'n_neighbours_for_pooling', 'number_of_pcs', 'pca', 'surrogate_CytoTRACE', 'surrogate_PC1', 'top_variable_genes'\n",
       "    obsm: 'PC1', 'X_pca'\n",
       "    varm: 'PCs'"
      ]
     },
     "metadata": {},
     "output_type": "display_data"
    },
    {
     "name": "stdout",
     "output_type": "stream",
     "text": [
      "==========================================================\n",
      "\n",
      "\n",
      "Loading GSE52583_21\n",
      "PREPROCESSING PARAMETERS:\n",
      "Already_Log_Transformed= True\n",
      "Normalize_Totals= False\n",
      "number_of_pcs= 30\n",
      "n_neighbours_for_pooling= 5\n",
      "top_variable_genes= 10000\n"
     ]
    },
    {
     "data": {
      "text/plain": [
       "AnnData object with n_obs × n_vars = 101 × 10000\n",
       "    uns: 'Already_Log_Transformed', 'Counts', 'CytoTRACE', 'GCS', 'Global_FisherS_GPW', 'Normalize_Totals', 'Order', 'PC1', 'Phenotype', 'X_fa', 'X_tsne', 'X_umap', 'allcellnames', 'allgenenames', 'cellnames', 'conditional_number', 'cytoGenes', 'gcsGenes', 'gcsGenesNames', 'ind_samples', 'info', 'lid20', 'n_neighbours_for_pooling', 'number_of_pcs', 'pca', 'surrogate_CytoTRACE', 'surrogate_PC1', 'top_variable_genes'\n",
       "    obsm: 'PC1', 'X_pca'\n",
       "    varm: 'PCs'"
      ]
     },
     "metadata": {},
     "output_type": "display_data"
    },
    {
     "name": "stdout",
     "output_type": "stream",
     "text": [
      "==========================================================\n",
      "\n",
      "\n",
      "Loading GSE97391_22\n",
      "PREPROCESSING PARAMETERS:\n",
      "Already_Log_Transformed= True\n",
      "Normalize_Totals= False\n",
      "number_of_pcs= 30\n",
      "n_neighbours_for_pooling= 10\n",
      "top_variable_genes= 10000\n"
     ]
    },
    {
     "data": {
      "text/plain": [
       "AnnData object with n_obs × n_vars = 2684 × 10000\n",
       "    uns: 'Already_Log_Transformed', 'Counts', 'CytoTRACE', 'GCS', 'Global_FisherS_GPW', 'Normalize_Totals', 'Order', 'PC1', 'Phenotype', 'X_fa', 'X_tsne', 'X_umap', 'allcellnames', 'allgenenames', 'cellnames', 'conditional_number', 'cytoGenes', 'gcsGenes', 'gcsGenesNames', 'ind_samples', 'info', 'lid100', 'n_neighbours_for_pooling', 'number_of_pcs', 'pca', 'surrogate_CytoTRACE', 'surrogate_PC1', 'top_variable_genes'\n",
       "    obsm: 'PC1', 'X_pca'\n",
       "    varm: 'PCs'"
      ]
     },
     "metadata": {},
     "output_type": "display_data"
    },
    {
     "name": "stdout",
     "output_type": "stream",
     "text": [
      "==========================================================\n",
      "\n",
      "\n",
      "Loading GSE76408_23\n",
      "PREPROCESSING PARAMETERS:\n",
      "Already_Log_Transformed= True\n",
      "Normalize_Totals= False\n",
      "number_of_pcs= 30\n",
      "n_neighbours_for_pooling= 5\n",
      "top_variable_genes= 10000\n"
     ]
    },
    {
     "data": {
      "text/plain": [
       "AnnData object with n_obs × n_vars = 480 × 10000\n",
       "    uns: 'Already_Log_Transformed', 'Counts', 'CytoTRACE', 'GCS', 'Global_FisherS_GPW', 'Normalize_Totals', 'Order', 'PC1', 'Phenotype', 'X_fa', 'X_tsne', 'X_umap', 'allcellnames', 'allgenenames', 'cellnames', 'conditional_number', 'cytoGenes', 'gcsGenes', 'gcsGenesNames', 'ind_samples', 'info', 'lid96', 'n_neighbours_for_pooling', 'number_of_pcs', 'pca', 'surrogate_CytoTRACE', 'surrogate_PC1', 'top_variable_genes'\n",
       "    obsm: 'PC1', 'X_pca'\n",
       "    varm: 'PCs'"
      ]
     },
     "metadata": {},
     "output_type": "display_data"
    },
    {
     "name": "stdout",
     "output_type": "stream",
     "text": [
      "==========================================================\n",
      "\n",
      "\n",
      "Loading GSE109774_24\n",
      "PREPROCESSING PARAMETERS:\n",
      "Already_Log_Transformed= True\n",
      "Normalize_Totals= False\n",
      "number_of_pcs= 30\n",
      "n_neighbours_for_pooling= 10\n",
      "top_variable_genes= 10000\n"
     ]
    },
    {
     "data": {
      "text/plain": [
       "AnnData object with n_obs × n_vars = 3652 × 10000\n",
       "    uns: 'Already_Log_Transformed', 'Counts', 'CytoTRACE', 'GCS', 'Global_FisherS_GPW', 'Normalize_Totals', 'Order', 'PC1', 'Phenotype', 'X_fa', 'X_tsne', 'X_umap', 'allcellnames', 'allgenenames', 'cellnames', 'conditional_number', 'cytoGenes', 'gcsGenes', 'gcsGenesNames', 'ind_samples', 'info', 'lid100', 'n_neighbours_for_pooling', 'number_of_pcs', 'pca', 'surrogate_CytoTRACE', 'surrogate_PC1', 'top_variable_genes'\n",
       "    obsm: 'PC1', 'X_pca'\n",
       "    varm: 'PCs'"
      ]
     },
     "metadata": {},
     "output_type": "display_data"
    },
    {
     "name": "stdout",
     "output_type": "stream",
     "text": [
      "==========================================================\n",
      "\n",
      "\n",
      "Loading GSE109774_25\n",
      "PREPROCESSING PARAMETERS:\n",
      "Already_Log_Transformed= True\n",
      "Normalize_Totals= False\n",
      "number_of_pcs= 30\n",
      "n_neighbours_for_pooling= 10\n",
      "top_variable_genes= 10000\n"
     ]
    },
    {
     "data": {
      "text/plain": [
       "AnnData object with n_obs × n_vars = 4897 × 10000\n",
       "    uns: 'Already_Log_Transformed', 'Counts', 'CytoTRACE', 'GCS', 'Global_FisherS_GPW', 'Normalize_Totals', 'Order', 'PC1', 'Phenotype', 'X_fa', 'X_tsne', 'X_umap', 'allcellnames', 'allgenenames', 'cellnames', 'conditional_number', 'cytoGenes', 'gcsGenes', 'gcsGenesNames', 'ind_samples', 'info', 'lid100', 'n_neighbours_for_pooling', 'number_of_pcs', 'pca', 'surrogate_CytoTRACE', 'surrogate_PC1', 'top_variable_genes'\n",
       "    obsm: 'PC1', 'X_pca'\n",
       "    varm: 'PCs'"
      ]
     },
     "metadata": {},
     "output_type": "display_data"
    },
    {
     "name": "stdout",
     "output_type": "stream",
     "text": [
      "==========================================================\n",
      "\n",
      "\n",
      "Loading GSE92332_26\n",
      "PREPROCESSING PARAMETERS:\n",
      "Already_Log_Transformed= True\n",
      "Normalize_Totals= False\n",
      "number_of_pcs= 30\n",
      "n_neighbours_for_pooling= 10\n",
      "top_variable_genes= 10000\n"
     ]
    },
    {
     "data": {
      "text/plain": [
       "AnnData object with n_obs × n_vars = 1522 × 10000\n",
       "    uns: 'Already_Log_Transformed', 'Counts', 'CytoTRACE', 'GCS', 'Global_FisherS_GPW', 'Normalize_Totals', 'Order', 'PC1', 'Phenotype', 'X_fa', 'X_tsne', 'X_umap', 'allcellnames', 'allgenenames', 'cellnames', 'conditional_number', 'cytoGenes', 'gcsGenes', 'gcsGenesNames', 'ind_samples', 'info', 'lid100', 'n_neighbours_for_pooling', 'number_of_pcs', 'pca', 'surrogate_CytoTRACE', 'surrogate_PC1', 'top_variable_genes'\n",
       "    obsm: 'PC1', 'X_pca'\n",
       "    varm: 'PCs'"
      ]
     },
     "metadata": {},
     "output_type": "display_data"
    },
    {
     "name": "stdout",
     "output_type": "stream",
     "text": [
      "==========================================================\n",
      "\n",
      "\n",
      "Loading GSE97391_27\n",
      "PREPROCESSING PARAMETERS:\n",
      "Already_Log_Transformed= True\n",
      "Normalize_Totals= False\n",
      "number_of_pcs= 30\n",
      "n_neighbours_for_pooling= 10\n",
      "top_variable_genes= 10000\n"
     ]
    },
    {
     "data": {
      "text/plain": [
       "AnnData object with n_obs × n_vars = 2996 × 10000\n",
       "    uns: 'Already_Log_Transformed', 'Counts', 'CytoTRACE', 'GCS', 'Global_FisherS_GPW', 'Normalize_Totals', 'Order', 'PC1', 'Phenotype', 'X_fa', 'X_tsne', 'X_umap', 'allcellnames', 'allgenenames', 'cellnames', 'conditional_number', 'cytoGenes', 'gcsGenes', 'gcsGenesNames', 'ind_samples', 'info', 'lid100', 'n_neighbours_for_pooling', 'number_of_pcs', 'pca', 'surrogate_CytoTRACE', 'surrogate_PC1', 'top_variable_genes'\n",
       "    obsm: 'PC1', 'X_pca'\n",
       "    varm: 'PCs'"
      ]
     },
     "metadata": {},
     "output_type": "display_data"
    },
    {
     "name": "stdout",
     "output_type": "stream",
     "text": [
      "==========================================================\n",
      "\n",
      "\n",
      "Loading GSE45719_28\n",
      "PREPROCESSING PARAMETERS:\n",
      "Already_Log_Transformed= True\n",
      "Normalize_Totals= False\n",
      "number_of_pcs= 30\n",
      "n_neighbours_for_pooling= 5\n",
      "top_variable_genes= 10000\n"
     ]
    },
    {
     "data": {
      "text/plain": [
       "AnnData object with n_obs × n_vars = 286 × 10000\n",
       "    uns: 'Already_Log_Transformed', 'Counts', 'CytoTRACE', 'GCS', 'Global_FisherS_GPW', 'Normalize_Totals', 'Order', 'PC1', 'Phenotype', 'X_fa', 'X_tsne', 'X_umap', 'allcellnames', 'allgenenames', 'cellnames', 'conditional_number', 'cytoGenes', 'gcsGenes', 'gcsGenesNames', 'ind_samples', 'info', 'lid57', 'n_neighbours_for_pooling', 'number_of_pcs', 'pca', 'surrogate_CytoTRACE', 'surrogate_PC1', 'top_variable_genes'\n",
       "    obsm: 'PC1', 'X_pca'\n",
       "    varm: 'PCs'"
      ]
     },
     "metadata": {},
     "output_type": "display_data"
    },
    {
     "name": "stdout",
     "output_type": "stream",
     "text": [
      "==========================================================\n",
      "\n",
      "\n",
      "Loading GSE52583_29\n",
      "PREPROCESSING PARAMETERS:\n",
      "Already_Log_Transformed= True\n",
      "Normalize_Totals= False\n",
      "number_of_pcs= 10\n",
      "n_neighbours_for_pooling= -1\n",
      "top_variable_genes= 10000\n"
     ]
    },
    {
     "data": {
      "text/plain": [
       "AnnData object with n_obs × n_vars = 66 × 10000\n",
       "    uns: 'Already_Log_Transformed', 'Counts', 'CytoTRACE', 'GCS', 'Global_FisherS_GPW', 'Normalize_Totals', 'Order', 'PC1', 'Phenotype', 'X_fa', 'X_tsne', 'X_umap', 'allcellnames', 'allgenenames', 'cellnames', 'conditional_number', 'cytoGenes', 'gcsGenes', 'gcsGenesNames', 'ind_samples', 'info', 'lid13', 'n_neighbours_for_pooling', 'number_of_pcs', 'pca', 'surrogate_CytoTRACE', 'surrogate_PC1', 'top_variable_genes'\n",
       "    obsm: 'PC1', 'X_pca'\n",
       "    varm: 'PCs'"
      ]
     },
     "metadata": {},
     "output_type": "display_data"
    },
    {
     "name": "stdout",
     "output_type": "stream",
     "text": [
      "==========================================================\n",
      "\n",
      "\n",
      "Loading GSE69761_30\n",
      "PREPROCESSING PARAMETERS:\n",
      "Already_Log_Transformed= True\n",
      "Normalize_Totals= False\n",
      "number_of_pcs= 10\n",
      "n_neighbours_for_pooling= -1\n",
      "top_variable_genes= 10000\n"
     ]
    },
    {
     "data": {
      "text/plain": [
       "AnnData object with n_obs × n_vars = 79 × 10000\n",
       "    uns: 'Already_Log_Transformed', 'Counts', 'CytoTRACE', 'GCS', 'Global_FisherS_GPW', 'Normalize_Totals', 'Order', 'PC1', 'Phenotype', 'X_fa', 'X_tsne', 'X_umap', 'allcellnames', 'allgenenames', 'cellnames', 'conditional_number', 'cytoGenes', 'gcsGenes', 'gcsGenesNames', 'ind_samples', 'info', 'lid15', 'n_neighbours_for_pooling', 'number_of_pcs', 'pca', 'surrogate_CytoTRACE', 'surrogate_PC1', 'top_variable_genes'\n",
       "    obsm: 'PC1', 'X_pca'\n",
       "    varm: 'PCs'"
      ]
     },
     "metadata": {},
     "output_type": "display_data"
    },
    {
     "name": "stdout",
     "output_type": "stream",
     "text": [
      "==========================================================\n",
      "\n",
      "\n",
      "Loading GSE92332_31\n",
      "PREPROCESSING PARAMETERS:\n",
      "Already_Log_Transformed= True\n",
      "Normalize_Totals= False\n",
      "number_of_pcs= 30\n",
      "n_neighbours_for_pooling= 10\n",
      "top_variable_genes= 10000\n"
     ]
    },
    {
     "data": {
      "text/plain": [
       "AnnData object with n_obs × n_vars = 4581 × 10000\n",
       "    uns: 'Already_Log_Transformed', 'Counts', 'CytoTRACE', 'GCS', 'Global_FisherS_GPW', 'Normalize_Totals', 'Order', 'PC1', 'Phenotype', 'X_fa', 'X_tsne', 'X_umap', 'allcellnames', 'allgenenames', 'cellnames', 'conditional_number', 'cytoGenes', 'gcsGenes', 'ind_samples', 'lid100', 'n_neighbours_for_pooling', 'number_of_pcs', 'pca', 'surrogate_CytoTRACE', 'surrogate_PC1', 'top_variable_genes'\n",
       "    obsm: 'PC1', 'X_pca'\n",
       "    varm: 'PCs'"
      ]
     },
     "metadata": {},
     "output_type": "display_data"
    },
    {
     "name": "stdout",
     "output_type": "stream",
     "text": [
      "==========================================================\n",
      "\n",
      "\n",
      "Loading GSE107122_32\n",
      "PREPROCESSING PARAMETERS:\n",
      "Already_Log_Transformed= True\n",
      "Normalize_Totals= False\n",
      "number_of_pcs= 30\n",
      "n_neighbours_for_pooling= 10\n",
      "top_variable_genes= 10000\n"
     ]
    },
    {
     "data": {
      "text/plain": [
       "AnnData object with n_obs × n_vars = 5998 × 10000\n",
       "    uns: 'Already_Log_Transformed', 'Counts', 'CytoTRACE', 'GCS', 'Global_FisherS_GPW', 'Normalize_Totals', 'Order', 'PC1', 'Phenotype', 'X_fa', 'X_tsne', 'X_umap', 'allcellnames', 'allgenenames', 'cellnames', 'conditional_number', 'cytoGenes', 'gcsGenes', 'gcsGenesNames', 'ind_samples', 'info', 'lid100', 'n_neighbours_for_pooling', 'number_of_pcs', 'pca', 'surrogate_CytoTRACE', 'surrogate_PC1', 'top_variable_genes'\n",
       "    obsm: 'PC1', 'X_pca'\n",
       "    varm: 'PCs'"
      ]
     },
     "metadata": {},
     "output_type": "display_data"
    },
    {
     "name": "stdout",
     "output_type": "stream",
     "text": [
      "==========================================================\n",
      "\n",
      "\n",
      "Loading GSE64447_33\n",
      "PREPROCESSING PARAMETERS:\n",
      "Already_Log_Transformed= True\n",
      "Normalize_Totals= False\n",
      "number_of_pcs= 30\n",
      "n_neighbours_for_pooling= 5\n",
      "top_variable_genes= 10000\n"
     ]
    },
    {
     "data": {
      "text/plain": [
       "AnnData object with n_obs × n_vars = 447 × 10000\n",
       "    uns: 'Already_Log_Transformed', 'Counts', 'CytoTRACE', 'GCS', 'Global_FisherS_GPW', 'Normalize_Totals', 'Order', 'PC1', 'Phenotype', 'X_fa', 'X_tsne', 'X_umap', 'allcellnames', 'allgenenames', 'cellnames', 'conditional_number', 'cytoGenes', 'gcsGenes', 'gcsGenesNames', 'ind_samples', 'info', 'lid89', 'n_neighbours_for_pooling', 'number_of_pcs', 'pca', 'surrogate_CytoTRACE', 'surrogate_PC1', 'top_variable_genes'\n",
       "    obsm: 'PC1', 'X_pca'\n",
       "    varm: 'PCs'"
      ]
     },
     "metadata": {},
     "output_type": "display_data"
    },
    {
     "name": "stdout",
     "output_type": "stream",
     "text": [
      "==========================================================\n",
      "\n",
      "\n",
      "Loading GSE102066_34\n",
      "PREPROCESSING PARAMETERS:\n",
      "Already_Log_Transformed= True\n",
      "Normalize_Totals= False\n",
      "number_of_pcs= 30\n",
      "n_neighbours_for_pooling= 10\n",
      "top_variable_genes= 10000\n"
     ]
    },
    {
     "data": {
      "text/plain": [
       "AnnData object with n_obs × n_vars = 781 × 10000\n",
       "    uns: 'Already_Log_Transformed', 'Counts', 'CytoTRACE', 'GCS', 'Global_FisherS_GPW', 'Normalize_Totals', 'Order', 'PC1', 'Phenotype', 'X_fa', 'X_tsne', 'X_umap', 'allcellnames', 'allgenenames', 'cellnames', 'conditional_number', 'cytoGenes', 'gcsGenes', 'gcsGenesNames', 'ind_samples', 'info', 'lid100', 'n_neighbours_for_pooling', 'number_of_pcs', 'pca', 'surrogate_CytoTRACE', 'surrogate_PC1', 'top_variable_genes'\n",
       "    obsm: 'PC1', 'X_pca'\n",
       "    varm: 'PCs'"
      ]
     },
     "metadata": {},
     "output_type": "display_data"
    },
    {
     "name": "stdout",
     "output_type": "stream",
     "text": [
      "==========================================================\n",
      "\n",
      "\n",
      "Loading GSE75330_35\n",
      "PREPROCESSING PARAMETERS:\n",
      "Already_Log_Transformed= True\n",
      "Normalize_Totals= False\n",
      "number_of_pcs= 30\n",
      "n_neighbours_for_pooling= 10\n",
      "top_variable_genes= 10000\n"
     ]
    },
    {
     "data": {
      "text/plain": [
       "AnnData object with n_obs × n_vars = 5050 × 10000\n",
       "    uns: 'Already_Log_Transformed', 'Counts', 'CytoTRACE', 'GCS', 'Global_FisherS_GPW', 'Normalize_Totals', 'Order', 'PC1', 'Phenotype', 'X_fa', 'X_tsne', 'X_umap', 'allcellnames', 'allgenenames', 'cellnames', 'conditional_number', 'cytoGenes', 'gcsGenes', 'gcsGenesNames', 'ind_samples', 'info', 'lid100', 'n_neighbours_for_pooling', 'number_of_pcs', 'pca', 'surrogate_CytoTRACE', 'surrogate_PC1', 'top_variable_genes'\n",
       "    obsm: 'PC1', 'X_pca'\n",
       "    varm: 'PCs'"
      ]
     },
     "metadata": {},
     "output_type": "display_data"
    },
    {
     "name": "stdout",
     "output_type": "stream",
     "text": [
      "==========================================================\n",
      "\n",
      "\n",
      "Loading GSE75330_36\n",
      "PREPROCESSING PARAMETERS:\n",
      "Already_Log_Transformed= True\n",
      "Normalize_Totals= False\n",
      "number_of_pcs= 30\n",
      "n_neighbours_for_pooling= 10\n",
      "top_variable_genes= 10000\n"
     ]
    },
    {
     "data": {
      "text/plain": [
       "AnnData object with n_obs × n_vars = 5050 × 10000\n",
       "    uns: 'Already_Log_Transformed', 'Counts', 'CytoTRACE', 'GCS', 'Global_FisherS_GPW', 'Normalize_Totals', 'Order', 'PC1', 'Phenotype', 'X_fa', 'X_tsne', 'X_umap', 'allcellnames', 'allgenenames', 'cellnames', 'conditional_number', 'cytoGenes', 'gcsGenes', 'gcsGenesNames', 'ind_samples', 'info', 'lid100', 'n_neighbours_for_pooling', 'number_of_pcs', 'pca', 'surrogate_CytoTRACE', 'surrogate_PC1', 'top_variable_genes'\n",
       "    obsm: 'PC1', 'X_pca'\n",
       "    varm: 'PCs'"
      ]
     },
     "metadata": {},
     "output_type": "display_data"
    },
    {
     "name": "stdout",
     "output_type": "stream",
     "text": [
      "==========================================================\n",
      "\n",
      "\n",
      "Loading GSE87375_37\n",
      "PREPROCESSING PARAMETERS:\n",
      "Already_Log_Transformed= True\n",
      "Normalize_Totals= False\n",
      "number_of_pcs= 30\n",
      "n_neighbours_for_pooling= 5\n",
      "top_variable_genes= 10000\n"
     ]
    },
    {
     "data": {
      "text/plain": [
       "AnnData object with n_obs × n_vars = 338 × 10000\n",
       "    uns: 'Already_Log_Transformed', 'Counts', 'CytoTRACE', 'GCS', 'Global_FisherS_GPW', 'Normalize_Totals', 'Order', 'PC1', 'Phenotype', 'X_fa', 'X_tsne', 'X_umap', 'allcellnames', 'allgenenames', 'cellnames', 'conditional_number', 'cytoGenes', 'gcsGenes', 'gcsGenesNames', 'ind_samples', 'info', 'lid67', 'n_neighbours_for_pooling', 'number_of_pcs', 'pca', 'surrogate_CytoTRACE', 'surrogate_PC1', 'top_variable_genes'\n",
       "    obsm: 'PC1', 'X_pca'\n",
       "    varm: 'PCs'"
      ]
     },
     "metadata": {},
     "output_type": "display_data"
    },
    {
     "name": "stdout",
     "output_type": "stream",
     "text": [
      "==========================================================\n",
      "\n",
      "\n",
      "Loading GSE87375_38\n",
      "PREPROCESSING PARAMETERS:\n",
      "Already_Log_Transformed= True\n",
      "Normalize_Totals= False\n",
      "number_of_pcs= 30\n",
      "n_neighbours_for_pooling= 10\n",
      "top_variable_genes= 10000\n"
     ]
    },
    {
     "data": {
      "text/plain": [
       "AnnData object with n_obs × n_vars = 575 × 10000\n",
       "    uns: 'Already_Log_Transformed', 'Counts', 'CytoTRACE', 'GCS', 'Global_FisherS_GPW', 'Normalize_Totals', 'Order', 'PC1', 'Phenotype', 'X_fa', 'X_tsne', 'X_umap', 'allcellnames', 'allgenenames', 'cellnames', 'conditional_number', 'cytoGenes', 'gcsGenes', 'gcsGenesNames', 'ind_samples', 'info', 'lid100', 'n_neighbours_for_pooling', 'number_of_pcs', 'pca', 'surrogate_CytoTRACE', 'surrogate_PC1', 'top_variable_genes'\n",
       "    obsm: 'PC1', 'X_pca'\n",
       "    varm: 'PCs'"
      ]
     },
     "metadata": {},
     "output_type": "display_data"
    },
    {
     "name": "stdout",
     "output_type": "stream",
     "text": [
      "==========================================================\n",
      "\n",
      "\n",
      "Loading GSE103633_39\n",
      "PREPROCESSING PARAMETERS:\n",
      "Already_Log_Transformed= True\n",
      "Normalize_Totals= False\n",
      "number_of_pcs= 30\n",
      "n_neighbours_for_pooling= 10\n",
      "top_variable_genes= 10000\n"
     ]
    },
    {
     "data": {
      "text/plain": [
       "AnnData object with n_obs × n_vars = 6000 × 10000\n",
       "    uns: 'Already_Log_Transformed', 'Counts', 'CytoTRACE', 'GCS', 'Global_FisherS_GPW', 'Normalize_Totals', 'Order', 'PC1', 'Phenotype', 'X_fa', 'X_tsne', 'X_umap', 'allcellnames', 'allgenenames', 'cellnames', 'conditional_number', 'cytoGenes', 'gcsGenes', 'gcsGenesNames', 'ind_samples', 'info', 'lid100', 'n_neighbours_for_pooling', 'number_of_pcs', 'pca', 'surrogate_CytoTRACE', 'surrogate_PC1', 'top_variable_genes'\n",
       "    obsm: 'PC1', 'X_pca'\n",
       "    varm: 'PCs'"
      ]
     },
     "metadata": {},
     "output_type": "display_data"
    },
    {
     "name": "stdout",
     "output_type": "stream",
     "text": [
      "==========================================================\n",
      "\n",
      "\n",
      "Loading GSE107910_40\n",
      "PREPROCESSING PARAMETERS:\n",
      "Already_Log_Transformed= True\n",
      "Normalize_Totals= False\n",
      "number_of_pcs= 30\n",
      "n_neighbours_for_pooling= 10\n",
      "top_variable_genes= 10000\n"
     ]
    },
    {
     "data": {
      "text/plain": [
       "AnnData object with n_obs × n_vars = 9307 × 10000\n",
       "    uns: 'Already_Log_Transformed', 'Counts', 'CytoTRACE', 'GCS', 'Global_FisherS_GPW', 'Normalize_Totals', 'Order', 'PC1', 'Phenotype', 'X_fa', 'X_tsne', 'X_umap', 'allcellnames', 'allgenenames', 'cellnames', 'conditional_number', 'cytoGenes', 'gcsGenes', 'gcsGenesNames', 'ind_samples', 'info', 'lid100', 'n_neighbours_for_pooling', 'number_of_pcs', 'pca', 'surrogate_CytoTRACE', 'surrogate_PC1', 'top_variable_genes'\n",
       "    obsm: 'PC1', 'X_pca'\n",
       "    varm: 'PCs'"
      ]
     },
     "metadata": {},
     "output_type": "display_data"
    },
    {
     "name": "stdout",
     "output_type": "stream",
     "text": [
      "==========================================================\n",
      "\n",
      "\n",
      "Loading GSE106587_41\n",
      "PREPROCESSING PARAMETERS:\n",
      "Already_Log_Transformed= True\n",
      "Normalize_Totals= False\n",
      "number_of_pcs= 30\n",
      "n_neighbours_for_pooling= 10\n",
      "top_variable_genes= 10000\n"
     ]
    },
    {
     "data": {
      "text/plain": [
       "AnnData object with n_obs × n_vars = 6000 × 10000\n",
       "    uns: 'Already_Log_Transformed', 'Counts', 'CytoTRACE', 'GCS', 'Global_FisherS_GPW', 'Normalize_Totals', 'Order', 'PC1', 'Phenotype', 'X_fa', 'X_tsne', 'X_umap', 'allcellnames', 'allgenenames', 'cellnames', 'conditional_number', 'cytoGenes', 'gcsGenes', 'gcsGenesNames', 'ind_samples', 'info', 'lid100', 'n_neighbours_for_pooling', 'number_of_pcs', 'pca', 'surrogate_CytoTRACE', 'surrogate_PC1', 'top_variable_genes'\n",
       "    obsm: 'PC1', 'X_pca'\n",
       "    varm: 'PCs'"
      ]
     },
     "metadata": {},
     "output_type": "display_data"
    },
    {
     "name": "stdout",
     "output_type": "stream",
     "text": [
      "==========================================================\n",
      "\n",
      "\n"
     ]
    }
   ],
   "source": [
    "## DETERMINE THE SIGN OF THE PC1 such that most of the genes would correlate positively with it\n",
    "\n",
    "mean_gene_corrs = []\n",
    "\n",
    "for i in range(len(datasets)):\n",
    "    dataset = datasets[i]\n",
    "    print('Loading',datasets[i])\n",
    "    adata_orig = sc.read_h5ad(folder_out+dataset+'.h5ad')\n",
    "    adata = adata_orig.copy()\n",
    "    \n",
    "    ind_samples = adata.uns['ind_samples']\n",
    "    Already_Log_Transformed = adata.uns['Already_Log_Transformed']\n",
    "    Normalize_Totals = adata.uns['Normalize_Totals']\n",
    "    number_of_pcs = adata.uns['number_of_pcs']\n",
    "    n_neighbours_for_pooling = adata.uns['n_neighbours_for_pooling']\n",
    "    top_variable_genes = adata.uns['top_variable_genes']\n",
    "    print('PREPROCESSING PARAMETERS:')\n",
    "    print('Already_Log_Transformed=',Already_Log_Transformed)\n",
    "    print('Normalize_Totals=',Normalize_Totals)\n",
    "    print('number_of_pcs=',number_of_pcs)\n",
    "    print('n_neighbours_for_pooling=',n_neighbours_for_pooling)\n",
    "    print('top_variable_genes=',top_variable_genes)\n",
    "            \n",
    "    if n_neighbours_for_pooling>0:\n",
    "        adata = pooling_procedure(adata)\n",
    "    adata = preprocessing_dataset(adata)\n",
    "\n",
    "    pc1 = adata.obsm['PC1']\n",
    "    \n",
    "    X = adata.X.T\n",
    "    gene_corrs = np.zeros(len(X))\n",
    "    for k in range(len(X)):\n",
    "        gene_corrs[k] = stats.pearsonr(X[k,:],pc1)[0]\n",
    "    if np.mean(gene_corrs)<0:\n",
    "        adata.obsm['PC1'] = -pc1\n",
    "\n",
    "    mean_gene_corrs.append(np.mean(gene_corrs))\n",
    "    \n",
    "    adata.write(filename=folder_out+datasets[i]+'.h5ad')\n",
    "    print('==========================================================\\n\\n')    \n"
   ]
  },
  {
   "cell_type": "code",
   "execution_count": 12,
   "metadata": {},
   "outputs": [
    {
     "name": "stdout",
     "output_type": "stream",
     "text": [
      "inds= [14 41 27 22 38  7 34 25  5 17 40 26 24 32  4 36 39 31 19 11 35  0]\n"
     ]
    },
    {
     "data": {
      "image/png": "[encoded data removed]",
      "text/plain": [
       "<Figure size 1440x360 with 1 Axes>"
      ]
     },
     "metadata": {
      "needs_background": "light"
     },
     "output_type": "display_data"
    },
    {
     "data": {
      "image/png": "[encoded data removed]",
      "text/plain": [
       "<Figure size 1440x360 with 1 Axes>"
      ]
     },
     "metadata": {
      "needs_background": "light"
     },
     "output_type": "display_data"
    },
    {
     "data": {
      "image/png": "[encoded data removed]",
      "text/plain": [
       "<Figure size 1440x144 with 1 Axes>"
      ]
     },
     "metadata": {
      "needs_background": "light"
     },
     "output_type": "display_data"
    }
   ],
   "source": [
    "min_number_of_cells = 500\n",
    "\n",
    "methods = ['FisherS_GPW','FisherS','PCA_FO_0_1','PCA_FO_0_05','ESS','DANCo','TwoNN','PCA_BS','PCA_KS']\n",
    "colors = ['m','g','c','y','brown','orange','purple','olive','pink']\n",
    "\n",
    "correlations_cytotrace_order = correlations_score_order['CytoTRACE']\n",
    "correlations_pc1_order = correlations_score_order['PC1']\n",
    "correlations_FisherGPW_surrogate_order = correlations_surrogatescore_order['FisherS_GPW']\n",
    "correlations_Fisher_local_surrogate_order = correlations_surrogatescore_order['FisherS']\n",
    "correlations_PCA_FO_0_1_surrogate_order = correlations_surrogatescore_order['PCA_FO_0_1']\n",
    "correlations_PCA_FO_0_05_surrogate_order = correlations_surrogatescore_order['PCA_FO_0_05']\n",
    "\n",
    "#score_for_sorting = np.abs(np.array(correlations_cytotrace_order))-np.abs((np.array(correlations_pc1_order)))\n",
    "score_for_sorting = np.array(correlations_cytotrace_order)\n",
    "inds = np.argsort(score_for_sorting)\n",
    "\n",
    "filtered_inds = []\n",
    "for i in inds:\n",
    "    if number_of_cells[i]>min_number_of_cells:\n",
    "        filtered_inds.append(i)\n",
    "inds = np.array(filtered_inds)\n",
    "inds1 = inds\n",
    "print('inds=',inds)\n",
    "\n",
    "plt.figure(figsize=(20,5))\n",
    "labels=np.array(datasets)[inds]\n",
    "plt.plot(np.abs(np.array(correlations_cytotrace_order))[inds],'ro-',linewidth=5)\n",
    "plt.plot(np.abs(np.array(correlations_pc1_order))[inds],'bo-',linewidth=5)\n",
    "for i,meth in enumerate(methods):\n",
    "        lw = 1\n",
    "        if (meth=='ESS') | (meth=='FisherS_GPW'):\n",
    "            lw = 10\n",
    "        plt.plot(np.abs(np.array(correlations_surrogatescore_order[meth]))[inds],'o-',color=colors[i],linewidth=lw)\n",
    "plt.plot([0,len(inds)],[0,0],'k--',alpha=0.2)\n",
    "plt.xlim([-0.5,len(inds)])\n",
    "plt.ylim([0,1])\n",
    "plt.legend(['CytoTRACE','PC1']+methods,fontsize=14)\n",
    "plt.xticks(range(0,len(inds)),labels=labels,rotation='vertical',fontsize=20)\n",
    "plt.title('Weighted absolute correlation with ORDER',fontsize=20)\n",
    "plt.show()\n",
    "\n",
    "#plt.figure(figsize=(20,5))\n",
    "#labels=np.array(datasets)[inds]\n",
    "#plt.plot(np.abs(np.array(correlations_cytotrace_order))[inds],'ko-')\n",
    "#plt.plot(np.abs(np.array(correlations_pc1_order))[inds],'bo-')\n",
    "#plt.plot(np.abs(np.array(correlations_FisherGPW_surrogate_order))[inds],'ro-',linewidth=5)\n",
    "#plt.plot([0,len(inds)],[0,0],'k--',alpha=0.2)\n",
    "#plt.xlim([-0.5,len(inds)])\n",
    "#plt.ylim([0,1])\n",
    "#plt.legend(['CytoTRACE','PC1','FisherGPW','ESS'],fontsize=14)\n",
    "#plt.xticks(range(0,len(inds)),labels=labels,rotation='vertical',fontsize=20)\n",
    "#plt.show()\n",
    "\n",
    "\n",
    "plt.figure(figsize=(20,5))\n",
    "plt.plot((np.array(correlations_cytotrace_order))[inds],'ro-')\n",
    "plt.plot((np.array(correlations_pc1_order))[inds],'bo-')\n",
    "plt.plot((np.array(correlations_FisherGPW_surrogate_order))[inds],'mo-',linewidth=5)\n",
    "plt.plot((np.array(correlations_surrogatescore_order['ESS']))[inds],'o-',color='brown',linewidth=5)\n",
    "plt.plot([0,len(inds)],[0,0],'k--',alpha=0.2)\n",
    "plt.xlim([-0.5,len(inds)])\n",
    "plt.ylim([-1,1])\n",
    "plt.legend(['CytoTRACE','PC1','FisherGPW','ESS'],fontsize=14)\n",
    "plt.xticks(range(0,len(inds)),labels=labels,rotation='vertical',fontsize=20)\n",
    "plt.title('Weighted correlation with ORDER',fontsize=20)\n",
    "plt.show()\n",
    "\n",
    "\n",
    "plt.figure(figsize=(20,2))\n",
    "plt.plot(np.log10(np.array(number_of_cells))[inds],'ko-',linewidth=5)\n",
    "plt.xlim([-0.5,len(inds)])\n",
    "plt.legend(['Number of cells, log10'])\n",
    "#plt.xticks(range(0,len(inds)),labels=labels,rotation='vertical',fontsize=20)\n",
    "plt.show()\n",
    "\n",
    "#plt.figure(figsize=(20,2))\n",
    "#plt.plot(np.array(global_FisherS)[inds],'ko-',linewidth=5)\n",
    "#plt.plot(np.array(global_PCA_FO_0_1)[inds],'ro-',linewidth=5)\n",
    "#plt.plot(np.array(global_PCA_FO_0_05)[inds],'bo-',linewidth=5)\n",
    "#plt.legend(['Global FisherS','Global PCA_FO_0_1','PCA_FO_0_05'])\n",
    "#plt.xlim([-0.5,len(inds)])\n",
    "#plt.xticks(range(0,len(inds)),labels=labels,rotation='vertical',fontsize=20)\n",
    "#plt.show()"
   ]
  },
  {
   "cell_type": "code",
   "execution_count": 13,
   "metadata": {},
   "outputs": [
    {
     "data": {
      "image/png": "[encoded data removed]",
      "text/plain": [
       "<Figure size 720x720 with 4 Axes>"
      ]
     },
     "metadata": {
      "needs_background": "light"
     },
     "output_type": "display_data"
    }
   ],
   "source": [
    "plt.figure(figsize=(10,10))\n",
    "\n",
    "score_for_sorting = (np.abs(np.array(correlations_cytotrace_order))-np.abs(np.abs(np.array(correlations_pc1_order))))\n",
    "inds = np.argsort(score_for_sorting)\n",
    "\n",
    "filtered_inds = []\n",
    "for i in inds:\n",
    "    if number_of_cells[i]>min_number_of_cells:\n",
    "        filtered_inds.append(i)\n",
    "inds = np.array(filtered_inds)\n",
    "\n",
    "plt.subplot(221)\n",
    "plt.hist((np.array(correlations_cytotrace_order)[inds]),bins=40)\n",
    "plt.title('CytoTRACE vs Order')\n",
    "plt.xlim([-1,1])\n",
    "\n",
    "plt.subplot(222)\n",
    "plt.hist(np.abs(np.array(correlations_pc1_order)[inds]),bins=40)\n",
    "plt.title('ABS PC1 vs Order')\n",
    "plt.xlim([-1,1])\n",
    "\n",
    "plt.subplot(223)\n",
    "plt.hist((np.array(correlations_FisherGPW_surrogate_order)[inds]),bins=40)\n",
    "plt.title('Fisher GPW surrogate vs Order')\n",
    "plt.xlim([-1,1])\n",
    "\n",
    "plt.subplot(224)\n",
    "plt.hist((np.array(correlations_Fisher_local_surrogate_order)[inds]),bins=40)\n",
    "plt.title('Fisher local surrogate vs Order')\n",
    "plt.xlim([-1,1])\n",
    "\n",
    "\n",
    "plt.show()"
   ]
  },
  {
   "cell_type": "code",
   "execution_count": 23,
   "metadata": {},
   "outputs": [
    {
     "name": "stdout",
     "output_type": "stream",
     "text": [
      "Failures of FisherS_GPW:\n",
      "GSE95753_5 0.2009065657605179\n",
      "GSE86146_19 0.38152037912315917\n",
      "GSE75330_35 -0.33175946545713586\n",
      "GSE75330_36 -0.23188803318078308\n",
      "GSE103633_39 -0.27798876782915755\n",
      "Cases when FisherS_GPW is very differnt from CytoTRACE:\n",
      "GSE95753_5 FisherS_GPW= 0.2009065657605179 CytoTRACE= -0.7595732234985685\n",
      "GSE67602_11 FisherS_GPW= 0.5401307121879283 CytoTRACE= 0.23900333444550753\n",
      "GSE97391_22 FisherS_GPW= -0.5793252350900312 CytoTRACE= -0.880044268237439\n",
      "GSE103633_39 FisherS_GPW= -0.27798876782915755 CytoTRACE= -0.5888974127919995\n"
     ]
    },
    {
     "data": {
      "image/png": "[encoded data removed]",
      "text/plain": [
       "<Figure size 720x432 with 1 Axes>"
      ]
     },
     "metadata": {
      "needs_background": "light"
     },
     "output_type": "display_data"
    },
    {
     "data": {
      "image/png": "[encoded data removed]",
      "text/plain": [
       "<Figure size 720x432 with 1 Axes>"
      ]
     },
     "metadata": {
      "needs_background": "light"
     },
     "output_type": "display_data"
    }
   ],
   "source": [
    "methods = ['FisherS_GPW','FisherS','PCA_FO_0_1','PCA_FO_0_05','ESS','DANCo','TwoNN','PCA_BS','PCA_KS']\n",
    "colors = ['m','g','c','y','brown','orange','purple','olive','pink']\n",
    "id_pal = {}\n",
    "id_pal['CytoTRACE'] = 'r'\n",
    "id_pal['PC1'] = 'b'\n",
    "for i,meth in enumerate(methods):\n",
    "    id_pal[meth] = colors[i]\n",
    "    \n",
    "min_number_of_cells = 500\n",
    "inds_numcells = np.argwhere(np.array(number_of_cells)>min_number_of_cells)\n",
    "\n",
    "data = {'ID':list(np.array(datasets)[inds_numcells]),\n",
    "        'CytoTRACE':list(np.array(correlations_score_order['CytoTRACE'])[inds_numcells]),\n",
    "        'PC1':list(np.array(correlations_score_order['PC1'])[inds_numcells])}\n",
    "for meth in methods:\n",
    "    data[meth] = list(np.array(correlations_surrogatescore_order[meth])[inds_numcells])\n",
    "    \n",
    "print('Failures of FisherS_GPW:')\n",
    "for i in inds_numcells:\n",
    "    corr = correlations_surrogatescore_order['FisherS_GPW'][i[0]]\n",
    "    if abs(corr)<0.4:\n",
    "        print(datasets[i[0]],corr)\n",
    "        \n",
    "print('Cases when FisherS_GPW is very differnt from CytoTRACE:')\n",
    "for i in inds_numcells:\n",
    "    corrFS = correlations_surrogatescore_order['FisherS_GPW'][i[0]]\n",
    "    corrCT = correlations_surrogatescore_order['CytoTRACE'][i[0]]\n",
    "    if abs(abs(corrFS)-abs(corrCT))>0.3:\n",
    "        print(datasets[i[0]],'FisherS_GPW=',corrFS,'CytoTRACE=',corrCT)\n",
    "\n",
    "    \n",
    "df = pd.DataFrame(data)\n",
    "cols = df.columns.tolist()\n",
    "inds = np.argsort(df.mean().to_numpy())\n",
    "cols_new = [cols[0]]+[cols[1+i] for i in inds]\n",
    "plt.figure(figsize=(10,6))\n",
    "sns.stripplot(data=df[cols_new],color='k')\n",
    "plt.plot([-0.5,len(inds)],[0,0],'k--')\n",
    "chart = sns.boxplot(data=df[cols_new], showfliers = False, palette=id_pal, boxprops=dict(alpha=.5))\n",
    "chart.set_xticklabels(chart.get_xticklabels(), rotation=90, fontsize=20)\n",
    "plt.xlim([-0.5,len(inds)])\n",
    "plt.title('Mean weighted correlation with ORDER',fontsize=20)\n",
    "plt.show()\n",
    "\n",
    "data = {'ID':list(np.array(datasets)[inds_numcells]),\n",
    "        'CytoTRACE':list(np.abs(np.array(correlations_score_order['CytoTRACE'])[inds_numcells])),\n",
    "        'PC1':list(np.abs(np.array(correlations_score_order['PC1'])[inds_numcells]))}\n",
    "for meth in methods:\n",
    "    data[meth] = list(np.abs(np.array(correlations_surrogatescore_order[meth])[inds_numcells]))\n",
    "    \n",
    "df = pd.DataFrame(data)\n",
    "cols = df.columns.tolist()\n",
    "inds = np.argsort(-df.mean().to_numpy())\n",
    "cols_new = [cols[0]]+[cols[1+i] for i in inds]\n",
    "plt.figure(figsize=(10,6))\n",
    "sns.stripplot(data=df[cols_new],color='k')\n",
    "plt.plot([-0.5,len(inds)],[0,0],'k--')\n",
    "chart = sns.boxplot(data=df[cols_new], showfliers = False, palette=id_pal, boxprops=dict(alpha=.5))\n",
    "chart.set_xticklabels(chart.get_xticklabels(), rotation=90, fontsize=20)\n",
    "plt.xlim([-0.5,len(inds)])\n",
    "plt.title('Mean weighted absolute correlation with ORDER',fontsize=20)\n",
    "plt.show()\n"
   ]
  },
  {
   "cell_type": "code",
   "execution_count": null,
   "metadata": {},
   "outputs": [],
   "source": []
  },
  {
   "cell_type": "code",
   "execution_count": null,
   "metadata": {},
   "outputs": [],
   "source": []
  },
  {
   "cell_type": "code",
   "execution_count": null,
   "metadata": {},
   "outputs": [],
   "source": []
  },
  {
   "cell_type": "code",
   "execution_count": null,
   "metadata": {},
   "outputs": [],
   "source": []
  },
  {
   "cell_type": "code",
   "execution_count": null,
   "metadata": {},
   "outputs": [],
   "source": []
  },
  {
   "cell_type": "code",
   "execution_count": null,
   "metadata": {},
   "outputs": [],
   "source": []
  },
  {
   "cell_type": "code",
   "execution_count": null,
   "metadata": {},
   "outputs": [],
   "source": []
  }
 ],
 "metadata": {
  "kernelspec": {
   "display_name": "Python 3",
   "language": "python",
   "name": "python3"
  },
  "language_info": {
   "codemirror_mode": {
    "name": "ipython",
    "version": 3
   },
   "file_extension": ".py",
   "mimetype": "text/x-python",
   "name": "python",
   "nbconvert_exporter": "python",
   "pygments_lexer": "ipython3",
   "version": "3.7.5"
  }
 },
 "nbformat": 4,
 "nbformat_minor": 4
}
